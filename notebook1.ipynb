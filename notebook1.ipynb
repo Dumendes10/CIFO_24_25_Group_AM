{
 "cells": [
  {
   "cell_type": "markdown",
   "id": "cad78d35",
   "metadata": {},
   "source": [
    "# Computation Intelligence for Optimization | Sports League Optimization"
   ]
  },
  {
   "cell_type": "markdown",
   "id": "009dc5cb",
   "metadata": {},
   "source": [
    "`Group AM`\n",
    "- Eduardo Mendes, 20240850\n",
    "- Helena Duarte, 20240530\n",
    "- João Freire, 20240528\n",
    "- Mariana Sousa, 20240516"
   ]
  },
  {
   "cell_type": "markdown",
   "id": "5d3862e6",
   "metadata": {},
   "source": [
    "<div class=\"alert alert-block alert-info\">\n",
    "\n",
    "# Table of Contents\n",
    "    \n",
    "[1. Import Libraries](#1)<br>\n",
    "\n",
    "[2. Load data](#2)<br>"
   ]
  },
  {
   "cell_type": "markdown",
   "id": "c4f90bbb",
   "metadata": {},
   "source": [
    "<a class=\"anchor\" id=\"1\">\n",
    "\n",
    "# 1. Import Libraries\n",
    "    \n",
    "</a>"
   ]
  },
  {
   "cell_type": "code",
   "execution_count": 1,
   "id": "8788a945",
   "metadata": {},
   "outputs": [],
   "source": [
    "import os\n",
    "import pandas as pd"
   ]
  },
  {
   "cell_type": "markdown",
   "id": "6da5f17f",
   "metadata": {},
   "source": [
    "<a class=\"anchor\" id=\"2\">\n",
    "\n",
    "# 2. Load data\n",
    "    \n",
    "</a>"
   ]
  },
  {
   "cell_type": "code",
   "execution_count": 2,
   "id": "047744e9",
   "metadata": {},
   "outputs": [
    {
     "data": {
      "text/html": [
       "<div>\n",
       "<style scoped>\n",
       "    .dataframe tbody tr th:only-of-type {\n",
       "        vertical-align: middle;\n",
       "    }\n",
       "\n",
       "    .dataframe tbody tr th {\n",
       "        vertical-align: top;\n",
       "    }\n",
       "\n",
       "    .dataframe thead th {\n",
       "        text-align: right;\n",
       "    }\n",
       "</style>\n",
       "<table border=\"1\" class=\"dataframe\">\n",
       "  <thead>\n",
       "    <tr style=\"text-align: right;\">\n",
       "      <th></th>\n",
       "      <th>Name</th>\n",
       "      <th>Position</th>\n",
       "      <th>Skill</th>\n",
       "      <th>Salary (€M)</th>\n",
       "    </tr>\n",
       "  </thead>\n",
       "  <tbody>\n",
       "    <tr>\n",
       "      <th>0</th>\n",
       "      <td>Alex Carter</td>\n",
       "      <td>GK</td>\n",
       "      <td>85</td>\n",
       "      <td>90</td>\n",
       "    </tr>\n",
       "    <tr>\n",
       "      <th>1</th>\n",
       "      <td>Jordan Smith</td>\n",
       "      <td>GK</td>\n",
       "      <td>88</td>\n",
       "      <td>100</td>\n",
       "    </tr>\n",
       "    <tr>\n",
       "      <th>2</th>\n",
       "      <td>Ryan Mitchell</td>\n",
       "      <td>GK</td>\n",
       "      <td>83</td>\n",
       "      <td>85</td>\n",
       "    </tr>\n",
       "    <tr>\n",
       "      <th>3</th>\n",
       "      <td>Chris Thompson</td>\n",
       "      <td>GK</td>\n",
       "      <td>80</td>\n",
       "      <td>80</td>\n",
       "    </tr>\n",
       "    <tr>\n",
       "      <th>4</th>\n",
       "      <td>Blake Henderson</td>\n",
       "      <td>GK</td>\n",
       "      <td>87</td>\n",
       "      <td>95</td>\n",
       "    </tr>\n",
       "    <tr>\n",
       "      <th>5</th>\n",
       "      <td>Daniel Foster</td>\n",
       "      <td>DEF</td>\n",
       "      <td>90</td>\n",
       "      <td>110</td>\n",
       "    </tr>\n",
       "    <tr>\n",
       "      <th>6</th>\n",
       "      <td>Lucas Bennett</td>\n",
       "      <td>DEF</td>\n",
       "      <td>85</td>\n",
       "      <td>90</td>\n",
       "    </tr>\n",
       "    <tr>\n",
       "      <th>7</th>\n",
       "      <td>Owen Parker</td>\n",
       "      <td>DEF</td>\n",
       "      <td>88</td>\n",
       "      <td>100</td>\n",
       "    </tr>\n",
       "    <tr>\n",
       "      <th>8</th>\n",
       "      <td>Ethan Howard</td>\n",
       "      <td>DEF</td>\n",
       "      <td>80</td>\n",
       "      <td>70</td>\n",
       "    </tr>\n",
       "    <tr>\n",
       "      <th>9</th>\n",
       "      <td>Mason Reed</td>\n",
       "      <td>DEF</td>\n",
       "      <td>82</td>\n",
       "      <td>75</td>\n",
       "    </tr>\n",
       "    <tr>\n",
       "      <th>10</th>\n",
       "      <td>Logan Brooks</td>\n",
       "      <td>DEF</td>\n",
       "      <td>86</td>\n",
       "      <td>95</td>\n",
       "    </tr>\n",
       "    <tr>\n",
       "      <th>11</th>\n",
       "      <td>Caleb Fisher</td>\n",
       "      <td>DEF</td>\n",
       "      <td>84</td>\n",
       "      <td>85</td>\n",
       "    </tr>\n",
       "    <tr>\n",
       "      <th>12</th>\n",
       "      <td>Nathan Wright</td>\n",
       "      <td>MID</td>\n",
       "      <td>92</td>\n",
       "      <td>120</td>\n",
       "    </tr>\n",
       "    <tr>\n",
       "      <th>13</th>\n",
       "      <td>Connor Hayes</td>\n",
       "      <td>MID</td>\n",
       "      <td>89</td>\n",
       "      <td>105</td>\n",
       "    </tr>\n",
       "    <tr>\n",
       "      <th>14</th>\n",
       "      <td>Dylan Morgan</td>\n",
       "      <td>MID</td>\n",
       "      <td>91</td>\n",
       "      <td>115</td>\n",
       "    </tr>\n",
       "    <tr>\n",
       "      <th>15</th>\n",
       "      <td>Hunter Cooper</td>\n",
       "      <td>MID</td>\n",
       "      <td>83</td>\n",
       "      <td>85</td>\n",
       "    </tr>\n",
       "    <tr>\n",
       "      <th>16</th>\n",
       "      <td>Austin Torres</td>\n",
       "      <td>MID</td>\n",
       "      <td>82</td>\n",
       "      <td>80</td>\n",
       "    </tr>\n",
       "    <tr>\n",
       "      <th>17</th>\n",
       "      <td>Gavin Richardson</td>\n",
       "      <td>MID</td>\n",
       "      <td>87</td>\n",
       "      <td>95</td>\n",
       "    </tr>\n",
       "    <tr>\n",
       "      <th>18</th>\n",
       "      <td>Spencer Ward</td>\n",
       "      <td>MID</td>\n",
       "      <td>84</td>\n",
       "      <td>85</td>\n",
       "    </tr>\n",
       "    <tr>\n",
       "      <th>19</th>\n",
       "      <td>Sebastian Perry</td>\n",
       "      <td>FWD</td>\n",
       "      <td>95</td>\n",
       "      <td>150</td>\n",
       "    </tr>\n",
       "    <tr>\n",
       "      <th>20</th>\n",
       "      <td>Xavier Bryant</td>\n",
       "      <td>FWD</td>\n",
       "      <td>90</td>\n",
       "      <td>120</td>\n",
       "    </tr>\n",
       "    <tr>\n",
       "      <th>21</th>\n",
       "      <td>Elijah Sanders</td>\n",
       "      <td>FWD</td>\n",
       "      <td>93</td>\n",
       "      <td>140</td>\n",
       "    </tr>\n",
       "    <tr>\n",
       "      <th>22</th>\n",
       "      <td>Adrian Collins</td>\n",
       "      <td>FWD</td>\n",
       "      <td>85</td>\n",
       "      <td>90</td>\n",
       "    </tr>\n",
       "    <tr>\n",
       "      <th>23</th>\n",
       "      <td>Tyler Jenkins</td>\n",
       "      <td>FWD</td>\n",
       "      <td>80</td>\n",
       "      <td>70</td>\n",
       "    </tr>\n",
       "    <tr>\n",
       "      <th>24</th>\n",
       "      <td>Chase Murphy</td>\n",
       "      <td>FWD</td>\n",
       "      <td>86</td>\n",
       "      <td>95</td>\n",
       "    </tr>\n",
       "    <tr>\n",
       "      <th>25</th>\n",
       "      <td>Landon Powell</td>\n",
       "      <td>FWD</td>\n",
       "      <td>89</td>\n",
       "      <td>110</td>\n",
       "    </tr>\n",
       "    <tr>\n",
       "      <th>26</th>\n",
       "      <td>Julian Scott</td>\n",
       "      <td>FWD</td>\n",
       "      <td>92</td>\n",
       "      <td>130</td>\n",
       "    </tr>\n",
       "    <tr>\n",
       "      <th>27</th>\n",
       "      <td>Bentley Rivera</td>\n",
       "      <td>MID</td>\n",
       "      <td>88</td>\n",
       "      <td>100</td>\n",
       "    </tr>\n",
       "    <tr>\n",
       "      <th>28</th>\n",
       "      <td>Maxwell Flores</td>\n",
       "      <td>DEF</td>\n",
       "      <td>81</td>\n",
       "      <td>72</td>\n",
       "    </tr>\n",
       "    <tr>\n",
       "      <th>29</th>\n",
       "      <td>Dominic Bell</td>\n",
       "      <td>MID</td>\n",
       "      <td>86</td>\n",
       "      <td>95</td>\n",
       "    </tr>\n",
       "    <tr>\n",
       "      <th>30</th>\n",
       "      <td>Jaxon Griffin</td>\n",
       "      <td>DEF</td>\n",
       "      <td>79</td>\n",
       "      <td>65</td>\n",
       "    </tr>\n",
       "    <tr>\n",
       "      <th>31</th>\n",
       "      <td>Ashton Phillips</td>\n",
       "      <td>MID</td>\n",
       "      <td>90</td>\n",
       "      <td>110</td>\n",
       "    </tr>\n",
       "    <tr>\n",
       "      <th>32</th>\n",
       "      <td>Colton Gray</td>\n",
       "      <td>FWD</td>\n",
       "      <td>91</td>\n",
       "      <td>125</td>\n",
       "    </tr>\n",
       "    <tr>\n",
       "      <th>33</th>\n",
       "      <td>Brayden Hughes</td>\n",
       "      <td>DEF</td>\n",
       "      <td>87</td>\n",
       "      <td>100</td>\n",
       "    </tr>\n",
       "    <tr>\n",
       "      <th>34</th>\n",
       "      <td>Zachary Nelson</td>\n",
       "      <td>FWD</td>\n",
       "      <td>86</td>\n",
       "      <td>92</td>\n",
       "    </tr>\n",
       "  </tbody>\n",
       "</table>\n",
       "</div>"
      ],
      "text/plain": [
       "                Name Position  Skill  Salary (€M)\n",
       "0        Alex Carter       GK     85           90\n",
       "1       Jordan Smith       GK     88          100\n",
       "2      Ryan Mitchell       GK     83           85\n",
       "3     Chris Thompson       GK     80           80\n",
       "4    Blake Henderson       GK     87           95\n",
       "5      Daniel Foster      DEF     90          110\n",
       "6      Lucas Bennett      DEF     85           90\n",
       "7        Owen Parker      DEF     88          100\n",
       "8       Ethan Howard      DEF     80           70\n",
       "9         Mason Reed      DEF     82           75\n",
       "10      Logan Brooks      DEF     86           95\n",
       "11      Caleb Fisher      DEF     84           85\n",
       "12     Nathan Wright      MID     92          120\n",
       "13      Connor Hayes      MID     89          105\n",
       "14      Dylan Morgan      MID     91          115\n",
       "15     Hunter Cooper      MID     83           85\n",
       "16     Austin Torres      MID     82           80\n",
       "17  Gavin Richardson      MID     87           95\n",
       "18      Spencer Ward      MID     84           85\n",
       "19   Sebastian Perry      FWD     95          150\n",
       "20     Xavier Bryant      FWD     90          120\n",
       "21    Elijah Sanders      FWD     93          140\n",
       "22    Adrian Collins      FWD     85           90\n",
       "23     Tyler Jenkins      FWD     80           70\n",
       "24      Chase Murphy      FWD     86           95\n",
       "25     Landon Powell      FWD     89          110\n",
       "26      Julian Scott      FWD     92          130\n",
       "27    Bentley Rivera      MID     88          100\n",
       "28    Maxwell Flores      DEF     81           72\n",
       "29      Dominic Bell      MID     86           95\n",
       "30     Jaxon Griffin      DEF     79           65\n",
       "31   Ashton Phillips      MID     90          110\n",
       "32       Colton Gray      FWD     91          125\n",
       "33    Brayden Hughes      DEF     87          100\n",
       "34    Zachary Nelson      FWD     86           92"
      ]
     },
     "execution_count": 2,
     "metadata": {},
     "output_type": "execute_result"
    }
   ],
   "source": [
    "DATA_DIR= os.path.join(os.getcwd(), 'players(in).csv')\n",
    "\n",
    "df = pd.read_csv(DATA_DIR, index_col=0)\n",
    "\n",
    "players = df.to_dict(orient=\"records\")\n",
    "\n",
    "df\n"
   ]
  },
  {
   "cell_type": "code",
   "execution_count": 3,
   "id": "c783fb1c",
   "metadata": {},
   "outputs": [
    {
     "data": {
      "text/plain": [
       "35"
      ]
     },
     "execution_count": 3,
     "metadata": {},
     "output_type": "execute_result"
    }
   ],
   "source": [
    "df[\"Name\"].nunique() # eveyr name is different, so maybe we can use it as an ID"
   ]
  },
  {
   "cell_type": "code",
   "execution_count": 4,
   "id": "d41ad0c2",
   "metadata": {},
   "outputs": [
    {
     "data": {
      "text/plain": [
       "array(['GK', 'DEF', 'MID', 'FWD'], dtype=object)"
      ]
     },
     "execution_count": 4,
     "metadata": {},
     "output_type": "execute_result"
    }
   ],
   "source": [
    "df[\"Position\"].unique() "
   ]
  },
  {
   "cell_type": "code",
   "execution_count": 5,
   "id": "b532f45d",
   "metadata": {},
   "outputs": [
    {
     "data": {
      "text/plain": [
       "[{'Name': 'Alex Carter', 'Position': 'GK', 'Skill': 85, 'Salary (€M)': 90},\n",
       " {'Name': 'Jordan Smith', 'Position': 'GK', 'Skill': 88, 'Salary (€M)': 100},\n",
       " {'Name': 'Ryan Mitchell', 'Position': 'GK', 'Skill': 83, 'Salary (€M)': 85},\n",
       " {'Name': 'Chris Thompson', 'Position': 'GK', 'Skill': 80, 'Salary (€M)': 80},\n",
       " {'Name': 'Blake Henderson', 'Position': 'GK', 'Skill': 87, 'Salary (€M)': 95},\n",
       " {'Name': 'Daniel Foster', 'Position': 'DEF', 'Skill': 90, 'Salary (€M)': 110},\n",
       " {'Name': 'Lucas Bennett', 'Position': 'DEF', 'Skill': 85, 'Salary (€M)': 90},\n",
       " {'Name': 'Owen Parker', 'Position': 'DEF', 'Skill': 88, 'Salary (€M)': 100},\n",
       " {'Name': 'Ethan Howard', 'Position': 'DEF', 'Skill': 80, 'Salary (€M)': 70},\n",
       " {'Name': 'Mason Reed', 'Position': 'DEF', 'Skill': 82, 'Salary (€M)': 75},\n",
       " {'Name': 'Logan Brooks', 'Position': 'DEF', 'Skill': 86, 'Salary (€M)': 95},\n",
       " {'Name': 'Caleb Fisher', 'Position': 'DEF', 'Skill': 84, 'Salary (€M)': 85},\n",
       " {'Name': 'Nathan Wright', 'Position': 'MID', 'Skill': 92, 'Salary (€M)': 120},\n",
       " {'Name': 'Connor Hayes', 'Position': 'MID', 'Skill': 89, 'Salary (€M)': 105},\n",
       " {'Name': 'Dylan Morgan', 'Position': 'MID', 'Skill': 91, 'Salary (€M)': 115},\n",
       " {'Name': 'Hunter Cooper', 'Position': 'MID', 'Skill': 83, 'Salary (€M)': 85},\n",
       " {'Name': 'Austin Torres', 'Position': 'MID', 'Skill': 82, 'Salary (€M)': 80},\n",
       " {'Name': 'Gavin Richardson',\n",
       "  'Position': 'MID',\n",
       "  'Skill': 87,\n",
       "  'Salary (€M)': 95},\n",
       " {'Name': 'Spencer Ward', 'Position': 'MID', 'Skill': 84, 'Salary (€M)': 85},\n",
       " {'Name': 'Sebastian Perry',\n",
       "  'Position': 'FWD',\n",
       "  'Skill': 95,\n",
       "  'Salary (€M)': 150},\n",
       " {'Name': 'Xavier Bryant', 'Position': 'FWD', 'Skill': 90, 'Salary (€M)': 120},\n",
       " {'Name': 'Elijah Sanders',\n",
       "  'Position': 'FWD',\n",
       "  'Skill': 93,\n",
       "  'Salary (€M)': 140},\n",
       " {'Name': 'Adrian Collins', 'Position': 'FWD', 'Skill': 85, 'Salary (€M)': 90},\n",
       " {'Name': 'Tyler Jenkins', 'Position': 'FWD', 'Skill': 80, 'Salary (€M)': 70},\n",
       " {'Name': 'Chase Murphy', 'Position': 'FWD', 'Skill': 86, 'Salary (€M)': 95},\n",
       " {'Name': 'Landon Powell', 'Position': 'FWD', 'Skill': 89, 'Salary (€M)': 110},\n",
       " {'Name': 'Julian Scott', 'Position': 'FWD', 'Skill': 92, 'Salary (€M)': 130},\n",
       " {'Name': 'Bentley Rivera',\n",
       "  'Position': 'MID',\n",
       "  'Skill': 88,\n",
       "  'Salary (€M)': 100},\n",
       " {'Name': 'Maxwell Flores', 'Position': 'DEF', 'Skill': 81, 'Salary (€M)': 72},\n",
       " {'Name': 'Dominic Bell', 'Position': 'MID', 'Skill': 86, 'Salary (€M)': 95},\n",
       " {'Name': 'Jaxon Griffin', 'Position': 'DEF', 'Skill': 79, 'Salary (€M)': 65},\n",
       " {'Name': 'Ashton Phillips',\n",
       "  'Position': 'MID',\n",
       "  'Skill': 90,\n",
       "  'Salary (€M)': 110},\n",
       " {'Name': 'Colton Gray', 'Position': 'FWD', 'Skill': 91, 'Salary (€M)': 125},\n",
       " {'Name': 'Brayden Hughes',\n",
       "  'Position': 'DEF',\n",
       "  'Skill': 87,\n",
       "  'Salary (€M)': 100},\n",
       " {'Name': 'Zachary Nelson', 'Position': 'FWD', 'Skill': 86, 'Salary (€M)': 92}]"
      ]
     },
     "execution_count": 5,
     "metadata": {},
     "output_type": "execute_result"
    }
   ],
   "source": [
    "players"
   ]
  },
  {
   "cell_type": "code",
   "execution_count": 8,
   "id": "0cad53c8",
   "metadata": {},
   "outputs": [
    {
     "data": {
      "text/plain": [
       "Position\n",
       "DEF    10\n",
       "MID    10\n",
       "FWD    10\n",
       "GK      5\n",
       "Name: count, dtype: int64"
      ]
     },
     "execution_count": 8,
     "metadata": {},
     "output_type": "execute_result"
    }
   ],
   "source": [
    "df[\"Position\"].value_counts()"
   ]
  },
  {
   "cell_type": "code",
   "execution_count": 12,
   "id": "15ea4e84",
   "metadata": {},
   "outputs": [
    {
     "data": {
      "text/plain": [
       "count    35.000000\n",
       "mean     86.400000\n",
       "std       4.095909\n",
       "min      79.000000\n",
       "25%      83.500000\n",
       "50%      86.000000\n",
       "75%      89.500000\n",
       "max      95.000000\n",
       "Name: Skill, dtype: float64"
      ]
     },
     "execution_count": 12,
     "metadata": {},
     "output_type": "execute_result"
    }
   ],
   "source": [
    "df[\"Skill\"].describe()"
   ]
  },
  {
   "cell_type": "code",
   "execution_count": 10,
   "id": "3012c908",
   "metadata": {},
   "outputs": [
    {
     "data": {
      "text/plain": [
       "count     35.000000\n",
       "mean      97.828571\n",
       "std       19.876805\n",
       "min       65.000000\n",
       "25%       85.000000\n",
       "50%       95.000000\n",
       "75%      110.000000\n",
       "max      150.000000\n",
       "Name: Salary (€M), dtype: float64"
      ]
     },
     "execution_count": 10,
     "metadata": {},
     "output_type": "execute_result"
    }
   ],
   "source": [
    "df[\"Salary (€M)\"].describe()"
   ]
  },
  {
   "cell_type": "markdown",
   "id": "388fb960",
   "metadata": {},
   "source": [
    "<a class=\"anchor\" id=\"3\">\n",
    "\n",
    "# 3. Problem Definiton\n",
    "    \n",
    "</a>"
   ]
  },
  {
   "cell_type": "markdown",
   "id": "9af45769",
   "metadata": {},
   "source": [
    "In a fantasy sports league, the objective is to assign players to teams in a way that ensures\n",
    "a balanced distribution of talent while staying within salary caps.\n",
    "\n",
    "1) Each player is defined by the following attributes:\n",
    "* Skill rating: Represents the player's ability.\n",
    "* Cost: The player's salary.\n",
    "* Position (One of four roles) : Goalkeeper (GK), Defender (DEF), Midfielder (MID), or Forward (FWD).\n",
    "\n",
    "A solution is a complete league configuration, specifying the team assignment for each player. These are the constraints that must be verified in every solution of the search space (no object is considered a solution if it doesn’t comply with these):\n",
    "* Each team must consist of: 1 Goalkeeper, 2 Defenders, 2 Midfielders and 2\n",
    "Forwards.\n",
    "* Each player is assigned to exactly one team.\n",
    "\n",
    "*Impossible Configurations*: Teams that do not follow this exact structure (e.g., a team with 2 goalkeepers, or a team where the same defender is assigned twice) are not part of the search space and are not considered solutions. It is forbidden to generate such an arrangement during evolution.\n",
    "\n",
    "Besides that, each team should not exceed a 750€ million total budget. If it does, it is not a valid solution and the fitness value should reflect that.\n",
    "\n",
    "The `objective` is to create a balanced league that complies with the constraints. \n",
    "A balanced league a is a league where the average skill rating of the players is roughly the same among the teams. \n",
    "This can be measured by the standard deviation of the average skill rating of the teams.\n",
    "\n",
    "You can find a dataset of players with their names, position, skill rating and salary (in million €).\n",
    "These players should be distributed across 5 teams of 7 players each."
   ]
  },
  {
   "cell_type": "code",
   "execution_count": 5,
   "id": "44899cb8",
   "metadata": {},
   "outputs": [],
   "source": [
    "def players_by_position(players):\n",
    "    gk = []\n",
    "    defenders = []\n",
    "    midfielders = []\n",
    "    forwards = []\n",
    "    for i in players:\n",
    "        if i[\"Position\"] == \"GK\":\n",
    "            gk.append(i)\n",
    "        elif i[\"Position\"] == \"DEF\":\n",
    "            defenders.append(i)\n",
    "        elif i[\"Position\"] == \"MID\":\n",
    "            midfielders.append(i)\n",
    "        elif i[\"Position\"] == \"FWD\":\n",
    "            forwards.append(i)\n",
    "\n",
    "    return gk, defenders, midfielders, forwards"
   ]
  },
  {
   "cell_type": "code",
   "execution_count": 6,
   "id": "6573687b",
   "metadata": {},
   "outputs": [
    {
     "data": {
      "text/plain": [
       "[{'Name': 'Alex Carter', 'Position': 'GK', 'Skill': 85, 'Salary (€M)': 90},\n",
       " {'Name': 'Jordan Smith', 'Position': 'GK', 'Skill': 88, 'Salary (€M)': 100},\n",
       " {'Name': 'Ryan Mitchell', 'Position': 'GK', 'Skill': 83, 'Salary (€M)': 85},\n",
       " {'Name': 'Chris Thompson', 'Position': 'GK', 'Skill': 80, 'Salary (€M)': 80},\n",
       " {'Name': 'Blake Henderson', 'Position': 'GK', 'Skill': 87, 'Salary (€M)': 95}]"
      ]
     },
     "execution_count": 6,
     "metadata": {},
     "output_type": "execute_result"
    }
   ],
   "source": [
    "gk, defenders, midfielders, forwards = players_by_position(players)\n",
    "gk"
   ]
  },
  {
   "cell_type": "code",
   "execution_count": 7,
   "id": "d44c22ec",
   "metadata": {},
   "outputs": [],
   "source": [
    "#vefify if team has the right number of players, and the right number of players for each position\n",
    "def valid_team(team):\n",
    "    n_gk = 0 #number of gk per team\n",
    "    n_def = 0\n",
    "    n_mid = 0\n",
    "    n_forwards = 0\n",
    "\n",
    "    for i in team:\n",
    "        if i[\"Position\"] == \"GK\":\n",
    "            n_gk += 1\n",
    "        elif i[\"Position\"] == \"DEF\":\n",
    "            n_def += 1\n",
    "        elif i[\"Position\"] == \"MID\":\n",
    "            n_mid += 1\n",
    "        elif i[\"Position\"] == \"FWD\":\n",
    "            n_forwards += 1\n",
    "\n",
    "    if len(team) != 7:\n",
    "        return False\n",
    "    if n_gk != 1:\n",
    "        return False\n",
    "    if n_def != 2:\n",
    "        return False\n",
    "    if n_mid != 2:\n",
    "        return False\n",
    "    if n_forwards != 2:\n",
    "        return False\n",
    "\n",
    "    return True  \n",
    "\n",
    "#function that sums all salaries of each player and returns the total\n",
    "def total_cost(team):\n",
    "    total_cost = 0\n",
    "\n",
    "    for i in team:\n",
    "        total_cost += + i[\"Salary (€M)\"]\n",
    "    return total_cost\n",
    "\n",
    "\n",
    "#verify if each player is assigned to exactly one team\n",
    "def has_repeated_players(solution):\n",
    "\n",
    "    players = []\n",
    "    for team in solution: #5 teams\n",
    "        for player in team: #7 players for each team\n",
    "            if player['Name'] in players:\n",
    "                return True\n",
    "            players.append(player['Name'])\n",
    "    \n",
    "    return False"
   ]
  },
  {
   "cell_type": "code",
   "execution_count": 8,
   "id": "0933156e",
   "metadata": {},
   "outputs": [],
   "source": [
    "#example of solutions to check \n",
    "solution1 = [\n",
    "    [  # Team 1\n",
    "        {'Name': 'Alex Carter', 'Position': 'GK', 'Skill': 85, 'Salary (€M)': 90},\n",
    "        {'Name': 'Daniel Foster', 'Position': 'DEF', 'Skill': 90, 'Salary (€M)': 110},\n",
    "        {'Name': 'Lucas Bennett', 'Position': 'DEF', 'Skill': 85, 'Salary (€M)': 90},\n",
    "        {'Name': 'Nathan Wright', 'Position': 'MID', 'Skill': 92, 'Salary (€M)': 120},\n",
    "        {'Name': 'Connor Hayes', 'Position': 'MID', 'Skill': 89, 'Salary (€M)': 105},\n",
    "        {'Name': 'Sebastian Perry', 'Position': 'FWD', 'Skill': 95, 'Salary (€M)': 150},\n",
    "        {'Name': 'Tyler Jenkins', 'Position': 'FWD', 'Skill': 80, 'Salary (€M)': 70}\n",
    "        ],\n",
    "    [  # Team 2\n",
    "        {'Name': 'Jordan Smith', 'Position': 'GK', 'Skill': 88, 'Salary (€M)': 100},\n",
    "        {'Name': 'Owen Parker', 'Position': 'DEF', 'Skill': 88, 'Salary (€M)': 100},\n",
    "        {'Name': 'Ethan Howard', 'Position': 'DEF', 'Skill': 80, 'Salary (€M)': 70},\n",
    "        {'Name': 'Dylan Morgan', 'Position': 'MID', 'Skill': 91, 'Salary (€M)': 115},\n",
    "        {'Name': 'Hunter Cooper', 'Position': 'MID', 'Skill': 83, 'Salary (€M)': 85},\n",
    "        {'Name': 'Xavier Bryant', 'Position': 'FWD', 'Skill': 90, 'Salary (€M)': 120},\n",
    "        {'Name': 'Adrian Collins', 'Position': 'FWD', 'Skill': 85, 'Salary (€M)': 90}\n",
    "    ]\n",
    "]\n",
    "\n",
    "#example of solution with repeated name\n",
    "solution2 = [\n",
    "    [  # Team 1\n",
    "        {'Name': 'Alex Carter', 'Position': 'GK', 'Skill': 85, 'Salary (€M)': 90},\n",
    "        {'Name': 'Alex Carter', 'Position': 'GK', 'Skill': 85, 'Salary (€M)': 90}, #repeated\n",
    "        {'Name': 'Lucas Bennett', 'Position': 'DEF', 'Skill': 85, 'Salary (€M)': 90},\n",
    "        {'Name': 'Nathan Wright', 'Position': 'MID', 'Skill': 92, 'Salary (€M)': 120},\n",
    "        {'Name': 'Connor Hayes', 'Position': 'MID', 'Skill': 89, 'Salary (€M)': 105},\n",
    "        {'Name': 'Sebastian Perry', 'Position': 'FWD', 'Skill': 95, 'Salary (€M)': 150},\n",
    "        {'Name': 'Tyler Jenkins', 'Position': 'FWD', 'Skill': 80, 'Salary (€M)': 70}\n",
    "    ],\n",
    "    [  # Team 2\n",
    "        {'Name': 'Jordan Smith', 'Position': 'GK', 'Skill': 88, 'Salary (€M)': 100},\n",
    "        {'Name': 'Owen Parker', 'Position': 'DEF', 'Skill': 88, 'Salary (€M)': 100},\n",
    "        {'Name': 'Ethan Howard', 'Position': 'DEF', 'Skill': 80, 'Salary (€M)': 70},\n",
    "        {'Name': 'Dylan Morgan', 'Position': 'MID', 'Skill': 91, 'Salary (€M)': 115},\n",
    "        {'Name': 'Hunter Cooper', 'Position': 'MID', 'Skill': 83, 'Salary (€M)': 85},\n",
    "        {'Name': 'Xavier Bryant', 'Position': 'FWD', 'Skill': 90, 'Salary (€M)': 120},\n",
    "        {'Name': 'Adrian Collins', 'Position': 'FWD', 'Skill': 85, 'Salary (€M)': 90}\n",
    "    ]\n",
    "]\n",
    "\n",
    "#example of solution with 6 players\n",
    "solution3 = [\n",
    "    [  # Team 1\n",
    "        {'Name': 'Alex Carter', 'Position': 'GK', 'Skill': 85, 'Salary (€M)': 90},\n",
    "        {'Name': 'Daniel Foster', 'Position': 'DEF', 'Skill': 90, 'Salary (€M)': 110},\n",
    "        {'Name': 'Lucas Bennett', 'Position': 'DEF', 'Skill': 85, 'Salary (€M)': 90},\n",
    "        {'Name': 'Nathan Wright', 'Position': 'MID', 'Skill': 92, 'Salary (€M)': 120},\n",
    "        {'Name': 'Connor Hayes', 'Position': 'MID', 'Skill': 89, 'Salary (€M)': 105},\n",
    "        {'Name': 'Sebastian Perry', 'Position': 'FWD', 'Skill': 95, 'Salary (€M)': 150},\n",
    "        {'Name': 'Tyler Jenkins', 'Position': 'FWD', 'Skill': 80, 'Salary (€M)': 70}\n",
    "    ],\n",
    "    [  # Team 2\n",
    "        {'Name': 'Jordan Smith', 'Position': 'GK', 'Skill': 88, 'Salary (€M)': 100},\n",
    "        {'Name': 'Owen Parker', 'Position': 'DEF', 'Skill': 88, 'Salary (€M)': 100},\n",
    "        {'Name': 'Ethan Howard', 'Position': 'DEF', 'Skill': 80, 'Salary (€M)': 70},\n",
    "        {'Name': 'Dylan Morgan', 'Position': 'MID', 'Skill': 91, 'Salary (€M)': 115},\n",
    "        {'Name': 'Hunter Cooper', 'Position': 'MID', 'Skill': 83, 'Salary (€M)': 85},\n",
    "        {'Name': 'Xavier Bryant', 'Position': 'FWD', 'Skill': 90, 'Salary (€M)': 120}\n",
    "        ]\n",
    "]"
   ]
  },
  {
   "cell_type": "code",
   "execution_count": 9,
   "id": "e717126f",
   "metadata": {},
   "outputs": [
    {
     "name": "stdout",
     "output_type": "stream",
     "text": [
      "has repeated players:\n",
      "Solution 1: False\n",
      "Solution 2: True\n",
      "Solution 3: False\n",
      "\n",
      "Total cost solution 1:\n",
      "Team 1: 735 M €\n",
      "Team 2: 680 M €\n",
      "\n",
      "Solution 2 has valid teams:\n",
      "Team 1: False\n",
      "Team 2: True\n"
     ]
    }
   ],
   "source": [
    "\n",
    "print(\"has repeated players:\")\n",
    "print(\"Solution 1:\", has_repeated_players(solution1))\n",
    "print(\"Solution 2:\", has_repeated_players(solution2))\n",
    "print(\"Solution 3:\", has_repeated_players(solution3))\n",
    "\n",
    "print(\"\\nTotal cost solution 1:\")\n",
    "print(\"Team 1:\", total_cost(solution1[0]), \"M €\")\n",
    "print(\"Team 2:\", total_cost(solution1[1]), \"M €\")\n",
    "\n",
    "print(\"\\nSolution 2 has valid teams:\")\n",
    "print(\"Team 1:\", valid_team(solution2[0]))\n",
    "print(\"Team 2:\", valid_team(solution2[1]))"
   ]
  },
  {
   "cell_type": "code",
   "execution_count": 13,
   "id": "10129c92",
   "metadata": {},
   "outputs": [
    {
     "data": {
      "text/plain": [
       "Index(['Name', 'Position', 'Skill', 'Salary (€M)'], dtype='object')"
      ]
     },
     "execution_count": 13,
     "metadata": {},
     "output_type": "execute_result"
    }
   ],
   "source": [
    "df.columns"
   ]
  },
  {
   "cell_type": "code",
   "execution_count": 14,
   "id": "f5f84030",
   "metadata": {},
   "outputs": [],
   "source": [
    "class Player:\n",
    "    def __init__(self,name, position, skill, salary):\n",
    "        self.name = name\n",
    "        self.position = position\n",
    "        self.skill = skill\n",
    "        self.salary = salary\n"
   ]
  },
  {
   "cell_type": "markdown",
   "id": "6d40b918",
   "metadata": {},
   "source": [
    "# Selection Operators"
   ]
  },
  {
   "cell_type": "markdown",
   "id": "b5906808",
   "metadata": {},
   "source": [
    "# Crossover Operators"
   ]
  },
  {
   "cell_type": "markdown",
   "id": "315392ca",
   "metadata": {},
   "source": [
    "# Mutation Operators"
   ]
  },
  {
   "cell_type": "markdown",
   "id": "c97f5f59",
   "metadata": {},
   "source": []
  }
 ],
 "metadata": {
  "kernelspec": {
   "display_name": "Python 3",
   "language": "python",
   "name": "python3"
  },
  "language_info": {
   "codemirror_mode": {
    "name": "ipython",
    "version": 3
   },
   "file_extension": ".py",
   "mimetype": "text/x-python",
   "name": "python",
   "nbconvert_exporter": "python",
   "pygments_lexer": "ipython3",
   "version": "3.11.9"
  }
 },
 "nbformat": 4,
 "nbformat_minor": 5
}
