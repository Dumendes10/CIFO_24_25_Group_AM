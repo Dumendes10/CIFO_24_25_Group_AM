{
 "cells": [
  {
   "cell_type": "markdown",
   "id": "71dc3a6e",
   "metadata": {},
   "source": [
    "(pseudo codigo pq n temos as representações)\n",
    "\n",
    "Tournament"
   ]
  },
  {
   "cell_type": "code",
   "execution_count": null,
   "id": "dbb2a2c0",
   "metadata": {},
   "outputs": [],
   "source": [
    "def tournament_selection(population):\n",
    "    if random_tournament_size  == True:\n",
    "        tournament_size = random.randint(range(population_size / 2))\n",
    "    else:\n",
    "        tournament_size = 4\n",
    "        \n",
    "    sample_population = random.sample(population, tournament_size)\n",
    "    sample_population.sort(key=lambda x: x.fitness, reverse=True)\n",
    "    return sample_population[0]"
   ]
  },
  {
   "cell_type": "markdown",
   "id": "14af31b5",
   "metadata": {},
   "source": [
    "ranking"
   ]
  },
  {
   "cell_type": "code",
   "execution_count": null,
   "id": "a878f467",
   "metadata": {},
   "outputs": [],
   "source": [
    "def ranking_selection(population):\n",
    "    population.sort(key=lambda x: x.fitness)\n",
    "    return sample_population[-1]"
   ]
  }
 ],
 "metadata": {
  "language_info": {
   "name": "python"
  }
 },
 "nbformat": 4,
 "nbformat_minor": 5
}
