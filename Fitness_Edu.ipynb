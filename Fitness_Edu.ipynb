{
 "cells": [
  {
   "cell_type": "markdown",
   "metadata": {},
   "source": [
    "# 1.1 Import Needed Libraries"
   ]
  },
  {
   "cell_type": "code",
   "execution_count": 34,
   "metadata": {},
   "outputs": [],
   "source": [
    "import pandas as pd\n",
    "import numpy as np\n",
    "import os\n",
    "\n",
    "from copy import deepcopy\n",
    "from random import random, sample, choice, randint"
   ]
  },
  {
   "cell_type": "markdown",
   "metadata": {},
   "source": [
    "# 1.2 Import Our Dataset"
   ]
  },
  {
   "cell_type": "code",
   "execution_count": 35,
   "metadata": {},
   "outputs": [],
   "source": [
    "data_dir='/Users/minguini/Documents/GitHub/CIFO_24_25'"
   ]
  },
  {
   "cell_type": "code",
   "execution_count": 36,
   "metadata": {},
   "outputs": [
    {
     "data": {
      "text/html": [
       "<div>\n",
       "<style scoped>\n",
       "    .dataframe tbody tr th:only-of-type {\n",
       "        vertical-align: middle;\n",
       "    }\n",
       "\n",
       "    .dataframe tbody tr th {\n",
       "        vertical-align: top;\n",
       "    }\n",
       "\n",
       "    .dataframe thead th {\n",
       "        text-align: right;\n",
       "    }\n",
       "</style>\n",
       "<table border=\"1\" class=\"dataframe\">\n",
       "  <thead>\n",
       "    <tr style=\"text-align: right;\">\n",
       "      <th></th>\n",
       "      <th>Name</th>\n",
       "      <th>Position</th>\n",
       "      <th>Skill</th>\n",
       "      <th>Salary (€M)</th>\n",
       "    </tr>\n",
       "  </thead>\n",
       "  <tbody>\n",
       "    <tr>\n",
       "      <th>0</th>\n",
       "      <td>Alex Carter</td>\n",
       "      <td>GK</td>\n",
       "      <td>85</td>\n",
       "      <td>90</td>\n",
       "    </tr>\n",
       "    <tr>\n",
       "      <th>1</th>\n",
       "      <td>Jordan Smith</td>\n",
       "      <td>GK</td>\n",
       "      <td>88</td>\n",
       "      <td>100</td>\n",
       "    </tr>\n",
       "    <tr>\n",
       "      <th>2</th>\n",
       "      <td>Ryan Mitchell</td>\n",
       "      <td>GK</td>\n",
       "      <td>83</td>\n",
       "      <td>85</td>\n",
       "    </tr>\n",
       "    <tr>\n",
       "      <th>3</th>\n",
       "      <td>Chris Thompson</td>\n",
       "      <td>GK</td>\n",
       "      <td>80</td>\n",
       "      <td>80</td>\n",
       "    </tr>\n",
       "    <tr>\n",
       "      <th>4</th>\n",
       "      <td>Blake Henderson</td>\n",
       "      <td>GK</td>\n",
       "      <td>87</td>\n",
       "      <td>95</td>\n",
       "    </tr>\n",
       "  </tbody>\n",
       "</table>\n",
       "</div>"
      ],
      "text/plain": [
       "              Name Position  Skill  Salary (€M)\n",
       "0      Alex Carter       GK     85           90\n",
       "1     Jordan Smith       GK     88          100\n",
       "2    Ryan Mitchell       GK     83           85\n",
       "3   Chris Thompson       GK     80           80\n",
       "4  Blake Henderson       GK     87           95"
      ]
     },
     "execution_count": 36,
     "metadata": {},
     "output_type": "execute_result"
    }
   ],
   "source": [
    "df = pd.read_csv(path.join(data_dir, 'players(in).csv'), index_col=0)\n",
    "df.head()"
   ]
  },
  {
   "cell_type": "code",
   "execution_count": 37,
   "metadata": {},
   "outputs": [
    {
     "data": {
      "text/plain": [
       "[{'Name': 'Alex Carter', 'Position': 'GK', 'Skill': 85, 'Salary (€M)': 90},\n",
       " {'Name': 'Jordan Smith', 'Position': 'GK', 'Skill': 88, 'Salary (€M)': 100},\n",
       " {'Name': 'Ryan Mitchell', 'Position': 'GK', 'Skill': 83, 'Salary (€M)': 85},\n",
       " {'Name': 'Chris Thompson', 'Position': 'GK', 'Skill': 80, 'Salary (€M)': 80},\n",
       " {'Name': 'Blake Henderson', 'Position': 'GK', 'Skill': 87, 'Salary (€M)': 95},\n",
       " {'Name': 'Daniel Foster', 'Position': 'DEF', 'Skill': 90, 'Salary (€M)': 110},\n",
       " {'Name': 'Lucas Bennett', 'Position': 'DEF', 'Skill': 85, 'Salary (€M)': 90},\n",
       " {'Name': 'Owen Parker', 'Position': 'DEF', 'Skill': 88, 'Salary (€M)': 100},\n",
       " {'Name': 'Ethan Howard', 'Position': 'DEF', 'Skill': 80, 'Salary (€M)': 70},\n",
       " {'Name': 'Mason Reed', 'Position': 'DEF', 'Skill': 82, 'Salary (€M)': 75},\n",
       " {'Name': 'Logan Brooks', 'Position': 'DEF', 'Skill': 86, 'Salary (€M)': 95},\n",
       " {'Name': 'Caleb Fisher', 'Position': 'DEF', 'Skill': 84, 'Salary (€M)': 85},\n",
       " {'Name': 'Nathan Wright', 'Position': 'MID', 'Skill': 92, 'Salary (€M)': 120},\n",
       " {'Name': 'Connor Hayes', 'Position': 'MID', 'Skill': 89, 'Salary (€M)': 105},\n",
       " {'Name': 'Dylan Morgan', 'Position': 'MID', 'Skill': 91, 'Salary (€M)': 115},\n",
       " {'Name': 'Hunter Cooper', 'Position': 'MID', 'Skill': 83, 'Salary (€M)': 85},\n",
       " {'Name': 'Austin Torres', 'Position': 'MID', 'Skill': 82, 'Salary (€M)': 80},\n",
       " {'Name': 'Gavin Richardson',\n",
       "  'Position': 'MID',\n",
       "  'Skill': 87,\n",
       "  'Salary (€M)': 95},\n",
       " {'Name': 'Spencer Ward', 'Position': 'MID', 'Skill': 84, 'Salary (€M)': 85},\n",
       " {'Name': 'Sebastian Perry',\n",
       "  'Position': 'FWD',\n",
       "  'Skill': 95,\n",
       "  'Salary (€M)': 150},\n",
       " {'Name': 'Xavier Bryant', 'Position': 'FWD', 'Skill': 90, 'Salary (€M)': 120},\n",
       " {'Name': 'Elijah Sanders',\n",
       "  'Position': 'FWD',\n",
       "  'Skill': 93,\n",
       "  'Salary (€M)': 140},\n",
       " {'Name': 'Adrian Collins', 'Position': 'FWD', 'Skill': 85, 'Salary (€M)': 90},\n",
       " {'Name': 'Tyler Jenkins', 'Position': 'FWD', 'Skill': 80, 'Salary (€M)': 70},\n",
       " {'Name': 'Chase Murphy', 'Position': 'FWD', 'Skill': 86, 'Salary (€M)': 95},\n",
       " {'Name': 'Landon Powell', 'Position': 'FWD', 'Skill': 89, 'Salary (€M)': 110},\n",
       " {'Name': 'Julian Scott', 'Position': 'FWD', 'Skill': 92, 'Salary (€M)': 130},\n",
       " {'Name': 'Bentley Rivera',\n",
       "  'Position': 'MID',\n",
       "  'Skill': 88,\n",
       "  'Salary (€M)': 100},\n",
       " {'Name': 'Maxwell Flores', 'Position': 'DEF', 'Skill': 81, 'Salary (€M)': 72},\n",
       " {'Name': 'Dominic Bell', 'Position': 'MID', 'Skill': 86, 'Salary (€M)': 95},\n",
       " {'Name': 'Jaxon Griffin', 'Position': 'DEF', 'Skill': 79, 'Salary (€M)': 65},\n",
       " {'Name': 'Ashton Phillips',\n",
       "  'Position': 'MID',\n",
       "  'Skill': 90,\n",
       "  'Salary (€M)': 110},\n",
       " {'Name': 'Colton Gray', 'Position': 'FWD', 'Skill': 91, 'Salary (€M)': 125},\n",
       " {'Name': 'Brayden Hughes',\n",
       "  'Position': 'DEF',\n",
       "  'Skill': 87,\n",
       "  'Salary (€M)': 100},\n",
       " {'Name': 'Zachary Nelson', 'Position': 'FWD', 'Skill': 86, 'Salary (€M)': 92}]"
      ]
     },
     "execution_count": 37,
     "metadata": {},
     "output_type": "execute_result"
    }
   ],
   "source": [
    "players = df.to_dict(orient=\"records\")\n",
    "players"
   ]
  },
  {
   "cell_type": "code",
   "execution_count": 38,
   "metadata": {},
   "outputs": [],
   "source": [
    "def players_by_position(players):\n",
    "    gk = []\n",
    "    defenders = []\n",
    "    midfielders = []\n",
    "    forwards = []\n",
    "    for i in players:\n",
    "        if i[\"Position\"] == \"GK\":\n",
    "            gk.append(i)\n",
    "        elif i[\"Position\"] == \"DEF\":\n",
    "            defenders.append(i)\n",
    "        elif i[\"Position\"] == \"MID\":\n",
    "            midfielders.append(i)\n",
    "        elif i[\"Position\"] == \"FWD\":\n",
    "            forwards.append(i)\n",
    "\n",
    "    return gk, defenders, midfielders, forwards"
   ]
  },
  {
   "cell_type": "code",
   "execution_count": 39,
   "metadata": {},
   "outputs": [
    {
     "data": {
      "text/plain": [
       "[{'Name': 'Alex Carter', 'Position': 'GK', 'Skill': 85, 'Salary (€M)': 90},\n",
       " {'Name': 'Jordan Smith', 'Position': 'GK', 'Skill': 88, 'Salary (€M)': 100},\n",
       " {'Name': 'Ryan Mitchell', 'Position': 'GK', 'Skill': 83, 'Salary (€M)': 85},\n",
       " {'Name': 'Chris Thompson', 'Position': 'GK', 'Skill': 80, 'Salary (€M)': 80},\n",
       " {'Name': 'Blake Henderson', 'Position': 'GK', 'Skill': 87, 'Salary (€M)': 95}]"
      ]
     },
     "execution_count": 39,
     "metadata": {},
     "output_type": "execute_result"
    }
   ],
   "source": [
    "gk, defenders, midfielders, forwards = players_by_position(players)\n",
    "gk"
   ]
  },
  {
   "cell_type": "markdown",
   "metadata": {},
   "source": [
    "# 2. Fitness Function"
   ]
  },
  {
   "cell_type": "code",
   "execution_count": 43,
   "metadata": {},
   "outputs": [],
   "source": [
    "class League():\n",
    "    def __init__(self, name, players):\n",
    "        self.name = name\n",
    "        self.players = players\n",
    "        self.gk = []\n",
    "        self.defenders = []\n",
    "        self.midfielders = []\n",
    "        self.forwards = []\n",
    "        self.total_points = 0\n",
    "        self.total_cost = 0\n",
    "\n",
    "        for player in players:\n",
    "            self.add_player(player)\n",
    "\n",
    "    def random_teams(players, num_teams = 5, budget=100):\n",
    "        teams = []\n",
    "        positions = {'Gk': [], 'DEF': [], 'MID': [], 'FWD': []}\n",
    "\n",
    "        for player in players:\n",
    "            positions[player['Position']].append(player)\n",
    "        \n",
    "        #Generate teams\n",
    "        for i in range(num_teams):\n",
    "            while True:\n",
    "                team = [\n",
    "                    random.choice(positions['Gk']),\n",
    "                    random.choice(positions['DEF'], k=2),\n",
    "                    random.choice(positions['MID'], k=2),\n",
    "                    random.choice(positions['FWD'], k=2),\n",
    "                ]\n",
    "                #Check the budget and unique players\n",
    "                if len(set(team)) == len(team) and sum(player['Cost'] for player in team) <= budget:\n",
    "                    teams.append(team)\n",
    "                    break\n",
    "        return teams\n",
    "        \n",
    "\n",
    "    def add_player(self, player):\n",
    "        if player[\"Position\"] == \"GK\":\n",
    "            self.gk.append(player)\n",
    "        elif player[\"Position\"] == \"DEF\":\n",
    "            self.defenders.append(player)\n",
    "        elif player[\"Position\"] == \"MID\":\n",
    "            self.midfielders.append(player)\n",
    "        elif player[\"Position\"] == \"FWD\":\n",
    "            self.forwards.append(player)\n",
    "\n",
    "    def valid_formation(self):\n",
    "        return (len(self.gk) == 1 and\n",
    "                len(self.defenders) == 2 and\n",
    "                len(self.midfielders) == 2 and\n",
    "                len(self.forwards) == 2)\n",
    "\n",
    "    def valid_budget(self, budget):\n",
    "        return self.calculate_total_cost() <= budget\n",
    "    \n",
    "    def calculate_total_skill(self):\n",
    "        self.total_skill = sum([player[\"Skill\"] for player in self.players])\n",
    "        return self.total_skill\n",
    "    \n",
    "    def calculate_total_cost(self):\n",
    "        self.total_cost = sum([player[\"Cost\"] for player in self.players])\n",
    "        return self.total_cost\n",
    "    \n",
    "    def fitness(self, budget):\n",
    "        if not self.valid_budget(budget):\n",
    "            return -100000\n",
    "        else:\n",
    "            cost_penalty = max(0, self.calculate_total_cost() - 100) * 5\n",
    "            return self.calculate_total_skill() - cost_penalty\n",
    "    \n",
    "\n",
    "    # Magic methods\n",
    "    def __str__(self):\n",
    "        return f\"Team: {self.name}, Players: {len(self.players)}, Total Points: {self.total_points}, Total Cost: {self.total_cost}\"\n",
    "    def __repr__(self):\n",
    "        return f\"Team({self.name}, {self.players})\"\n",
    "    def __len__(self):\n",
    "        return len(self.players)\n",
    "    def __getitem__(self, index):\n",
    "        return self.players[index]\n",
    "    def __setitem__(self, index, value):\n",
    "        self.players[index] = value\n",
    "    def __delitem__(self, index):\n",
    "        del self.players[index]\n",
    "    def __contains__(self, item):\n",
    "        return item in self.players\n",
    "    def __iter__(self):\n",
    "        return iter(self.players)"
   ]
  },
  {
   "cell_type": "code",
   "execution_count": 41,
   "metadata": {},
   "outputs": [
    {
     "ename": "TypeError",
     "evalue": "Team.__init__() missing 2 required positional arguments: 'name' and 'players'",
     "output_type": "error",
     "traceback": [
      "\u001b[0;31m---------------------------------------------------------------------------\u001b[0m",
      "\u001b[0;31mTypeError\u001b[0m                                 Traceback (most recent call last)",
      "Cell \u001b[0;32mIn[41], line 1\u001b[0m\n\u001b[0;32m----> 1\u001b[0m solution \u001b[38;5;241m=\u001b[39m Team()\n\u001b[1;32m      3\u001b[0m \u001b[38;5;28mprint\u001b[39m(solution)\n\u001b[1;32m      4\u001b[0m \u001b[38;5;28mprint\u001b[39m(solution\u001b[38;5;241m.\u001b[39mrandom_initial_representation())\n",
      "\u001b[0;31mTypeError\u001b[0m: Team.__init__() missing 2 required positional arguments: 'name' and 'players'"
     ]
    }
   ],
   "source": [
    "solution = Team()\n",
    "\n",
    "print(solution)\n",
    "print(solution.random_initial_representation())\n",
    "print(solution.fitness())"
   ]
  },
  {
   "cell_type": "code",
   "execution_count": 28,
   "metadata": {},
   "outputs": [],
   "source": [
    "#Fitness function\n",
    "\n",
    "def fitness(team):\n",
    "    if not team.valid_formation():\n",
    "        return -100000  # Hard constraint penalty\n",
    "    \n",
    "    cost_penalty = max(0, team.calculate_total_cost() - 100) * 5\n",
    "    return team.calculate_total_points() - cost_penalty"
   ]
  },
  {
   "cell_type": "code",
   "execution_count": null,
   "metadata": {},
   "outputs": [],
   "source": [
    "def initialize_population(player_pool, population_size=100, max_budget=100):\n",
    "    population = []\n",
    "    position_groups = {\n",
    "        'GK': [p for p in player_pool if p['Position'] == 'GK'],\n",
    "        'DEF': [p for p in player_pool if p['Position'] == 'DEF'],\n",
    "        'MID': [p for p in player_pool if p['Position'] == 'MID'],\n",
    "        'FWD': [p for p in player_pool if p['Position'] == 'FWD']\n",
    "    }\n",
    "    \n",
    "    for _ in range(population_size):\n",
    "        while True:\n",
    "            team_players = [\n",
    "                random.choice(position_groups['GK']),\n",
    "                *random.sample(position_groups['DEF'], k=2),\n",
    "                *random.sample(position_groups['MID'], k=2),\n",
    "                *random.sample(position_groups['FWD'], k=2)\n",
    "            ]\n",
    "            \n",
    "            # Add optional players (up to 11 total)\n",
    "            remaining_spots = 11 - len(team_players)\n",
    "            for _ in range(remaining_spots):\n",
    "                position = random.choice(['DEF', 'MID', 'FWD'])\n",
    "                team_players.append(random.choice(position_groups[position]))\n",
    "                \n",
    "            # Check budget constraint\n",
    "            total_cost = sum(p['Cost'] for p in team_players)\n",
    "            if total_cost <= max_budget:\n",
    "                population.append(Team(f\"Team_{len(population)+1}\", team_players))\n",
    "                break\n",
    "                \n",
    "    return population\n"
   ]
  },
  {
   "cell_type": "code",
   "execution_count": 30,
   "metadata": {},
   "outputs": [
    {
     "name": "stdout",
     "output_type": "stream",
     "text": [
      "Team: Best Team, Players: 0, Total Points: 0, Total Cost: 0\n"
     ]
    }
   ],
   "source": [
    "solution = Team(\"Best Team\", [])\n",
    "print(solution)"
   ]
  },
  {
   "cell_type": "code",
   "execution_count": null,
   "metadata": {},
   "outputs": [],
   "source": []
  },
  {
   "cell_type": "code",
   "execution_count": 8,
   "metadata": {},
   "outputs": [],
   "source": [
    "#vefify if team has the right number of players, and the right number of players for each position\n",
    "def valid_team(team):\n",
    "    n_gk = 0 #number of gk per team\n",
    "    n_def = 0\n",
    "    n_mid = 0\n",
    "    n_forwards = 0\n",
    "\n",
    "    for i in team:\n",
    "        if i[\"Position\"] == \"GK\":\n",
    "            n_gk += 1\n",
    "        elif i[\"Position\"] == \"DEF\":\n",
    "            n_def += 1\n",
    "        elif i[\"Position\"] == \"MID\":\n",
    "            n_mid += 1\n",
    "        elif i[\"Position\"] == \"FWD\":\n",
    "            n_forwards += 1\n",
    "\n",
    "    if len(team) != 7:\n",
    "        return False\n",
    "    if n_gk != 1:\n",
    "        return False\n",
    "    if n_def != 2:\n",
    "        return False\n",
    "    if n_mid != 2:\n",
    "        return False\n",
    "    if n_forwards != 2:\n",
    "        return False\n",
    "\n",
    "    return True  \n",
    "\n",
    "#function that sums all salaries of each player and returns the total\n",
    "def total_cost(team):\n",
    "    total_cost = 0\n",
    "\n",
    "    for i in team:\n",
    "        total_cost += + i[\"Salary (€M)\"]\n",
    "    return total_cost\n",
    "\n",
    "\n",
    "#verify if each player is assigned to exactly one team\n",
    "def has_repeated_players(solution):\n",
    "\n",
    "    players = []\n",
    "    for team in solution: #5 teams\n",
    "        for player in team: #7 players for each team\n",
    "            if player['Name'] in players:\n",
    "                return True\n",
    "            players.append(player['Name'])\n",
    "    \n",
    "    return False"
   ]
  },
  {
   "cell_type": "code",
   "execution_count": 9,
   "metadata": {},
   "outputs": [],
   "source": [
    "#example of solutions to check \n",
    "solution1 = [\n",
    "    [  # Team 1\n",
    "        {'Name': 'Alex Carter', 'Position': 'GK', 'Skill': 85, 'Salary (€M)': 90},\n",
    "        {'Name': 'Daniel Foster', 'Position': 'DEF', 'Skill': 90, 'Salary (€M)': 110},\n",
    "        {'Name': 'Lucas Bennett', 'Position': 'DEF', 'Skill': 85, 'Salary (€M)': 90},\n",
    "        {'Name': 'Nathan Wright', 'Position': 'MID', 'Skill': 92, 'Salary (€M)': 120},\n",
    "        {'Name': 'Connor Hayes', 'Position': 'MID', 'Skill': 89, 'Salary (€M)': 105},\n",
    "        {'Name': 'Sebastian Perry', 'Position': 'FWD', 'Skill': 95, 'Salary (€M)': 150},\n",
    "        {'Name': 'Tyler Jenkins', 'Position': 'FWD', 'Skill': 80, 'Salary (€M)': 70}\n",
    "        ],\n",
    "    [  # Team 2\n",
    "        {'Name': 'Jordan Smith', 'Position': 'GK', 'Skill': 88, 'Salary (€M)': 100},\n",
    "        {'Name': 'Owen Parker', 'Position': 'DEF', 'Skill': 88, 'Salary (€M)': 100},\n",
    "        {'Name': 'Ethan Howard', 'Position': 'DEF', 'Skill': 80, 'Salary (€M)': 70},\n",
    "        {'Name': 'Dylan Morgan', 'Position': 'MID', 'Skill': 91, 'Salary (€M)': 115},\n",
    "        {'Name': 'Hunter Cooper', 'Position': 'MID', 'Skill': 83, 'Salary (€M)': 85},\n",
    "        {'Name': 'Xavier Bryant', 'Position': 'FWD', 'Skill': 90, 'Salary (€M)': 120},\n",
    "        {'Name': 'Adrian Collins', 'Position': 'FWD', 'Skill': 85, 'Salary (€M)': 90}\n",
    "    ]\n",
    "]\n",
    "\n",
    "#example of solution with repeated name\n",
    "solution2 = [\n",
    "    [  # Team 1\n",
    "        {'Name': 'Alex Carter', 'Position': 'GK', 'Skill': 85, 'Salary (€M)': 90},\n",
    "        {'Name': 'Alex Carter', 'Position': 'GK', 'Skill': 85, 'Salary (€M)': 90}, #repeated\n",
    "        {'Name': 'Lucas Bennett', 'Position': 'DEF', 'Skill': 85, 'Salary (€M)': 90},\n",
    "        {'Name': 'Nathan Wright', 'Position': 'MID', 'Skill': 92, 'Salary (€M)': 120},\n",
    "        {'Name': 'Connor Hayes', 'Position': 'MID', 'Skill': 89, 'Salary (€M)': 105},\n",
    "        {'Name': 'Sebastian Perry', 'Position': 'FWD', 'Skill': 95, 'Salary (€M)': 150},\n",
    "        {'Name': 'Tyler Jenkins', 'Position': 'FWD', 'Skill': 80, 'Salary (€M)': 70}\n",
    "    ],\n",
    "    [  # Team 2\n",
    "        {'Name': 'Jordan Smith', 'Position': 'GK', 'Skill': 88, 'Salary (€M)': 100},\n",
    "        {'Name': 'Owen Parker', 'Position': 'DEF', 'Skill': 88, 'Salary (€M)': 100},\n",
    "        {'Name': 'Ethan Howard', 'Position': 'DEF', 'Skill': 80, 'Salary (€M)': 70},\n",
    "        {'Name': 'Dylan Morgan', 'Position': 'MID', 'Skill': 91, 'Salary (€M)': 115},\n",
    "        {'Name': 'Hunter Cooper', 'Position': 'MID', 'Skill': 83, 'Salary (€M)': 85},\n",
    "        {'Name': 'Xavier Bryant', 'Position': 'FWD', 'Skill': 90, 'Salary (€M)': 120},\n",
    "        {'Name': 'Adrian Collins', 'Position': 'FWD', 'Skill': 85, 'Salary (€M)': 90}\n",
    "    ]\n",
    "]\n",
    "\n",
    "#example of solution with 6 players\n",
    "solution3 = [\n",
    "    [  # Team 1\n",
    "        {'Name': 'Alex Carter', 'Position': 'GK', 'Skill': 85, 'Salary (€M)': 90},\n",
    "        {'Name': 'Daniel Foster', 'Position': 'DEF', 'Skill': 90, 'Salary (€M)': 110},\n",
    "        {'Name': 'Lucas Bennett', 'Position': 'DEF', 'Skill': 85, 'Salary (€M)': 90},\n",
    "        {'Name': 'Nathan Wright', 'Position': 'MID', 'Skill': 92, 'Salary (€M)': 120},\n",
    "        {'Name': 'Connor Hayes', 'Position': 'MID', 'Skill': 89, 'Salary (€M)': 105},\n",
    "        {'Name': 'Sebastian Perry', 'Position': 'FWD', 'Skill': 95, 'Salary (€M)': 150},\n",
    "        {'Name': 'Tyler Jenkins', 'Position': 'FWD', 'Skill': 80, 'Salary (€M)': 70}\n",
    "    ],\n",
    "    [  # Team 2\n",
    "        {'Name': 'Jordan Smith', 'Position': 'GK', 'Skill': 88, 'Salary (€M)': 100},\n",
    "        {'Name': 'Owen Parker', 'Position': 'DEF', 'Skill': 88, 'Salary (€M)': 100},\n",
    "        {'Name': 'Ethan Howard', 'Position': 'DEF', 'Skill': 80, 'Salary (€M)': 70},\n",
    "        {'Name': 'Dylan Morgan', 'Position': 'MID', 'Skill': 91, 'Salary (€M)': 115},\n",
    "        {'Name': 'Hunter Cooper', 'Position': 'MID', 'Skill': 83, 'Salary (€M)': 85},\n",
    "        {'Name': 'Xavier Bryant', 'Position': 'FWD', 'Skill': 90, 'Salary (€M)': 120}\n",
    "        ]\n",
    "]"
   ]
  },
  {
   "cell_type": "code",
   "execution_count": null,
   "metadata": {},
   "outputs": [
    {
     "name": "stdout",
     "output_type": "stream",
     "text": [
      "has repeated players:\n",
      "Solution 1: False\n",
      "Solution 2: True\n",
      "Solution 3: False\n",
      "\n",
      "Total cost solution 1:\n",
      "Team 1: 735 M €\n",
      "Team 2: 680 M €\n",
      "\n",
      "Solution 2 has valid teams:\n",
      "Team 1: False\n",
      "Team 2: True\n"
     ]
    }
   ],
   "source": [
    "print(\"Has repeated players:\")\n",
    "print(\"Solution 1:\", has_repeated_players(solution1))\n",
    "print(\"Solution 2:\", has_repeated_players(solution2))\n",
    "print(\"Solution 3:\", has_repeated_players(solution3))\n",
    "\n",
    "print(\"\\nTotal cost solution 1:\")\n",
    "print(\"Team 1:\", total_cost(solution1[0]), \"M €\")\n",
    "print(\"Team 2:\", total_cost(solution1[1]), \"M €\")\n",
    "\n",
    "print(\"\\nSolution 2 has valid teams:\")\n",
    "print(\"Team 1:\", valid_team(solution2[0]))\n",
    "print(\"Team 2:\", valid_team(solution2[1]))"
   ]
  },
  {
   "cell_type": "code",
   "execution_count": null,
   "metadata": {},
   "outputs": [],
   "source": []
  },
  {
   "cell_type": "code",
   "execution_count": null,
   "metadata": {},
   "outputs": [],
   "source": []
  },
  {
   "cell_type": "code",
   "execution_count": null,
   "metadata": {},
   "outputs": [],
   "source": [
    "class Team:\n",
    "    def __init__(self, name, ):\n",
    "    "
   ]
  }
 ],
 "metadata": {
  "kernelspec": {
   "display_name": "base",
   "language": "python",
   "name": "python3"
  },
  "language_info": {
   "codemirror_mode": {
    "name": "ipython",
    "version": 3
   },
   "file_extension": ".py",
   "mimetype": "text/x-python",
   "name": "python",
   "nbconvert_exporter": "python",
   "pygments_lexer": "ipython3",
   "version": "3.12.7"
  }
 },
 "nbformat": 4,
 "nbformat_minor": 2
}
