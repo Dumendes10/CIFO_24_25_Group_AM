{
 "cells": [
  {
   "cell_type": "markdown",
   "id": "cad78d35",
   "metadata": {},
   "source": [
    "# Computation Intelligence for Optimization | Sports League Optimization"
   ]
  },
  {
   "cell_type": "markdown",
   "id": "009dc5cb",
   "metadata": {},
   "source": [
    "`Group AM`\n",
    "- Eduardo Mendes, 20240850\n",
    "- Helena Duarte, 20240530\n",
    "- João Freire, 20240528\n",
    "- Mariana Sousa, 20240516"
   ]
  },
  {
   "cell_type": "markdown",
   "id": "5d3862e6",
   "metadata": {},
   "source": [
    "<div class=\"alert alert-block alert-info\">\n",
    "\n",
    "# Table of Contents\n",
    "    \n",
    "[1. Import Libraries](#1)<br>\n",
    "\n",
    "[2. Load data](#2)<br>"
   ]
  },
  {
   "cell_type": "markdown",
   "id": "c4f90bbb",
   "metadata": {},
   "source": [
    "<a class=\"anchor\" id=\"1\">\n",
    "\n",
    "# 1. Import Libraries\n",
    "    \n",
    "</a>"
   ]
  },
  {
   "cell_type": "code",
   "execution_count": 3,
   "id": "8788a945",
   "metadata": {},
   "outputs": [],
   "source": [
    "import os\n",
    "import pandas as pd\n",
    "import numpy as np\n",
    "\n",
    "\n",
    "from copy import deepcopy\n",
    "from random import random, sample, choice, randint\n",
    "import copy"
   ]
  },
  {
   "cell_type": "markdown",
   "id": "6da5f17f",
   "metadata": {},
   "source": [
    "<a class=\"anchor\" id=\"2\">\n",
    "\n",
    "# 2. Load data\n",
    "    \n",
    "</a>"
   ]
  },
  {
   "cell_type": "code",
   "execution_count": 4,
   "id": "047744e9",
   "metadata": {},
   "outputs": [
    {
     "data": {
      "text/html": [
       "<div>\n",
       "<style scoped>\n",
       "    .dataframe tbody tr th:only-of-type {\n",
       "        vertical-align: middle;\n",
       "    }\n",
       "\n",
       "    .dataframe tbody tr th {\n",
       "        vertical-align: top;\n",
       "    }\n",
       "\n",
       "    .dataframe thead th {\n",
       "        text-align: right;\n",
       "    }\n",
       "</style>\n",
       "<table border=\"1\" class=\"dataframe\">\n",
       "  <thead>\n",
       "    <tr style=\"text-align: right;\">\n",
       "      <th></th>\n",
       "      <th>Name</th>\n",
       "      <th>Position</th>\n",
       "      <th>Skill</th>\n",
       "      <th>Salary (€M)</th>\n",
       "    </tr>\n",
       "  </thead>\n",
       "  <tbody>\n",
       "    <tr>\n",
       "      <th>0</th>\n",
       "      <td>Alex Carter</td>\n",
       "      <td>GK</td>\n",
       "      <td>85</td>\n",
       "      <td>90</td>\n",
       "    </tr>\n",
       "    <tr>\n",
       "      <th>1</th>\n",
       "      <td>Jordan Smith</td>\n",
       "      <td>GK</td>\n",
       "      <td>88</td>\n",
       "      <td>100</td>\n",
       "    </tr>\n",
       "    <tr>\n",
       "      <th>2</th>\n",
       "      <td>Ryan Mitchell</td>\n",
       "      <td>GK</td>\n",
       "      <td>83</td>\n",
       "      <td>85</td>\n",
       "    </tr>\n",
       "    <tr>\n",
       "      <th>3</th>\n",
       "      <td>Chris Thompson</td>\n",
       "      <td>GK</td>\n",
       "      <td>80</td>\n",
       "      <td>80</td>\n",
       "    </tr>\n",
       "    <tr>\n",
       "      <th>4</th>\n",
       "      <td>Blake Henderson</td>\n",
       "      <td>GK</td>\n",
       "      <td>87</td>\n",
       "      <td>95</td>\n",
       "    </tr>\n",
       "  </tbody>\n",
       "</table>\n",
       "</div>"
      ],
      "text/plain": [
       "              Name Position  Skill  Salary (€M)\n",
       "0      Alex Carter       GK     85           90\n",
       "1     Jordan Smith       GK     88          100\n",
       "2    Ryan Mitchell       GK     83           85\n",
       "3   Chris Thompson       GK     80           80\n",
       "4  Blake Henderson       GK     87           95"
      ]
     },
     "execution_count": 4,
     "metadata": {},
     "output_type": "execute_result"
    }
   ],
   "source": [
    "#data_dir= os.path.join(os.getcwd(), 'players(in).csv')\n",
    "\n",
    "# Read the CSV file into a DataFrame\n",
    "df = pd.read_csv(\"players(in).csv\", index_col=0)\n",
    "df.head()"
   ]
  },
  {
   "cell_type": "markdown",
   "id": "388fb960",
   "metadata": {},
   "source": [
    "<a class=\"anchor\" id=\"3\">\n",
    "\n",
    "# 3. Problem Definiton\n",
    "    \n",
    "</a>"
   ]
  },
  {
   "cell_type": "markdown",
   "id": "9af45769",
   "metadata": {},
   "source": [
    "In a fantasy sports league, the objective is to assign players to teams in a way that ensures\n",
    "a balanced distribution of talent while staying within salary caps.\n",
    "\n",
    "1) Each player is defined by the following attributes:\n",
    "* Skill rating: Represents the player's ability.\n",
    "* Cost: The player's salary.\n",
    "* Position (One of four roles) : Goalkeeper (GK), Defender (DEF), Midfielder (MID), or Forward (FWD).\n",
    "\n",
    "A solution is a complete league configuration, specifying the team assignment for each player. These are the constraints that must be verified in every solution of the search space (no object is considered a solution if it doesn’t comply with these):\n",
    "* Each team must consist of: 1 Goalkeeper, 2 Defenders, 2 Midfielders and 2\n",
    "Forwards.\n",
    "* Each player is assigned to exactly one team.\n",
    "\n",
    "*Impossible Configurations*: Teams that do not follow this exact structure (e.g., a team with 2 goalkeepers, or a team where the same defender is assigned twice) are not part of the search space and are not considered solutions. It is forbidden to generate such an arrangement during evolution.\n",
    "\n",
    "Besides that, each team should not exceed a 750€ million total budget. If it does, it is not a valid solution and the fitness value should reflect that.\n",
    "\n",
    "The `objective` is to create a balanced league that complies with the constraints. \n",
    "A balanced league a is a league where the average skill rating of the players is roughly the same among the teams. \n",
    "This can be measured by the standard deviation of the average skill rating of the teams.\n",
    "\n",
    "You can find a dataset of players with their names, position, skill rating and salary (in million €).\n",
    "These players should be distributed across 5 teams of 7 players each."
   ]
  },
  {
   "cell_type": "markdown",
   "id": "a6abe17d",
   "metadata": {},
   "source": [
    "# 4.Representação com classes player, team and League "
   ]
  },
  {
   "cell_type": "code",
   "execution_count": 5,
   "id": "1bc279b7",
   "metadata": {},
   "outputs": [],
   "source": [
    "# change the column names to lowercase\n",
    "df.rename(columns={\n",
    "    \"Name\": \"name\",\n",
    "    \"Position\": \"position\",\n",
    "    \"Skill\": \"skill\",\n",
    "    \"Salary (€M)\": \"salary\"\n",
    "}, inplace=True)"
   ]
  },
  {
   "cell_type": "code",
   "execution_count": 6,
   "id": "fc5dcdfe",
   "metadata": {},
   "outputs": [
    {
     "data": {
      "text/html": [
       "<div>\n",
       "<style scoped>\n",
       "    .dataframe tbody tr th:only-of-type {\n",
       "        vertical-align: middle;\n",
       "    }\n",
       "\n",
       "    .dataframe tbody tr th {\n",
       "        vertical-align: top;\n",
       "    }\n",
       "\n",
       "    .dataframe thead th {\n",
       "        text-align: right;\n",
       "    }\n",
       "</style>\n",
       "<table border=\"1\" class=\"dataframe\">\n",
       "  <thead>\n",
       "    <tr style=\"text-align: right;\">\n",
       "      <th></th>\n",
       "      <th>name</th>\n",
       "      <th>position</th>\n",
       "      <th>skill</th>\n",
       "      <th>salary</th>\n",
       "    </tr>\n",
       "  </thead>\n",
       "  <tbody>\n",
       "    <tr>\n",
       "      <th>0</th>\n",
       "      <td>Alex Carter</td>\n",
       "      <td>GK</td>\n",
       "      <td>85</td>\n",
       "      <td>90</td>\n",
       "    </tr>\n",
       "    <tr>\n",
       "      <th>1</th>\n",
       "      <td>Jordan Smith</td>\n",
       "      <td>GK</td>\n",
       "      <td>88</td>\n",
       "      <td>100</td>\n",
       "    </tr>\n",
       "    <tr>\n",
       "      <th>2</th>\n",
       "      <td>Ryan Mitchell</td>\n",
       "      <td>GK</td>\n",
       "      <td>83</td>\n",
       "      <td>85</td>\n",
       "    </tr>\n",
       "    <tr>\n",
       "      <th>3</th>\n",
       "      <td>Chris Thompson</td>\n",
       "      <td>GK</td>\n",
       "      <td>80</td>\n",
       "      <td>80</td>\n",
       "    </tr>\n",
       "    <tr>\n",
       "      <th>4</th>\n",
       "      <td>Blake Henderson</td>\n",
       "      <td>GK</td>\n",
       "      <td>87</td>\n",
       "      <td>95</td>\n",
       "    </tr>\n",
       "    <tr>\n",
       "      <th>5</th>\n",
       "      <td>Daniel Foster</td>\n",
       "      <td>DEF</td>\n",
       "      <td>90</td>\n",
       "      <td>110</td>\n",
       "    </tr>\n",
       "    <tr>\n",
       "      <th>6</th>\n",
       "      <td>Lucas Bennett</td>\n",
       "      <td>DEF</td>\n",
       "      <td>85</td>\n",
       "      <td>90</td>\n",
       "    </tr>\n",
       "    <tr>\n",
       "      <th>7</th>\n",
       "      <td>Owen Parker</td>\n",
       "      <td>DEF</td>\n",
       "      <td>88</td>\n",
       "      <td>100</td>\n",
       "    </tr>\n",
       "    <tr>\n",
       "      <th>8</th>\n",
       "      <td>Ethan Howard</td>\n",
       "      <td>DEF</td>\n",
       "      <td>80</td>\n",
       "      <td>70</td>\n",
       "    </tr>\n",
       "    <tr>\n",
       "      <th>9</th>\n",
       "      <td>Mason Reed</td>\n",
       "      <td>DEF</td>\n",
       "      <td>82</td>\n",
       "      <td>75</td>\n",
       "    </tr>\n",
       "  </tbody>\n",
       "</table>\n",
       "</div>"
      ],
      "text/plain": [
       "              name position  skill  salary\n",
       "0      Alex Carter       GK     85      90\n",
       "1     Jordan Smith       GK     88     100\n",
       "2    Ryan Mitchell       GK     83      85\n",
       "3   Chris Thompson       GK     80      80\n",
       "4  Blake Henderson       GK     87      95\n",
       "5    Daniel Foster      DEF     90     110\n",
       "6    Lucas Bennett      DEF     85      90\n",
       "7      Owen Parker      DEF     88     100\n",
       "8     Ethan Howard      DEF     80      70\n",
       "9       Mason Reed      DEF     82      75"
      ]
     },
     "execution_count": 6,
     "metadata": {},
     "output_type": "execute_result"
    }
   ],
   "source": [
    "df.head(10) # show the first 10 rows of the dataframe with the renamed columns"
   ]
  },
  {
   "cell_type": "code",
   "execution_count": 7,
   "id": "4f99f72c",
   "metadata": {},
   "outputs": [
    {
     "data": {
      "text/html": [
       "<div>\n",
       "<style scoped>\n",
       "    .dataframe tbody tr th:only-of-type {\n",
       "        vertical-align: middle;\n",
       "    }\n",
       "\n",
       "    .dataframe tbody tr th {\n",
       "        vertical-align: top;\n",
       "    }\n",
       "\n",
       "    .dataframe thead th {\n",
       "        text-align: right;\n",
       "    }\n",
       "</style>\n",
       "<table border=\"1\" class=\"dataframe\">\n",
       "  <thead>\n",
       "    <tr style=\"text-align: right;\">\n",
       "      <th></th>\n",
       "      <th>name</th>\n",
       "      <th>position</th>\n",
       "      <th>skill</th>\n",
       "      <th>salary</th>\n",
       "    </tr>\n",
       "  </thead>\n",
       "  <tbody>\n",
       "    <tr>\n",
       "      <th>0</th>\n",
       "      <td>Alex Carter</td>\n",
       "      <td>GK</td>\n",
       "      <td>85</td>\n",
       "      <td>90</td>\n",
       "    </tr>\n",
       "    <tr>\n",
       "      <th>1</th>\n",
       "      <td>Jordan Smith</td>\n",
       "      <td>GK</td>\n",
       "      <td>88</td>\n",
       "      <td>100</td>\n",
       "    </tr>\n",
       "    <tr>\n",
       "      <th>2</th>\n",
       "      <td>Ryan Mitchell</td>\n",
       "      <td>GK</td>\n",
       "      <td>83</td>\n",
       "      <td>85</td>\n",
       "    </tr>\n",
       "    <tr>\n",
       "      <th>3</th>\n",
       "      <td>Chris Thompson</td>\n",
       "      <td>GK</td>\n",
       "      <td>80</td>\n",
       "      <td>80</td>\n",
       "    </tr>\n",
       "    <tr>\n",
       "      <th>4</th>\n",
       "      <td>Blake Henderson</td>\n",
       "      <td>GK</td>\n",
       "      <td>87</td>\n",
       "      <td>95</td>\n",
       "    </tr>\n",
       "    <tr>\n",
       "      <th>5</th>\n",
       "      <td>Maxwell Flores</td>\n",
       "      <td>DEF</td>\n",
       "      <td>81</td>\n",
       "      <td>72</td>\n",
       "    </tr>\n",
       "    <tr>\n",
       "      <th>6</th>\n",
       "      <td>Jaxon Griffin</td>\n",
       "      <td>DEF</td>\n",
       "      <td>79</td>\n",
       "      <td>65</td>\n",
       "    </tr>\n",
       "    <tr>\n",
       "      <th>7</th>\n",
       "      <td>Caleb Fisher</td>\n",
       "      <td>DEF</td>\n",
       "      <td>84</td>\n",
       "      <td>85</td>\n",
       "    </tr>\n",
       "    <tr>\n",
       "      <th>8</th>\n",
       "      <td>Logan Brooks</td>\n",
       "      <td>DEF</td>\n",
       "      <td>86</td>\n",
       "      <td>95</td>\n",
       "    </tr>\n",
       "    <tr>\n",
       "      <th>9</th>\n",
       "      <td>Ethan Howard</td>\n",
       "      <td>DEF</td>\n",
       "      <td>80</td>\n",
       "      <td>70</td>\n",
       "    </tr>\n",
       "  </tbody>\n",
       "</table>\n",
       "</div>"
      ],
      "text/plain": [
       "              name position  skill  salary\n",
       "0      Alex Carter       GK     85      90\n",
       "1     Jordan Smith       GK     88     100\n",
       "2    Ryan Mitchell       GK     83      85\n",
       "3   Chris Thompson       GK     80      80\n",
       "4  Blake Henderson       GK     87      95\n",
       "5   Maxwell Flores      DEF     81      72\n",
       "6    Jaxon Griffin      DEF     79      65\n",
       "7     Caleb Fisher      DEF     84      85\n",
       "8     Logan Brooks      DEF     86      95\n",
       "9     Ethan Howard      DEF     80      70"
      ]
     },
     "execution_count": 7,
     "metadata": {},
     "output_type": "execute_result"
    }
   ],
   "source": [
    "position_order = [\"GK\", \"DEF\", \"MID\", \"FWD\"] # the order of positions\n",
    "\n",
    "# Create a mapping dictionary: {'GK': 0, 'DEF': 1, 'MID': 2, 'FWD': 3}\n",
    "# x.map(...) converts each \"position\" value in the DataFrame to its corresponding order index\n",
    "# Sorts the DataFrame according to these mapped indices\n",
    "df_sorted = df.sort_values(by=\"position\", key=lambda x: x.map({pos: i for i, pos in enumerate(position_order)})).reset_index(drop=True)\n",
    "df_sorted.head(10)"
   ]
  },
  {
   "cell_type": "code",
   "execution_count": 8,
   "id": "5cc7ecf2",
   "metadata": {},
   "outputs": [],
   "source": [
    "# Create a column \"id\" in the sorted DataFrame\n",
    "df_sorted[\"id\"]= df_sorted.index"
   ]
  },
  {
   "cell_type": "code",
   "execution_count": 9,
   "id": "470608fe",
   "metadata": {},
   "outputs": [
    {
     "data": {
      "text/html": [
       "<div>\n",
       "<style scoped>\n",
       "    .dataframe tbody tr th:only-of-type {\n",
       "        vertical-align: middle;\n",
       "    }\n",
       "\n",
       "    .dataframe tbody tr th {\n",
       "        vertical-align: top;\n",
       "    }\n",
       "\n",
       "    .dataframe thead th {\n",
       "        text-align: right;\n",
       "    }\n",
       "</style>\n",
       "<table border=\"1\" class=\"dataframe\">\n",
       "  <thead>\n",
       "    <tr style=\"text-align: right;\">\n",
       "      <th></th>\n",
       "      <th>name</th>\n",
       "      <th>position</th>\n",
       "      <th>skill</th>\n",
       "      <th>salary</th>\n",
       "      <th>id</th>\n",
       "    </tr>\n",
       "  </thead>\n",
       "  <tbody>\n",
       "    <tr>\n",
       "      <th>0</th>\n",
       "      <td>Alex Carter</td>\n",
       "      <td>GK</td>\n",
       "      <td>85</td>\n",
       "      <td>90</td>\n",
       "      <td>0</td>\n",
       "    </tr>\n",
       "    <tr>\n",
       "      <th>1</th>\n",
       "      <td>Jordan Smith</td>\n",
       "      <td>GK</td>\n",
       "      <td>88</td>\n",
       "      <td>100</td>\n",
       "      <td>1</td>\n",
       "    </tr>\n",
       "    <tr>\n",
       "      <th>2</th>\n",
       "      <td>Ryan Mitchell</td>\n",
       "      <td>GK</td>\n",
       "      <td>83</td>\n",
       "      <td>85</td>\n",
       "      <td>2</td>\n",
       "    </tr>\n",
       "    <tr>\n",
       "      <th>3</th>\n",
       "      <td>Chris Thompson</td>\n",
       "      <td>GK</td>\n",
       "      <td>80</td>\n",
       "      <td>80</td>\n",
       "      <td>3</td>\n",
       "    </tr>\n",
       "    <tr>\n",
       "      <th>4</th>\n",
       "      <td>Blake Henderson</td>\n",
       "      <td>GK</td>\n",
       "      <td>87</td>\n",
       "      <td>95</td>\n",
       "      <td>4</td>\n",
       "    </tr>\n",
       "    <tr>\n",
       "      <th>5</th>\n",
       "      <td>Maxwell Flores</td>\n",
       "      <td>DEF</td>\n",
       "      <td>81</td>\n",
       "      <td>72</td>\n",
       "      <td>5</td>\n",
       "    </tr>\n",
       "    <tr>\n",
       "      <th>6</th>\n",
       "      <td>Jaxon Griffin</td>\n",
       "      <td>DEF</td>\n",
       "      <td>79</td>\n",
       "      <td>65</td>\n",
       "      <td>6</td>\n",
       "    </tr>\n",
       "    <tr>\n",
       "      <th>7</th>\n",
       "      <td>Caleb Fisher</td>\n",
       "      <td>DEF</td>\n",
       "      <td>84</td>\n",
       "      <td>85</td>\n",
       "      <td>7</td>\n",
       "    </tr>\n",
       "    <tr>\n",
       "      <th>8</th>\n",
       "      <td>Logan Brooks</td>\n",
       "      <td>DEF</td>\n",
       "      <td>86</td>\n",
       "      <td>95</td>\n",
       "      <td>8</td>\n",
       "    </tr>\n",
       "    <tr>\n",
       "      <th>9</th>\n",
       "      <td>Ethan Howard</td>\n",
       "      <td>DEF</td>\n",
       "      <td>80</td>\n",
       "      <td>70</td>\n",
       "      <td>9</td>\n",
       "    </tr>\n",
       "  </tbody>\n",
       "</table>\n",
       "</div>"
      ],
      "text/plain": [
       "              name position  skill  salary  id\n",
       "0      Alex Carter       GK     85      90   0\n",
       "1     Jordan Smith       GK     88     100   1\n",
       "2    Ryan Mitchell       GK     83      85   2\n",
       "3   Chris Thompson       GK     80      80   3\n",
       "4  Blake Henderson       GK     87      95   4\n",
       "5   Maxwell Flores      DEF     81      72   5\n",
       "6    Jaxon Griffin      DEF     79      65   6\n",
       "7     Caleb Fisher      DEF     84      85   7\n",
       "8     Logan Brooks      DEF     86      95   8\n",
       "9     Ethan Howard      DEF     80      70   9"
      ]
     },
     "execution_count": 9,
     "metadata": {},
     "output_type": "execute_result"
    }
   ],
   "source": [
    "df_sorted.head(10)\n"
   ]
  },
  {
   "cell_type": "code",
   "execution_count": 10,
   "id": "e2fdfc7a",
   "metadata": {},
   "outputs": [
    {
     "data": {
      "text/plain": [
       "[{'name': 'Alex Carter', 'position': 'GK', 'skill': 85, 'salary': 90, 'id': 0},\n",
       " {'name': 'Jordan Smith',\n",
       "  'position': 'GK',\n",
       "  'skill': 88,\n",
       "  'salary': 100,\n",
       "  'id': 1},\n",
       " {'name': 'Ryan Mitchell',\n",
       "  'position': 'GK',\n",
       "  'skill': 83,\n",
       "  'salary': 85,\n",
       "  'id': 2},\n",
       " {'name': 'Chris Thompson',\n",
       "  'position': 'GK',\n",
       "  'skill': 80,\n",
       "  'salary': 80,\n",
       "  'id': 3},\n",
       " {'name': 'Blake Henderson',\n",
       "  'position': 'GK',\n",
       "  'skill': 87,\n",
       "  'salary': 95,\n",
       "  'id': 4},\n",
       " {'name': 'Maxwell Flores',\n",
       "  'position': 'DEF',\n",
       "  'skill': 81,\n",
       "  'salary': 72,\n",
       "  'id': 5},\n",
       " {'name': 'Jaxon Griffin',\n",
       "  'position': 'DEF',\n",
       "  'skill': 79,\n",
       "  'salary': 65,\n",
       "  'id': 6},\n",
       " {'name': 'Caleb Fisher',\n",
       "  'position': 'DEF',\n",
       "  'skill': 84,\n",
       "  'salary': 85,\n",
       "  'id': 7},\n",
       " {'name': 'Logan Brooks',\n",
       "  'position': 'DEF',\n",
       "  'skill': 86,\n",
       "  'salary': 95,\n",
       "  'id': 8},\n",
       " {'name': 'Ethan Howard',\n",
       "  'position': 'DEF',\n",
       "  'skill': 80,\n",
       "  'salary': 70,\n",
       "  'id': 9},\n",
       " {'name': 'Owen Parker',\n",
       "  'position': 'DEF',\n",
       "  'skill': 88,\n",
       "  'salary': 100,\n",
       "  'id': 10},\n",
       " {'name': 'Lucas Bennett',\n",
       "  'position': 'DEF',\n",
       "  'skill': 85,\n",
       "  'salary': 90,\n",
       "  'id': 11},\n",
       " {'name': 'Daniel Foster',\n",
       "  'position': 'DEF',\n",
       "  'skill': 90,\n",
       "  'salary': 110,\n",
       "  'id': 12},\n",
       " {'name': 'Mason Reed',\n",
       "  'position': 'DEF',\n",
       "  'skill': 82,\n",
       "  'salary': 75,\n",
       "  'id': 13},\n",
       " {'name': 'Brayden Hughes',\n",
       "  'position': 'DEF',\n",
       "  'skill': 87,\n",
       "  'salary': 100,\n",
       "  'id': 14},\n",
       " {'name': 'Bentley Rivera',\n",
       "  'position': 'MID',\n",
       "  'skill': 88,\n",
       "  'salary': 100,\n",
       "  'id': 15},\n",
       " {'name': 'Ashton Phillips',\n",
       "  'position': 'MID',\n",
       "  'skill': 90,\n",
       "  'salary': 110,\n",
       "  'id': 16},\n",
       " {'name': 'Dominic Bell',\n",
       "  'position': 'MID',\n",
       "  'skill': 86,\n",
       "  'salary': 95,\n",
       "  'id': 17},\n",
       " {'name': 'Gavin Richardson',\n",
       "  'position': 'MID',\n",
       "  'skill': 87,\n",
       "  'salary': 95,\n",
       "  'id': 18},\n",
       " {'name': 'Austin Torres',\n",
       "  'position': 'MID',\n",
       "  'skill': 82,\n",
       "  'salary': 80,\n",
       "  'id': 19},\n",
       " {'name': 'Hunter Cooper',\n",
       "  'position': 'MID',\n",
       "  'skill': 83,\n",
       "  'salary': 85,\n",
       "  'id': 20},\n",
       " {'name': 'Dylan Morgan',\n",
       "  'position': 'MID',\n",
       "  'skill': 91,\n",
       "  'salary': 115,\n",
       "  'id': 21},\n",
       " {'name': 'Connor Hayes',\n",
       "  'position': 'MID',\n",
       "  'skill': 89,\n",
       "  'salary': 105,\n",
       "  'id': 22},\n",
       " {'name': 'Nathan Wright',\n",
       "  'position': 'MID',\n",
       "  'skill': 92,\n",
       "  'salary': 120,\n",
       "  'id': 23},\n",
       " {'name': 'Spencer Ward',\n",
       "  'position': 'MID',\n",
       "  'skill': 84,\n",
       "  'salary': 85,\n",
       "  'id': 24},\n",
       " {'name': 'Sebastian Perry',\n",
       "  'position': 'FWD',\n",
       "  'skill': 95,\n",
       "  'salary': 150,\n",
       "  'id': 25},\n",
       " {'name': 'Xavier Bryant',\n",
       "  'position': 'FWD',\n",
       "  'skill': 90,\n",
       "  'salary': 120,\n",
       "  'id': 26},\n",
       " {'name': 'Elijah Sanders',\n",
       "  'position': 'FWD',\n",
       "  'skill': 93,\n",
       "  'salary': 140,\n",
       "  'id': 27},\n",
       " {'name': 'Adrian Collins',\n",
       "  'position': 'FWD',\n",
       "  'skill': 85,\n",
       "  'salary': 90,\n",
       "  'id': 28},\n",
       " {'name': 'Tyler Jenkins',\n",
       "  'position': 'FWD',\n",
       "  'skill': 80,\n",
       "  'salary': 70,\n",
       "  'id': 29},\n",
       " {'name': 'Chase Murphy',\n",
       "  'position': 'FWD',\n",
       "  'skill': 86,\n",
       "  'salary': 95,\n",
       "  'id': 30},\n",
       " {'name': 'Landon Powell',\n",
       "  'position': 'FWD',\n",
       "  'skill': 89,\n",
       "  'salary': 110,\n",
       "  'id': 31},\n",
       " {'name': 'Julian Scott',\n",
       "  'position': 'FWD',\n",
       "  'skill': 92,\n",
       "  'salary': 130,\n",
       "  'id': 32},\n",
       " {'name': 'Colton Gray',\n",
       "  'position': 'FWD',\n",
       "  'skill': 91,\n",
       "  'salary': 125,\n",
       "  'id': 33},\n",
       " {'name': 'Zachary Nelson',\n",
       "  'position': 'FWD',\n",
       "  'skill': 86,\n",
       "  'salary': 92,\n",
       "  'id': 34}]"
      ]
     },
     "execution_count": 10,
     "metadata": {},
     "output_type": "execute_result"
    }
   ],
   "source": [
    "# Create a list of players with their attributes, each player is a dictionary with their attributes, such as name, position, skill level and salary\n",
    "dict_players = df_sorted.to_dict(orient=\"records\")\n",
    "dict_players\n",
    "\n"
   ]
  },
  {
   "cell_type": "code",
   "execution_count": 11,
   "id": "c1843e88",
   "metadata": {},
   "outputs": [],
   "source": [
    "# The goal is to create a dict that maps each position [\"GK\", \"DEF\", \"MID\", \"FWD\"]\n",
    "# to a list of player IDs who play that position — in the specific order: GK → DEF → MID → FWD\n",
    "\n",
    "team_order= [\"GK\", \"DEF\", \"MID\", \"FWD\"]\n",
    "team_grouped = df_sorted.groupby(\"position\")[\"id\"].apply(list) # in the end converts the group of ids to a list\n",
    "\n",
    "# Create a dictionary that maps each position to its corresponding player IDs\n",
    "position_id_map = {pos: team_grouped[pos] for pos in team_order if pos in team_grouped}"
   ]
  },
  {
   "cell_type": "code",
   "execution_count": 12,
   "id": "c4c4e151",
   "metadata": {},
   "outputs": [
    {
     "data": {
      "text/plain": [
       "{'GK': [0, 1, 2, 3, 4],\n",
       " 'DEF': [5, 6, 7, 8, 9, 10, 11, 12, 13, 14],\n",
       " 'MID': [15, 16, 17, 18, 19, 20, 21, 22, 23, 24],\n",
       " 'FWD': [25, 26, 27, 28, 29, 30, 31, 32, 33, 34]}"
      ]
     },
     "execution_count": 12,
     "metadata": {},
     "output_type": "execute_result"
    }
   ],
   "source": [
    "position_id_map"
   ]
  },
  {
   "cell_type": "code",
   "execution_count": 13,
   "id": "6113f361",
   "metadata": {},
   "outputs": [],
   "source": [
    "import random"
   ]
  },
  {
   "cell_type": "markdown",
   "id": "59e41e2b",
   "metadata": {},
   "source": [
    "* this is a possible function to generate one team, just to understand what we have to do"
   ]
  },
  {
   "cell_type": "code",
   "execution_count": 14,
   "id": "12543110",
   "metadata": {},
   "outputs": [],
   "source": [
    "# create a function that generates a team from the dictionary of indices\n",
    "def generate_team_indices(position_id_map):\n",
    "\n",
    "    \"\"\"\n",
    "    Generates a valid sports team from a dictionary of player indices by position.\n",
    "\n",
    "    This function randomly selects player indices to form a complete team that adheres\n",
    "    to the required composition constraints:\n",
    "    - 1 Goalkeeper (GK)\n",
    "    - 2 Defenders (DEF)\n",
    "    - 2 Midfielders (MID)\n",
    "    - 2 Forwards (FWD)\n",
    "\n",
    "    The selection is made from a dictionary (`position_id_map`) that maps each position\n",
    "    to a list of available player indices. \n",
    "    \n",
    "    Parameters:\n",
    "        players (pd.DataFrame): A DataFrame containing player information (not used directly in this function).\n",
    "        position_id_map (dict): A dictionary mapping positions (\"GK\", \"DEF\", \"MID\", \"FWD\")\n",
    "                                to lists of available player indices.\n",
    "\n",
    "    Returns:\n",
    "        list: A list of player indices representing one valid team.\n",
    "\n",
    "    \"\"\"\n",
    "    # generates a team from a dictionary of indices\n",
    "\n",
    "    # Randomly select one valid team (just player indices)\n",
    "    team = []\n",
    "    team += random.sample(position_id_map[\"GK\"], 1)  # Select 1 goalkeeper\n",
    "    team += random.sample(position_id_map[\"DEF\"], 2) # Select 2 defenders\n",
    "    team += random.sample(position_id_map[\"MID\"], 2) # Select 2 midfielders\n",
    "    team += random.sample(position_id_map[\"FWD\"], 2) # Select 2 forwards\n",
    "\n",
    "    return team"
   ]
  },
  {
   "cell_type": "code",
   "execution_count": 15,
   "id": "20a987f1",
   "metadata": {},
   "outputs": [
    {
     "data": {
      "text/plain": [
       "{'GK': [0, 1, 2, 3, 4],\n",
       " 'DEF': [5, 6, 7, 8, 9, 10, 11, 12, 13, 14],\n",
       " 'MID': [15, 16, 17, 18, 19, 20, 21, 22, 23, 24],\n",
       " 'FWD': [25, 26, 27, 28, 29, 30, 31, 32, 33, 34]}"
      ]
     },
     "execution_count": 15,
     "metadata": {},
     "output_type": "execute_result"
    }
   ],
   "source": [
    "position_id_map"
   ]
  },
  {
   "cell_type": "code",
   "execution_count": 16,
   "id": "7f9b234b",
   "metadata": {},
   "outputs": [
    {
     "data": {
      "text/plain": [
       "[0, 10, 12, 16, 24, 26, 31]"
      ]
     },
     "execution_count": 16,
     "metadata": {},
     "output_type": "execute_result"
    }
   ],
   "source": [
    "team_indices = generate_team_indices(position_id_map)\n",
    "team_indices"
   ]
  },
  {
   "cell_type": "markdown",
   "id": "e7e158bf",
   "metadata": {},
   "source": [
    "* this is a function to understand how to create a valid league"
   ]
  },
  {
   "cell_type": "code",
   "execution_count": 17,
   "id": "e3469ee3",
   "metadata": {},
   "outputs": [],
   "source": [
    "def generate_league(players):\n",
    "    from copy import deepcopy\n",
    "    import random\n",
    "    num_teams=5\n",
    "    \n",
    "    # Step 1: Copy the player pool\n",
    "    available_indices = list(range(len(players)))\n",
    "    random.shuffle(available_indices)  # randomize pool to start\n",
    "    \n",
    "    # Step 2: Group indices by position\n",
    "    def group_available(indices):\n",
    "        from collections import defaultdict\n",
    "        pos_map = defaultdict(list)\n",
    "        for i in indices:\n",
    "            pos_map[players[i][\"position\"]].append(i)\n",
    "        return pos_map\n",
    "    \n",
    "    league = []\n",
    "\n",
    "    for _ in range(num_teams):\n",
    "        pos_to_indices = group_available(available_indices)\n",
    "\n",
    "        # Check we still have enough players per role\n",
    "        if (len(pos_to_indices[\"GK\"]) < 1 or\n",
    "            len(pos_to_indices[\"DEF\"]) < 2 or\n",
    "            len(pos_to_indices[\"MID\"]) < 2 or\n",
    "            len(pos_to_indices[\"FWD\"]) < 2):\n",
    "            raise ValueError(\"Not enough players left to form a complete team.\")\n",
    "\n",
    "        team = []\n",
    "        team += random.sample(pos_to_indices[\"GK\"], 1)\n",
    "        team += random.sample(pos_to_indices[\"DEF\"], 2)\n",
    "        team += random.sample(pos_to_indices[\"MID\"], 2)\n",
    "        team += random.sample(pos_to_indices[\"FWD\"], 2)\n",
    "\n",
    "        # Remove these players from the available pool\n",
    "        for idx in team:\n",
    "            available_indices.remove(idx)\n",
    "\n",
    "        league.append(team)\n",
    "\n",
    "    return league\n"
   ]
  },
  {
   "cell_type": "code",
   "execution_count": 18,
   "id": "3341c650",
   "metadata": {},
   "outputs": [
    {
     "data": {
      "text/plain": [
       "[[3, 14, 7, 23, 22, 28, 27],\n",
       " [1, 6, 8, 16, 21, 25, 33],\n",
       " [2, 5, 11, 20, 15, 29, 26],\n",
       " [0, 13, 12, 24, 19, 31, 34],\n",
       " [4, 10, 9, 17, 18, 32, 30]]"
      ]
     },
     "execution_count": 18,
     "metadata": {},
     "output_type": "execute_result"
    }
   ],
   "source": [
    "league = generate_league(dict_players) \n",
    "league"
   ]
  },
  {
   "cell_type": "markdown",
   "id": "7f46c578",
   "metadata": {},
   "source": [
    "# 5. SOLUTION REPRESENTATION"
   ]
  },
  {
   "cell_type": "code",
   "execution_count": 19,
   "id": "2037b2f9",
   "metadata": {},
   "outputs": [],
   "source": [
    "from abc import ABC, abstractmethod"
   ]
  },
  {
   "cell_type": "code",
   "execution_count": 20,
   "id": "6facb570",
   "metadata": {},
   "outputs": [],
   "source": [
    "class Solution(ABC):\n",
    "    def __init__(self, repr=None):\n",
    "        # To initialize a solution we need to know it's representation.\n",
    "        # If no representation is given, a representation is randomly initialized.\n",
    "        if repr == None:\n",
    "            repr = self.random_initial_representation()\n",
    "        # Attributes\n",
    "        self.repr = repr\n",
    "\n",
    "    # Method that is called when we run print(object of the class)\n",
    "    def __repr__(self):\n",
    "        return str(self.repr)\n",
    "\n",
    "    # Other methods that must be implemented in subclasses\n",
    "    @abstractmethod\n",
    "    def fitness(self):\n",
    "        pass\n",
    "\n",
    "    @abstractmethod\n",
    "    def random_initial_representation():\n",
    "        pass\n"
   ]
  },
  {
   "cell_type": "markdown",
   "id": "1db25f44",
   "metadata": {},
   "source": [
    "* this is the function we are going to use to generate a valid league"
   ]
  },
  {
   "cell_type": "code",
   "execution_count": 21,
   "id": "366877d1",
   "metadata": {},
   "outputs": [],
   "source": [
    "def generate_league(df):\n",
    "\n",
    "    import random\n",
    "    from collections import defaultdict\n",
    "    \n",
    "    num_teams=5\n",
    "    available_ids = df.index.tolist()\n",
    "    random.shuffle(available_ids)\n",
    "\n",
    "    league = []\n",
    "\n",
    "    for _ in range(num_teams):\n",
    "        pos_map = defaultdict(list)\n",
    "\n",
    "        # Build position map using current available players\n",
    "        for i in available_ids:\n",
    "            pos = df.loc[i, \"position\"]\n",
    "            pos_map[pos].append(i)\n",
    "\n",
    "        # Check we have enough players left per role\n",
    "        if (len(pos_map[\"GK\"]) < 1 or\n",
    "            len(pos_map[\"DEF\"]) < 2 or\n",
    "            len(pos_map[\"MID\"]) < 2 or\n",
    "            len(pos_map[\"FWD\"]) < 2):\n",
    "            raise ValueError(\"Not enough players left to form a full team\")\n",
    "\n",
    "        # Select players for the team\n",
    "        team = []\n",
    "        team += random.sample(pos_map[\"GK\"], 1)\n",
    "        team += random.sample(pos_map[\"DEF\"], 2)\n",
    "        team += random.sample(pos_map[\"MID\"], 2)\n",
    "        team += random.sample(pos_map[\"FWD\"], 2)\n",
    "\n",
    "        # Remove them from pool\n",
    "        for idx in team:\n",
    "            available_ids.remove(idx)\n",
    "\n",
    "        league.append(team)\n",
    "\n",
    "    return league"
   ]
  },
  {
   "cell_type": "code",
   "execution_count": 22,
   "id": "95d49bbc",
   "metadata": {},
   "outputs": [],
   "source": [
    "class SportsLeagueSolution(Solution):\n",
    "    def __init__(self, repr=None, players_df=df_sorted):\n",
    "        self.players_df = players_df\n",
    "        super().__init__(repr=repr)\n",
    "\n",
    "    \n",
    "    def random_initial_representation(self):\n",
    "        self.repr = generate_league(self.players_df)\n",
    "\n",
    "        # Reset the 'team' column\n",
    "        self.players_df[\"team\"] = -1\n",
    "\n",
    "        # Assign team number to each player\n",
    "        for team_idx, team in enumerate(self.repr):\n",
    "            self.players_df.loc[team, \"team\"] = team_idx\n",
    "\n",
    "        return self.repr\n",
    "\n",
    "    def fitness(self):\n",
    "        team_avg_skills = []\n",
    "\n",
    "        # Reset team column (optional safety)\n",
    "        self.players_df[\"team\"] = -1\n",
    "\n",
    "        for team_idx, team in enumerate(self.repr):\n",
    "            self.players_df.loc[team, \"team\"] = team_idx\n",
    "            team_df = self.players_df.loc[team]\n",
    "\n",
    "            total_salary = team_df[\"salary\"].sum()\n",
    "            if total_salary > 750:\n",
    "                return 1e9  # Penalize invalid solution\n",
    "\n",
    "            avg_skill = team_df[\"skill\"].mean()\n",
    "            team_avg_skills.append(avg_skill)\n",
    "\n",
    "        # Minimize std deviation of team avg skills → balanced league\n",
    "        return float(np.std(team_avg_skills))\n"
   ]
  },
  {
   "cell_type": "code",
   "execution_count": 23,
   "id": "63b6b368",
   "metadata": {},
   "outputs": [
    {
     "data": {
      "text/plain": [
       "[[4, 11, 5, 21, 16, 34, 27], [1, 7, 6, 15, 23, 25, 29], [0, 14, 12, 18, 17, 33, 32], [2, 13, 8, 24, 20, 31, 26], [3, 9, 10, 19, 22, 28, 30]]"
      ]
     },
     "execution_count": 23,
     "metadata": {},
     "output_type": "execute_result"
    }
   ],
   "source": [
    "sol1 = SportsLeagueSolution()\n",
    "sol1"
   ]
  },
  {
   "cell_type": "code",
   "execution_count": 24,
   "id": "5023d419",
   "metadata": {},
   "outputs": [
    {
     "data": {
      "text/plain": [
       "1.4607797749901945"
      ]
     },
     "execution_count": 24,
     "metadata": {},
     "output_type": "execute_result"
    }
   ],
   "source": [
    "sol1.fitness()"
   ]
  },
  {
   "cell_type": "code",
   "execution_count": 25,
   "id": "5dd76eed",
   "metadata": {},
   "outputs": [
    {
     "data": {
      "text/plain": [
       "[[3, 14, 12, 22, 24, 27, 25], [0, 10, 8, 16, 17, 33, 28], [2, 6, 11, 19, 21, 30, 29], [4, 13, 9, 15, 23, 26, 32], [1, 5, 7, 18, 20, 34, 31]]"
      ]
     },
     "execution_count": 25,
     "metadata": {},
     "output_type": "execute_result"
    }
   ],
   "source": [
    "sol2 = SportsLeagueSolution()\n",
    "sol2"
   ]
  },
  {
   "cell_type": "code",
   "execution_count": 26,
   "id": "6c90f6e0",
   "metadata": {},
   "outputs": [
    {
     "data": {
      "text/plain": [
       "[[3, 14, 12, 22, 24, 27, 25],\n",
       " [0, 10, 8, 16, 17, 33, 28],\n",
       " [2, 6, 11, 19, 21, 30, 29],\n",
       " [4, 13, 9, 15, 23, 26, 32],\n",
       " [1, 5, 7, 18, 20, 34, 31]]"
      ]
     },
     "execution_count": 26,
     "metadata": {},
     "output_type": "execute_result"
    }
   ],
   "source": [
    "sol2.repr"
   ]
  },
  {
   "cell_type": "code",
   "execution_count": 27,
   "id": "3dc4ba41",
   "metadata": {},
   "outputs": [
    {
     "data": {
      "text/plain": [
       "1000000000.0"
      ]
     },
     "execution_count": 27,
     "metadata": {},
     "output_type": "execute_result"
    }
   ],
   "source": [
    "sol2.fitness()"
   ]
  },
  {
   "cell_type": "markdown",
   "id": "c504561d",
   "metadata": {},
   "source": [
    "## Selector Algorithms"
   ]
  },
  {
   "cell_type": "code",
   "execution_count": 28,
   "id": "7c07664c",
   "metadata": {},
   "outputs": [],
   "source": [
    "def tournament_selection(population, maximization = False):\n",
    "\n",
    "    tournament_size = 7  # for now, it's just a fixed size of 5\n",
    "\n",
    "    # Randomly sample individuals from population\n",
    "    sample_population = random.sample(population, tournament_size)\n",
    "    # Sort by fitness (lowest for minimization)\n",
    "    sample_population.sort(key=lambda x: x.fitness(), reverse=maximization)\n",
    "\n",
    "    return sample_population[0]"
   ]
  },
  {
   "cell_type": "code",
   "execution_count": 29,
   "id": "e0897350",
   "metadata": {},
   "outputs": [
    {
     "data": {
      "text/plain": [
       "[[[1, 10, 12, 16, 23, 33, 26], [2, 7, 11, 17, 15, 28, 27], [4, 6, 5, 19, 18, 25, 31], [3, 14, 9, 24, 22, 30, 32], [0, 13, 8, 20, 21, 34, 29]],\n",
       " [[3, 12, 14, 23, 20, 34, 26], [1, 13, 10, 24, 19, 32, 33], [4, 6, 11, 16, 22, 28, 25], [0, 7, 8, 21, 17, 27, 30], [2, 5, 9, 15, 18, 31, 29]],\n",
       " [[1, 11, 13, 23, 17, 28, 27], [2, 10, 8, 24, 20, 34, 26], [3, 12, 5, 15, 16, 33, 25], [0, 6, 7, 21, 22, 30, 29], [4, 14, 9, 18, 19, 31, 32]],\n",
       " [[4, 9, 10, 20, 17, 34, 31], [2, 13, 8, 22, 24, 30, 33], [3, 7, 5, 23, 18, 26, 27], [1, 6, 11, 19, 15, 29, 25], [0, 14, 12, 16, 21, 28, 32]],\n",
       " [[1, 12, 7, 16, 24, 28, 32], [4, 11, 10, 19, 17, 34, 33], [0, 6, 14, 18, 22, 31, 26], [2, 9, 5, 21, 15, 29, 30], [3, 8, 13, 20, 23, 27, 25]],\n",
       " [[1, 9, 5, 19, 22, 28, 25], [2, 6, 12, 18, 23, 27, 29], [3, 13, 8, 16, 17, 31, 34], [0, 11, 7, 21, 20, 26, 32], [4, 10, 14, 15, 24, 33, 30]],\n",
       " [[0, 13, 8, 24, 21, 28, 32], [1, 14, 5, 17, 15, 31, 29], [4, 7, 10, 18, 19, 33, 26], [3, 11, 12, 20, 23, 27, 34], [2, 9, 6, 16, 22, 25, 30]],\n",
       " [[3, 11, 6, 24, 19, 31, 34], [1, 14, 7, 16, 21, 30, 28], [0, 9, 8, 17, 18, 32, 29], [2, 10, 12, 15, 23, 25, 26], [4, 13, 5, 20, 22, 27, 33]],\n",
       " [[1, 7, 13, 23, 16, 33, 32], [0, 8, 6, 20, 15, 27, 28], [2, 11, 12, 24, 18, 25, 30], [3, 14, 10, 22, 17, 29, 31], [4, 5, 9, 19, 21, 34, 26]],\n",
       " [[1, 14, 7, 22, 17, 29, 31], [2, 6, 13, 23, 16, 30, 26], [3, 5, 8, 21, 18, 32, 25], [0, 12, 11, 20, 19, 27, 34], [4, 10, 9, 24, 15, 28, 33]],\n",
       " [[3, 7, 5, 17, 16, 26, 34], [2, 12, 11, 18, 20, 28, 25], [0, 14, 9, 21, 22, 30, 29], [4, 13, 8, 23, 15, 31, 33], [1, 10, 6, 19, 24, 32, 27]],\n",
       " [[2, 6, 11, 20, 18, 28, 33], [4, 14, 13, 23, 24, 27, 34], [0, 5, 12, 17, 22, 29, 31], [3, 8, 10, 15, 21, 32, 30], [1, 7, 9, 16, 19, 25, 26]],\n",
       " [[3, 8, 12, 22, 21, 28, 33], [0, 14, 13, 17, 24, 29, 25], [2, 9, 7, 23, 19, 32, 34], [4, 10, 11, 20, 15, 27, 30], [1, 5, 6, 16, 18, 31, 26]],\n",
       " [[2, 14, 7, 17, 19, 30, 32], [4, 9, 13, 18, 16, 28, 33], [1, 8, 12, 22, 20, 27, 29], [0, 6, 10, 24, 23, 31, 34], [3, 5, 11, 21, 15, 26, 25]],\n",
       " [[0, 9, 10, 16, 21, 31, 27], [3, 6, 13, 17, 23, 26, 34], [2, 14, 7, 19, 24, 30, 33], [4, 12, 5, 18, 15, 25, 29], [1, 8, 11, 20, 22, 32, 28]],\n",
       " [[3, 8, 14, 18, 15, 27, 31], [2, 11, 7, 21, 22, 28, 25], [1, 13, 12, 19, 17, 33, 29], [0, 5, 10, 16, 23, 26, 30], [4, 9, 6, 20, 24, 34, 32]],\n",
       " [[1, 13, 10, 16, 21, 32, 28], [3, 6, 14, 24, 19, 26, 25], [2, 5, 11, 23, 22, 31, 34], [0, 7, 9, 15, 20, 29, 33], [4, 12, 8, 17, 18, 27, 30]],\n",
       " [[3, 6, 8, 15, 22, 32, 34], [2, 10, 11, 18, 20, 31, 28], [4, 5, 13, 21, 24, 30, 26], [0, 9, 14, 19, 17, 29, 27], [1, 7, 12, 16, 23, 25, 33]],\n",
       " [[4, 10, 7, 18, 23, 33, 25], [1, 14, 8, 19, 16, 29, 30], [0, 12, 6, 17, 21, 31, 26], [2, 11, 9, 20, 22, 32, 27], [3, 13, 5, 24, 15, 34, 28]],\n",
       " [[4, 14, 9, 18, 17, 31, 33], [1, 10, 8, 19, 22, 34, 32], [2, 13, 6, 24, 20, 26, 27], [3, 11, 7, 23, 16, 30, 25], [0, 12, 5, 15, 21, 28, 29]],\n",
       " [[0, 5, 12, 15, 16, 34, 25], [4, 8, 7, 17, 21, 26, 28], [2, 9, 10, 22, 20, 31, 33], [3, 14, 6, 24, 18, 29, 30], [1, 13, 11, 23, 19, 27, 32]],\n",
       " [[1, 8, 12, 16, 18, 31, 30], [2, 14, 5, 15, 24, 25, 29], [3, 13, 10, 19, 17, 32, 27], [0, 6, 11, 22, 23, 28, 34], [4, 7, 9, 21, 20, 26, 33]],\n",
       " [[0, 7, 11, 17, 24, 32, 31], [3, 12, 5, 23, 21, 26, 25], [1, 6, 14, 18, 16, 27, 34], [4, 9, 13, 20, 22, 30, 28], [2, 8, 10, 19, 15, 33, 29]],\n",
       " [[1, 8, 10, 20, 21, 32, 33], [3, 7, 6, 18, 23, 27, 29], [0, 12, 9, 16, 22, 25, 26], [2, 11, 5, 19, 24, 28, 31], [4, 14, 13, 17, 15, 30, 34]],\n",
       " [[0, 10, 11, 23, 20, 27, 33], [3, 13, 14, 17, 22, 32, 25], [2, 7, 6, 15, 16, 31, 34], [1, 5, 8, 24, 21, 29, 30], [4, 12, 9, 19, 18, 26, 28]],\n",
       " [[2, 9, 14, 16, 21, 25, 34], [3, 13, 7, 20, 22, 31, 29], [0, 11, 5, 17, 18, 30, 33], [1, 12, 6, 19, 24, 28, 27], [4, 8, 10, 15, 23, 32, 26]],\n",
       " [[4, 6, 11, 19, 16, 25, 26], [0, 9, 5, 15, 18, 31, 32], [1, 7, 14, 24, 21, 29, 33], [2, 13, 12, 17, 20, 30, 28], [3, 8, 10, 23, 22, 34, 27]],\n",
       " [[4, 6, 9, 17, 21, 32, 33], [1, 13, 14, 19, 18, 29, 28], [3, 7, 12, 22, 15, 26, 34], [0, 5, 10, 16, 23, 27, 31], [2, 8, 11, 24, 20, 25, 30]],\n",
       " [[1, 7, 13, 24, 16, 34, 29], [4, 5, 14, 20, 19, 31, 30], [0, 8, 12, 15, 23, 32, 28], [2, 11, 6, 18, 17, 26, 27], [3, 9, 10, 21, 22, 33, 25]],\n",
       " [[3, 13, 8, 16, 22, 32, 30], [2, 9, 5, 17, 21, 34, 25], [0, 11, 6, 20, 15, 27, 26], [1, 14, 7, 24, 23, 31, 29], [4, 12, 10, 18, 19, 33, 28]],\n",
       " [[1, 7, 14, 17, 23, 34, 28], [2, 10, 5, 21, 22, 29, 32], [4, 6, 9, 20, 16, 33, 25], [3, 11, 13, 15, 19, 27, 31], [0, 12, 8, 24, 18, 26, 30]],\n",
       " [[2, 9, 11, 21, 17, 31, 29], [3, 5, 12, 19, 15, 26, 34], [0, 6, 13, 22, 18, 30, 28], [4, 8, 14, 23, 20, 27, 25], [1, 10, 7, 16, 24, 32, 33]],\n",
       " [[0, 6, 7, 21, 23, 27, 29], [4, 9, 10, 24, 18, 33, 31], [3, 14, 8, 17, 16, 34, 28], [1, 13, 11, 22, 19, 30, 26], [2, 5, 12, 15, 20, 32, 25]],\n",
       " [[2, 12, 7, 18, 24, 30, 25], [1, 11, 10, 20, 15, 28, 29], [0, 13, 6, 21, 19, 33, 27], [4, 9, 8, 17, 16, 34, 31], [3, 5, 14, 22, 23, 32, 26]],\n",
       " [[4, 12, 5, 22, 16, 25, 28], [0, 7, 11, 20, 21, 33, 27], [1, 14, 9, 19, 17, 32, 31], [2, 10, 6, 23, 15, 29, 26], [3, 13, 8, 24, 18, 30, 34]],\n",
       " [[1, 12, 6, 24, 16, 32, 31], [0, 11, 14, 22, 21, 26, 25], [2, 13, 9, 15, 18, 29, 28], [4, 5, 10, 19, 23, 27, 33], [3, 7, 8, 20, 17, 34, 30]],\n",
       " [[1, 13, 6, 21, 22, 31, 28], [3, 5, 10, 17, 18, 27, 29], [2, 7, 9, 15, 19, 25, 33], [0, 14, 11, 24, 20, 34, 32], [4, 8, 12, 16, 23, 30, 26]],\n",
       " [[1, 14, 10, 21, 16, 29, 25], [4, 12, 9, 24, 20, 30, 27], [2, 11, 13, 19, 18, 28, 33], [0, 7, 6, 17, 23, 31, 34], [3, 8, 5, 22, 15, 26, 32]],\n",
       " [[2, 14, 10, 20, 19, 25, 29], [1, 6, 12, 17, 22, 26, 33], [4, 8, 13, 24, 21, 32, 27], [3, 9, 7, 16, 18, 34, 28], [0, 11, 5, 15, 23, 30, 31]],\n",
       " [[2, 10, 13, 17, 16, 30, 34], [3, 8, 5, 20, 15, 28, 27], [4, 14, 12, 23, 21, 31, 26], [0, 11, 6, 18, 22, 32, 25], [1, 9, 7, 24, 19, 29, 33]],\n",
       " [[1, 7, 10, 20, 21, 34, 32], [2, 8, 5, 24, 17, 25, 27], [4, 14, 9, 15, 19, 31, 30], [0, 13, 6, 23, 16, 29, 28], [3, 12, 11, 18, 22, 33, 26]],\n",
       " [[2, 5, 9, 16, 15, 29, 26], [1, 8, 7, 21, 22, 33, 30], [4, 12, 14, 17, 23, 25, 32], [3, 6, 11, 18, 19, 34, 27], [0, 10, 13, 20, 24, 28, 31]],\n",
       " [[0, 11, 13, 20, 18, 34, 30], [3, 8, 12, 17, 24, 32, 29], [1, 14, 5, 15, 21, 31, 33], [4, 6, 10, 19, 22, 27, 25], [2, 9, 7, 16, 23, 28, 26]],\n",
       " [[1, 10, 14, 22, 15, 27, 34], [3, 7, 8, 18, 16, 30, 26], [4, 6, 9, 21, 19, 29, 31], [2, 13, 5, 23, 20, 33, 32], [0, 11, 12, 17, 24, 25, 28]],\n",
       " [[3, 13, 6, 17, 19, 25, 30], [0, 8, 5, 22, 18, 29, 31], [1, 9, 11, 16, 20, 26, 28], [2, 14, 7, 24, 23, 32, 27], [4, 12, 10, 21, 15, 34, 33]],\n",
       " [[0, 5, 7, 22, 18, 29, 26], [3, 8, 9, 23, 16, 28, 25], [2, 14, 6, 24, 17, 30, 27], [1, 10, 11, 19, 20, 34, 33], [4, 12, 13, 15, 21, 31, 32]],\n",
       " [[0, 11, 5, 20, 18, 33, 34], [1, 8, 7, 15, 24, 29, 30], [4, 13, 14, 17, 21, 28, 26], [3, 6, 12, 23, 22, 25, 32], [2, 10, 9, 16, 19, 31, 27]],\n",
       " [[0, 5, 6, 22, 20, 28, 33], [3, 9, 12, 18, 19, 27, 34], [2, 7, 13, 15, 23, 25, 32], [4, 8, 14, 21, 16, 30, 26], [1, 11, 10, 17, 24, 29, 31]],\n",
       " [[3, 11, 6, 21, 17, 31, 34], [1, 8, 13, 19, 23, 26, 28], [0, 5, 7, 20, 16, 27, 33], [4, 14, 10, 15, 22, 30, 29], [2, 9, 12, 24, 18, 32, 25]],\n",
       " [[3, 14, 9, 21, 23, 28, 34], [4, 8, 6, 18, 19, 25, 32], [1, 10, 12, 24, 22, 27, 26], [0, 13, 5, 20, 17, 31, 30], [2, 11, 7, 15, 16, 29, 33]]]"
      ]
     },
     "execution_count": 29,
     "metadata": {},
     "output_type": "execute_result"
    }
   ],
   "source": [
    "POP_SIZE = 50\n",
    "initial_population = [\n",
    "    SportsLeagueSolution()\n",
    "    for _ in range(POP_SIZE)\n",
    "]\n",
    "initial_population"
   ]
  },
  {
   "cell_type": "code",
   "execution_count": 30,
   "id": "76f9a802",
   "metadata": {},
   "outputs": [],
   "source": [
    "# tournament_selection(initial_population)"
   ]
  },
  {
   "cell_type": "code",
   "execution_count": 31,
   "id": "161e4ed1",
   "metadata": {},
   "outputs": [],
   "source": [
    "def ranking_selection(population, maximization=False):\n",
    "    \"\"\"\n",
    "    Ranking selection based on linear rank probabilities.\n",
    "    \n",
    "    Args:\n",
    "        population (list): A list of individuals in the population\n",
    "    \n",
    "    Returns:\n",
    "        list or individual: The selected individual\n",
    "    \"\"\"\n",
    "    sorted_population = sorted(population, key=lambda x: x.fitness(), reverse=True)\n",
    "    n = len(population)\n",
    "    ranks = list(range(1, n + 1))  # linear rank\n",
    "\n",
    "    selected = random.choices(sorted_population, weights=ranks, k=1)\n",
    "    return deepcopy(selected[0])"
   ]
  },
  {
   "cell_type": "code",
   "execution_count": null,
   "id": "2159b5cf",
   "metadata": {},
   "outputs": [],
   "source": []
  },
  {
   "cell_type": "markdown",
   "id": "17e9ab51",
   "metadata": {},
   "source": [
    "## Mutation Operators"
   ]
  },
  {
   "cell_type": "markdown",
   "id": "7434ec62",
   "metadata": {},
   "source": [
    "Mutation types:\n",
    "\n",
    "* PlayerSwap: Basic switch one player with another in the same position\n",
    "* RoleShuffle: Choose a role, remove all players from that role, shuffle and re-atribute to teams\n",
    "* PlayerRoleLeftShift: Select a player role (GK, DEF, MID, FWD) and shifts the players in that role to the left across teams, by a random number of positions"
   ]
  },
  {
   "cell_type": "code",
   "execution_count": 32,
   "id": "8d144ac6",
   "metadata": {},
   "outputs": [],
   "source": [
    "from abc import ABC, abstractmethod\n",
    "from random import randint, shuffle, choice\n",
    "from copy import deepcopy"
   ]
  },
  {
   "cell_type": "code",
   "execution_count": 33,
   "id": "d9f73c0b",
   "metadata": {},
   "outputs": [],
   "source": [
    "class MutationOperator(ABC):\n",
    "    @abstractmethod\n",
    "    def mutate(self, solution):\n",
    "        pass"
   ]
  },
  {
   "cell_type": "code",
   "execution_count": 34,
   "id": "72c040b3",
   "metadata": {},
   "outputs": [],
   "source": [
    "# class PlayerSwapMutation(MutationOperator):\n",
    "#     def mutate(self, solution, verbose=False):\n",
    "#         new_repr = deepcopy(solution.repr)\n",
    "\n",
    "#         # Choose the id within the team of the player that will be swapped\n",
    "#         player_to_swap = randint(0, 6)\n",
    "\n",
    "#         # Choose the teams where the players will be swapped. Make sure they are different\n",
    "#         team_to_swap_1 = randint(0, 4)\n",
    "#         team_to_swap_2 = randint(0, 4)\n",
    "#         while team_to_swap_1 == team_to_swap_2:\n",
    "#             team_to_swap_2 = randint(0, 4)\n",
    "\n",
    "#         if verbose:\n",
    "#             # Extract player IDs before swap for accurate logging\n",
    "#             pid1 = new_repr[team_to_swap_1][player_to_swap]\n",
    "#             pid2 = new_repr[team_to_swap_2][player_to_swap]\n",
    "\n",
    "#             print(f\"Swapping player {pid1} from team {team_to_swap_1} \"\n",
    "#                 f\"with player {pid2} from team {team_to_swap_2}\")\n",
    "\n",
    "#         # Swap players at the chosen index\n",
    "#         new_repr[team_to_swap_1][player_to_swap], new_repr[team_to_swap_2][player_to_swap] = pid2, pid1\n",
    "\n",
    "#         mutated = deepcopy(solution)\n",
    "#         mutated.repr = new_repr\n",
    "#         return mutated"
   ]
  },
  {
   "cell_type": "code",
   "execution_count": 35,
   "id": "afa20dc9",
   "metadata": {},
   "outputs": [],
   "source": [
    "def PlayerSwapMutation(self, solution, verbose=False):\n",
    "        new_repr = deepcopy(solution.repr)\n",
    "\n",
    "        # Choose the id within the team of the player that will be swapped\n",
    "        player_to_swap = randint(0, 6)\n",
    "\n",
    "        # Choose the teams where the players will be swapped. Make sure they are different\n",
    "        team_to_swap_1 = randint(0, 4)\n",
    "        team_to_swap_2 = randint(0, 4)\n",
    "        while team_to_swap_1 == team_to_swap_2:\n",
    "            team_to_swap_2 = randint(0, 4)\n",
    "\n",
    "        if verbose:\n",
    "            # Extract player IDs before swap for accurate logging\n",
    "            pid1 = new_repr[team_to_swap_1][player_to_swap]\n",
    "            pid2 = new_repr[team_to_swap_2][player_to_swap]\n",
    "\n",
    "            print(f\"Swapping player {pid1} from team {team_to_swap_1} \"\n",
    "                f\"with player {pid2} from team {team_to_swap_2}\")\n",
    "\n",
    "        # Swap players at the chosen index\n",
    "        new_repr[team_to_swap_1][player_to_swap], new_repr[team_to_swap_2][player_to_swap] = pid2, pid1\n",
    "\n",
    "        mutated = deepcopy(solution)\n",
    "        mutated.repr = new_repr\n",
    "        return mutated"
   ]
  },
  {
   "cell_type": "code",
   "execution_count": 36,
   "id": "f24a543c",
   "metadata": {},
   "outputs": [],
   "source": [
    "import random\n",
    "from copy import deepcopy\n",
    "\n",
    "def player_swap_mutation(solution, verbose=False):\n",
    "    \"\"\"\n",
    "    Applies player swap mutation to a SportsLeagueSolution representation.\n",
    "\n",
    "    This mutation swaps players in the same position index between two different teams,\n",
    "    preserving the positional structure of the team.\n",
    "\n",
    "    Args:\n",
    "        solution (object): A solution object of SportsLeagueSolution\n",
    "        verbose (bool): Whether to print debug information.\n",
    "\n",
    "    Returns:\n",
    "        object: A mutated copy of the solution.\n",
    "    \"\"\"\n",
    "\n",
    "    new_repr = deepcopy(solution.repr)\n",
    "\n",
    "    # Choose the id within the team of the player that will be swapped\n",
    "    player_to_swap = randint(0, 6)\n",
    "\n",
    "    # Choose the teams where the players will be swapped. Make sure they are different\n",
    "    team_to_swap_1 = randint(0, 4)\n",
    "    team_to_swap_2 = randint(0, 4)\n",
    "    while team_to_swap_1 == team_to_swap_2:\n",
    "        team_to_swap_2 = randint(0, 4)\n",
    "\n",
    "    if verbose:\n",
    "        # Extract player IDs before swap for accurate logging\n",
    "        pid1 = new_repr[team_to_swap_1][player_to_swap]\n",
    "        pid2 = new_repr[team_to_swap_2][player_to_swap]\n",
    "\n",
    "        print(f\"Swapping player {pid1} from team {team_to_swap_1} \"\n",
    "            f\"with player {pid2} from team {team_to_swap_2}\")\n",
    "\n",
    "    # Swap players at the chosen index\n",
    "    new_repr[team_to_swap_1][player_to_swap], new_repr[team_to_swap_2][player_to_swap] = pid2, pid1\n",
    "\n",
    "    mutated = deepcopy(solution)\n",
    "    mutated.repr = new_repr\n",
    "    return mutated\n",
    "\n",
    "\n"
   ]
  },
  {
   "cell_type": "code",
   "execution_count": 37,
   "id": "b951af53",
   "metadata": {},
   "outputs": [
    {
     "name": "stdout",
     "output_type": "stream",
     "text": [
      "Original Solution: [[0, 7, 12, 24, 20, 28, 32], [1, 10, 9, 15, 18, 30, 29], [3, 11, 5, 21, 16, 33, 31], [4, 6, 8, 22, 17, 34, 27], [2, 13, 14, 23, 19, 25, 26]]\n",
      "Swapping player 18 from team 1 with player 20 from team 0\n",
      "Mutated Solution: [[0, 7, 12, 24, 18, 28, 32], [1, 10, 9, 15, 20, 30, 29], [3, 11, 5, 21, 16, 33, 31], [4, 6, 8, 22, 17, 34, 27], [2, 13, 14, 23, 19, 25, 26]]\n"
     ]
    }
   ],
   "source": [
    "solution = SportsLeagueSolution()\n",
    "\n",
    "print(f\"Original Solution: {solution}\")\n",
    "\n",
    "new_solution_repr = player_swap_mutation(solution, verbose=True)\n",
    "\n",
    "print(f\"Mutated Solution: {new_solution_repr}\")\n",
    "\n"
   ]
  },
  {
   "cell_type": "code",
   "execution_count": 38,
   "id": "427c37a7",
   "metadata": {},
   "outputs": [],
   "source": [
    "# mutation = PlayerSwapMutation()\n",
    "# original_repr = deepcopy(original_solution.repr) \n",
    "# mutated_solution = mutation.mutate(original_solution, verbose=True)\n",
    "\n",
    "# print(f\"Original Solution: {original_repr}\")\n",
    "# print(f\"Mutated Solution: {mutated_solution}\")"
   ]
  },
  {
   "cell_type": "code",
   "execution_count": 39,
   "id": "f47b122c",
   "metadata": {},
   "outputs": [],
   "source": [
    "class RoleShuffleMutation(MutationOperator):\n",
    "    def mutate(self, solution, verbose=False):\n",
    "        new_repr = deepcopy(solution.repr)\n",
    "        \n",
    "        # Choose the role that will be affected\n",
    "        # Remembering that the player IDs withing the team correspond to {\"GK\": 0, \"DEF\": [1, 2], \"MID\": [3, 4], \"FWD\": [5, 6]}\n",
    "        i = randint(0, 6)\n",
    "        if i in [1, 2]:\n",
    "            i = [1, 2]\n",
    "        elif i in [3, 4]:\n",
    "            i = [3, 4]\n",
    "        elif i in [5, 6]:\n",
    "            i = [5, 6]\n",
    "        else:\n",
    "            i = [0]\n",
    "        \n",
    "        # If verbose, print the role and indexes being shuffled\n",
    "        if verbose:\n",
    "            role_map = {\n",
    "                \"GK\": [0],\n",
    "                \"DEF\": [1, 2],\n",
    "                \"MID\": [3, 4],\n",
    "                \"FWD\": [5, 6]\n",
    "            }\n",
    "            inv_map = {tuple(v): k for k, v in role_map.items()}\n",
    "            role_name = inv_map[tuple(i)]\n",
    "            print(f\"Shuffling players in role {role_name}, corresponding to indexes {i}\")\n",
    "\n",
    "\n",
    "        # Remove all the players from the selected role and shuffle them\n",
    "        bag_of_players = []\n",
    "        for team in new_repr:\n",
    "            bag_of_players += [team[i] for i in i]\n",
    "            \n",
    "        shuffle(bag_of_players)\n",
    "\n",
    "        # Once shuffled, put them back in the teams\n",
    "        index = 0\n",
    "        for team in new_repr:\n",
    "            for j in i:\n",
    "                team[j] = bag_of_players[index]\n",
    "                index += 1\n",
    "\n",
    "        mutated = deepcopy(solution)\n",
    "        mutated.repr = new_repr\n",
    "        return mutated"
   ]
  },
  {
   "cell_type": "code",
   "execution_count": 40,
   "id": "511712b0",
   "metadata": {},
   "outputs": [],
   "source": [
    "def role_shuffle_mutation(solution, verbose=False):\n",
    "    \"\"\"\n",
    "    Shuffles all players of the same role (e.g. all defenders) across teams.\n",
    "\n",
    "    Args:\n",
    "        solution (object): A solution object with a `.repr` attribute.\n",
    "        verbose (bool): Whether to print debug info.\n",
    "\n",
    "    Returns:\n",
    "        object: A mutated copy of the solution.\n",
    "    \"\"\"\n",
    "    new_repr = deepcopy(solution.repr)\n",
    "\n",
    "    # Choose the role that will be affected\n",
    "    # Remembering that the player IDs withing the team correspond to {\"GK\": 0, \"DEF\": [1, 2], \"MID\": [3, 4], \"FWD\": [5, 6]}\n",
    "    i = randint(0, 6)\n",
    "    if i in [1, 2]:\n",
    "        i = [1, 2]\n",
    "    elif i in [3, 4]:\n",
    "        i = [3, 4]\n",
    "    elif i in [5, 6]:\n",
    "        i = [5, 6]\n",
    "    else:\n",
    "        i = [0]\n",
    "\n",
    "    # If verbose, print the role and indexes being shuffled\n",
    "    if verbose:\n",
    "        role_map = {\n",
    "            \"GK\": [0],\n",
    "            \"DEF\": [1, 2],\n",
    "            \"MID\": [3, 4],\n",
    "            \"FWD\": [5, 6]\n",
    "        }\n",
    "        inv_map = {tuple(v): k for k, v in role_map.items()}\n",
    "        role_name = inv_map[tuple(i)]\n",
    "        print(f\"Shuffling players in role {role_name}, corresponding to indexes {i}\")\n",
    "\n",
    "    # Remove all the players from the selected role and shuffle them\n",
    "    bag_of_players = []\n",
    "    for team in new_repr:\n",
    "        bag_of_players += [team[i] for i in i]\n",
    "        \n",
    "    shuffle(bag_of_players)\n",
    "\n",
    "    # Once shuffled, put them back in the teams\n",
    "    index = 0\n",
    "    for team in new_repr:\n",
    "        for j in i:\n",
    "            team[j] = bag_of_players[index]\n",
    "            index += 1\n",
    "\n",
    "    mutated = deepcopy(solution)\n",
    "    mutated.repr = new_repr\n",
    "    return mutated"
   ]
  },
  {
   "cell_type": "code",
   "execution_count": 41,
   "id": "4d6cbea4",
   "metadata": {},
   "outputs": [
    {
     "name": "stdout",
     "output_type": "stream",
     "text": [
      "Shuffling players in role FWD, corresponding to indexes [5, 6]\n",
      "Original Solution: [[4, 14, 5, 17, 19, 32, 27], [1, 12, 8, 23, 15, 28, 26], [0, 7, 10, 20, 18, 30, 25], [3, 13, 9, 16, 22, 34, 33], [2, 6, 11, 24, 21, 29, 31]]\n",
      "Mutated Solution: [[4, 14, 5, 17, 19, 33, 26], [1, 12, 8, 23, 15, 34, 32], [0, 7, 10, 20, 18, 30, 28], [3, 13, 9, 16, 22, 29, 25], [2, 6, 11, 24, 21, 27, 31]]\n"
     ]
    }
   ],
   "source": [
    "original_solution = SportsLeagueSolution()\n",
    "\n",
    "mutated_solution = role_shuffle_mutation(original_solution, verbose=True)\n",
    "\n",
    "print(f\"Original Solution: {original_solution}\")\n",
    "print(f\"Mutated Solution: {mutated_solution}\")"
   ]
  },
  {
   "cell_type": "code",
   "execution_count": 42,
   "id": "0d3b92c9",
   "metadata": {},
   "outputs": [],
   "source": [
    "# original_solution = SportsLeagueSolution(players_df=df_sorted)\n",
    "# original_repr = deepcopy(original_solution.repr)  # Capture pre-mutation state\n",
    "\n",
    "# mutation = RoleShuffleMutation()\n",
    "# mutated_solution = mutation.mutate(original_solution, verbose=True)\n",
    "\n",
    "# print(f\"Original Solution: {original_repr}\")\n",
    "# print(f\"Mutated Solution: {mutated_solution}\")"
   ]
  },
  {
   "cell_type": "code",
   "execution_count": 43,
   "id": "ee75e93a",
   "metadata": {},
   "outputs": [],
   "source": [
    "class PlayerRoleLeftShiftMutation(MutationOperator):\n",
    "    def mutate(self, solution, verbose=False):\n",
    "        new_repr = deepcopy(solution.repr)\n",
    "\n",
    "        # Choose the role that will be affected\n",
    "        # Remembering that the player IDs withing the team correspond to {\"GK\": 0, \"DEF\": [1, 2], \"MID\": [3, 4], \"FWD\": [5, 6]}\n",
    "        i = randint(0, 6)\n",
    "        if i in [1, 2]:\n",
    "            i = [1, 2]\n",
    "        elif i in [3, 4]:\n",
    "            i = [3, 4]\n",
    "        elif i in [5, 6]:\n",
    "            i = [5, 6]\n",
    "        else:\n",
    "            i = [0]\n",
    "        \n",
    "        # Get all the players from the selected role\n",
    "        role_players = []\n",
    "        for team in new_repr:\n",
    "            for idx in i:\n",
    "                role_players.append(team[idx])\n",
    "\n",
    "        # Shift left \n",
    "        shift_amount = randint(1, len(new_repr) - 1)\n",
    "        role_players = role_players[shift_amount:] + role_players[:shift_amount]\n",
    "        \n",
    "        # If verbose, print the role and indexes being shifted\n",
    "        if verbose:\n",
    "            role_map = {\n",
    "                \"GK\": [0],\n",
    "                \"DEF\": [1, 2],\n",
    "                \"MID\": [3, 4],\n",
    "                \"FWD\": [5, 6]\n",
    "            }\n",
    "            inv_map = {tuple(v): k for k, v in role_map.items()}\n",
    "            role_name = inv_map[tuple(i)]\n",
    "            print(f\"Shifting role group {role_name}, corresponding to indexes {i}, by {shift_amount} positions\")\n",
    "\n",
    "        # Reassign to teams\n",
    "        index = 0\n",
    "        for team in new_repr:\n",
    "            for idx in i:\n",
    "                team[idx] = role_players[index]\n",
    "                index += 1\n",
    "\n",
    "\n",
    "        mutated = deepcopy(solution)\n",
    "        mutated.repr = new_repr\n",
    "        return mutated"
   ]
  },
  {
   "cell_type": "code",
   "execution_count": 44,
   "id": "1c7fd6b1",
   "metadata": {},
   "outputs": [],
   "source": [
    "from copy import deepcopy\n",
    "from random import randint\n",
    "\n",
    "def player_role_left_shift_mutation(solution, verbose=False):\n",
    "    \"\"\"\n",
    "    Shifts all players of the same role (e.g., all defenders) leftward across teams.\n",
    "\n",
    "    Args:\n",
    "        solution (object): A solution object with a `.repr` attribute.\n",
    "        verbose (bool): Whether to print debug info.\n",
    "\n",
    "    Returns:\n",
    "        object: A mutated copy of the solution.\n",
    "\n",
    "    \"\"\"\n",
    "    new_repr = deepcopy(solution.repr)\n",
    "    # Choose the role that will be affected\n",
    "    # Remembering that the player IDs withing the team correspond to {\"GK\": 0, \"DEF\": [1, 2], \"MID\": [3, 4], \"FWD\": [5, 6]}\n",
    "    i = randint(0, 6)\n",
    "    if i in [1, 2]:\n",
    "        i = [1, 2]\n",
    "    elif i in [3, 4]:\n",
    "        i = [3, 4]\n",
    "    elif i in [5, 6]:\n",
    "        i = [5, 6]\n",
    "    else:\n",
    "        i = [0]\n",
    "    \n",
    "    # Get all the players from the selected role\n",
    "    role_players = []\n",
    "    for team in new_repr:\n",
    "        for idx in i:\n",
    "            role_players.append(team[idx])\n",
    "\n",
    "    # Shift left \n",
    "    shift_amount = randint(1, len(new_repr) - 1)\n",
    "    role_players = role_players[shift_amount:] + role_players[:shift_amount]\n",
    "    \n",
    "    # If verbose, print the role and indexes being shifted\n",
    "    if verbose:\n",
    "        role_map = {\n",
    "            \"GK\": [0],\n",
    "            \"DEF\": [1, 2],\n",
    "            \"MID\": [3, 4],\n",
    "            \"FWD\": [5, 6]\n",
    "        }\n",
    "        inv_map = {tuple(v): k for k, v in role_map.items()}\n",
    "        role_name = inv_map[tuple(i)]\n",
    "        print(f\"Shifting role group {role_name}, corresponding to indexes {i}, by {shift_amount} positions\")\n",
    "\n",
    "    # Reassign to teams\n",
    "    index = 0\n",
    "    for team in new_repr:\n",
    "        for idx in i:\n",
    "            team[idx] = role_players[index]\n",
    "            index += 1\n",
    "\n",
    "\n",
    "    mutated = deepcopy(solution)\n",
    "    mutated.repr = new_repr\n",
    "    return mutated"
   ]
  },
  {
   "cell_type": "code",
   "execution_count": 45,
   "id": "8d390af3",
   "metadata": {},
   "outputs": [
    {
     "name": "stdout",
     "output_type": "stream",
     "text": [
      "Shifting role group FWD, corresponding to indexes [5, 6], by 3 positions\n",
      "Original Solution: [[2, 7, 5, 19, 22, 32, 29], [0, 6, 13, 21, 20, 34, 27], [4, 14, 12, 16, 23, 26, 30], [1, 11, 9, 24, 15, 28, 25], [3, 10, 8, 18, 17, 31, 33]]\n",
      "Mutated Solution: [[2, 7, 5, 19, 22, 27, 26], [0, 6, 13, 21, 20, 30, 28], [4, 14, 12, 16, 23, 25, 31], [1, 11, 9, 24, 15, 33, 32], [3, 10, 8, 18, 17, 29, 34]]\n"
     ]
    }
   ],
   "source": [
    "original_solution = SportsLeagueSolution()\n",
    "mutated_solution = player_role_left_shift_mutation(original_solution, verbose=True)\n",
    "\n",
    "print(f\"Original Solution: {original_solution}\")\n",
    "print(f\"Mutated Solution: {mutated_solution}\")"
   ]
  },
  {
   "cell_type": "code",
   "execution_count": 46,
   "id": "8af4d987",
   "metadata": {},
   "outputs": [],
   "source": [
    "# original_solution = SportsLeagueSolution(players_df=df_sorted)\n",
    "# original_repr = deepcopy(original_solution.repr)  # Capture pre-mutation state\n",
    "\n",
    "# mutation = PlayerRoleLeftShiftMutation()\n",
    "# mutated_solution = mutation.mutate(original_solution, verbose=True)\n",
    "\n",
    "# print(f\"Original Solution: {original_repr}\")\n",
    "# print(f\"Mutated Solution: {mutated_solution}\")"
   ]
  },
  {
   "cell_type": "markdown",
   "id": "7d274f61",
   "metadata": {},
   "source": [
    "## Crossover Operators"
   ]
  },
  {
   "cell_type": "code",
   "execution_count": 47,
   "id": "36cf0f39",
   "metadata": {},
   "outputs": [],
   "source": [
    "import random\n",
    "from collections import defaultdict, Counter\n",
    "\n",
    "def get_position_map(players_df):\n",
    "    \n",
    "    \"\"\"\n",
    "    Creates a mapping from player ID to their position.\n",
    "\n",
    "    This function takes a DataFrame of players with at least two columns:\n",
    "    'id' (unique player identifier) and 'position' (e.g., GK, DEF, MID, FWD),\n",
    "    and returns a dictionary that maps each player ID to their respective position.\n",
    "\n",
    "    Args:\n",
    "        players_df (pd.DataFrame): A DataFrame containing player information,\n",
    "                                   with 'id' and 'position' columns.\n",
    "\n",
    "    Returns:\n",
    "        dict: A dictionary mapping each player ID (int) to their position (str).\n",
    "              Example: {0: 'GK', 1: 'DEF', 2: 'MID', ...}\n",
    "    \"\"\"\n",
    "    return dict(zip(players_df['id'], players_df['position']))\n",
    "\n",
    "def standard_crossover_with_position_repair(parent1, parent2, players_df, crossover_point=3):\n",
    "    crossover_point=random.randint(1, len(parent1) - 1)\n",
    "    position_map = get_position_map(players_df) # creates a mapping from player ID to their position\n",
    "    all_players = set(players_df['id']) # creates a set of all players\n",
    "\n",
    "    # Crossover on team level by the crossover point defined on the arguments\n",
    "    offspring1 = parent1[:crossover_point] + parent2[crossover_point:]\n",
    "    offspring2 = parent2[:crossover_point] + parent1[crossover_point:]\n",
    "\n",
    "    # Position slots by index inside each team\n",
    "    # we want to always keep the [GK, DEF, DEF, MID, MID, FWD, FWD] formatation\n",
    "    position_slots = [\"GK\", \"DEF\", \"DEF\", \"MID\", \"MID\", \"FWD\", \"FWD\"] # players are assumed to always appear in this fixed order\n",
    "\n",
    "    def repair_offspring(offspring):\n",
    "\n",
    "        \"\"\"\n",
    "        Repairs an offspring by removing duplicate players and replacing \n",
    "        them with valid players that were missing from the solution.\n",
    "\n",
    "        This function ensures:\n",
    "            - Each player appears only once across all teams.\n",
    "            - Players are only replaced by others who play the same position.\n",
    "            - All players from the original player pool are used exactly once.\n",
    "\n",
    "        The function relies on two external variables:\n",
    "            - `all_players`: A set of all player IDs expected to be used in the solution.\n",
    "            - `position_map`: A dictionary mapping player IDs to their positions (e.g., 'GK', 'DEF').\n",
    "            - `position_slots`: A list defining the position expected at each slot in a team.\n",
    "\n",
    "        Parameters:\n",
    "            offspring (list of list of int): A candidate solution represented as a list of teams, \n",
    "                                            where each team is a list of player IDs.\n",
    "\n",
    "        Returns:\n",
    "            list of list of int: A repaired version of the offspring, where:\n",
    "                                - All players are unique.\n",
    "                                - Each player is placed in a slot matching their position.\n",
    "                                - Missing players are added in valid positions.\n",
    "\n",
    "        Notes:\n",
    "            The function modifies teams independently, attempting to replace invalid entries\n",
    "            (duplicates or misplaced players) with players not yet used but suitable for\n",
    "            the expected position.\n",
    "        \"\"\"\n",
    "        \n",
    "        # receives an offspring, thelist of teams and it returns a \"repaired\" version where:\n",
    "            # * All players are unique, so no duplicates across teams, that is a problem with the standard crossover\n",
    "            # * Players are replaced only with others of the same position\n",
    "            # * Any missing players are added back.\n",
    "\n",
    "\n",
    "        # Flatten all players used\n",
    "        flat = [p for team in offspring for p in team] # Flattens the list of teams into a single list of all player IDs\n",
    "        counts = Counter(flat) # Count occurrences of each player ID ( how many times each player appears in the flattened offspring)\n",
    "\n",
    "        # Find duplicates and missing players\n",
    "        duplicates = {p for p, c in counts.items() if c > 1} # get the players that appear more than once\n",
    "        used = set(flat) # get the players that are used in the offspring\n",
    "        missing = list(all_players - used) # get the players that are missing in the offspring but should be there (all players come from above code)\n",
    "        \n",
    "        # Build available players by position for replacements\n",
    "\n",
    "        available_by_pos = defaultdict(list)  # create a dict where the key is a position  and the value is a shuffled list of player IDs that are available for that position\n",
    "        for pid in missing: # for each player ID in the missing list\n",
    "            pos = position_map[pid] # get the position of the player\n",
    "            available_by_pos[pos].append(pid) # append the player ID to the list of available players for that position\n",
    "        for pos in available_by_pos: # for each position in the available players\n",
    "            random.shuffle(available_by_pos[pos]) # shuffle the list of available players for that position\n",
    "\n",
    "        # Track used players to avoid duplicates\n",
    "        used_players = set() #  tracks player IDs that have already been added to teams to prevent further duplicates during the repair process\n",
    "        repaired_offspring = [] \n",
    "        for team in offspring: # for each team in the offspring\n",
    "            new_team = [] # create a new team\n",
    "            for idx, pid in enumerate(team): # for each player ID in the team\n",
    "                pos = position_slots[idx] # get the position of the player based on the index\n",
    "\n",
    "                # If player is duplicated or already used, replace\n",
    "                if pid in used_players or pid in duplicates: # if the player ID is already used or is a duplicate\n",
    "                    if available_by_pos[pos]: # if there are available players for that position\n",
    "                        replacement = available_by_pos[pos].pop() # get a replacement player ID from the available players for that position\n",
    "                        new_team.append(replacement) # add the replacement player ID to the new team\n",
    "                        used_players.add(replacement) # add the replacement player ID to the used players\n",
    "                    else:\n",
    "                        # If no available players left in that position (should not happen), keep original\n",
    "                        new_team.append(pid) # add the original player ID to the new team\n",
    "                        used_players.add(pid) # add the original player ID to the used players\n",
    "                else: # if the player ID is not a duplicate and not already used\n",
    "                    new_team.append(pid) # add the original player ID to the new team\n",
    "                    used_players.add(pid) # add the original player ID to the used players\n",
    "\n",
    "            repaired_offspring.append(new_team) # add the new team to the repaired offspring\n",
    "        return repaired_offspring\n",
    "\n",
    "    return repair_offspring(offspring1), repair_offspring(offspring2)\n"
   ]
  },
  {
   "cell_type": "code",
   "execution_count": 48,
   "id": "8efb43a0",
   "metadata": {},
   "outputs": [
    {
     "data": {
      "text/plain": [
       "[[3, 14, 10, 21, 16, 25, 27], [4, 8, 7, 15, 22, 29, 28], [2, 5, 6, 18, 24, 26, 30], [0, 13, 9, 17, 19, 34, 32], [1, 11, 12, 20, 23, 33, 31]]"
      ]
     },
     "execution_count": 48,
     "metadata": {},
     "output_type": "execute_result"
    }
   ],
   "source": [
    "sol1 = SportsLeagueSolution()\n",
    "sol1"
   ]
  },
  {
   "cell_type": "code",
   "execution_count": 49,
   "id": "685608c4",
   "metadata": {},
   "outputs": [
    {
     "data": {
      "text/plain": [
       "[[0, 7, 12, 20, 21, 30, 26], [2, 9, 6, 24, 15, 27, 32], [4, 5, 11, 22, 19, 29, 34], [1, 8, 10, 18, 17, 28, 33], [3, 13, 14, 16, 23, 31, 25]]"
      ]
     },
     "execution_count": 49,
     "metadata": {},
     "output_type": "execute_result"
    }
   ],
   "source": [
    "sol2 = SportsLeagueSolution()\n",
    "sol2"
   ]
  },
  {
   "cell_type": "code",
   "execution_count": 50,
   "id": "eaa6f144",
   "metadata": {},
   "outputs": [
    {
     "data": {
      "text/plain": [
       "[[3, 14, 10, 21, 16, 25, 27],\n",
       " [4, 8, 7, 15, 22, 29, 28],\n",
       " [2, 5, 6, 18, 24, 26, 30],\n",
       " [0, 13, 9, 17, 19, 34, 32],\n",
       " [1, 11, 12, 20, 23, 33, 31]]"
      ]
     },
     "execution_count": 50,
     "metadata": {},
     "output_type": "execute_result"
    }
   ],
   "source": [
    "sol1.repr"
   ]
  },
  {
   "cell_type": "code",
   "execution_count": 51,
   "id": "7b92ac75",
   "metadata": {},
   "outputs": [
    {
     "data": {
      "text/plain": [
       "[[0, 7, 12, 20, 21, 30, 26],\n",
       " [2, 9, 6, 24, 15, 27, 32],\n",
       " [4, 5, 11, 22, 19, 29, 34],\n",
       " [1, 8, 10, 18, 17, 28, 33],\n",
       " [3, 13, 14, 16, 23, 31, 25]]"
      ]
     },
     "execution_count": 51,
     "metadata": {},
     "output_type": "execute_result"
    }
   ],
   "source": [
    "sol2.repr"
   ]
  },
  {
   "cell_type": "code",
   "execution_count": 52,
   "id": "316aa26b",
   "metadata": {},
   "outputs": [],
   "source": [
    "offspring1, offspring2 = standard_crossover_with_position_repair(sol1.repr, sol2.repr, df_sorted)"
   ]
  },
  {
   "cell_type": "code",
   "execution_count": 53,
   "id": "18230500",
   "metadata": {},
   "outputs": [
    {
     "data": {
      "text/plain": [
       "[[0, 7, 12, 21, 20, 30, 26],\n",
       " [2, 9, 6, 24, 15, 27, 32],\n",
       " [4, 5, 11, 22, 19, 29, 34],\n",
       " [1, 8, 10, 18, 17, 28, 33],\n",
       " [3, 13, 14, 16, 23, 31, 25]]"
      ]
     },
     "execution_count": 53,
     "metadata": {},
     "output_type": "execute_result"
    }
   ],
   "source": [
    "offspring1"
   ]
  },
  {
   "cell_type": "code",
   "execution_count": 54,
   "id": "31534ac7",
   "metadata": {},
   "outputs": [],
   "source": [
    "def validate_league(league, players_df, position_slots = [\"GK\", \"DEF\", \"DEF\", \"MID\", \"MID\", \"FWD\", \"FWD\"]):\n",
    "    \"\"\"\n",
    "    Validates a league composed of multiple teams.\n",
    "\n",
    "    Requirements checked:\n",
    "        - Each player appears exactly once across all teams (no duplicates or missing).\n",
    "        - Players are placed in the correct position slot according to position_slots.\n",
    "        - Each team has the correct number of players.\n",
    "\n",
    "    Parameters:\n",
    "        league (list of list of int): The league to validate, as a list of teams (each a list of player IDs).\n",
    "        players_df (pd.DataFrame): DataFrame with at least 'id' and 'position' columns.\n",
    "        position_slots (list of str): Expected position at each index of a team, e.g., \n",
    "                                      [\"GK\", \"DEF\", \"DEF\", \"MID\", \"MID\", \"FWD\", \"FWD\"]\n",
    "\n",
    "    Returns:\n",
    "        bool: True if the league is valid. Otherwise, prints detailed issues and returns False.\n",
    "    \"\"\"\n",
    "    from collections import Counter\n",
    "\n",
    "    all_player_ids = set(players_df['id'])\n",
    "    expected_team_size = len(position_slots)\n",
    "\n",
    "    # 1. Check total number of players\n",
    "    flat_players = [p for team in league for p in team]\n",
    "    player_counts = Counter(flat_players)\n",
    "\n",
    "    # Check if every player is used exactly once\n",
    "    if set(flat_players) != all_player_ids:\n",
    "        missing = all_player_ids - set(flat_players)\n",
    "        extra = set(flat_players) - all_player_ids\n",
    "        if missing:\n",
    "            print(f\"Missing players: {missing}\")\n",
    "        if extra:\n",
    "            print(f\"Unknown players found: {extra}\")\n",
    "        return False\n",
    "\n",
    "    duplicates = {p for p, c in player_counts.items() if c > 1}\n",
    "    if duplicates:\n",
    "        print(f\"Duplicated players: {duplicates}\")\n",
    "        return False\n",
    "\n",
    "    # 2. Check team structure and position integrity\n",
    "    position_map = dict(zip(players_df['id'], players_df['position']))\n",
    "    for i, team in enumerate(league):\n",
    "        if len(team) != expected_team_size:\n",
    "            print(f\"Team {i} has invalid size {len(team)}. Expected {expected_team_size}.\")\n",
    "            return False\n",
    "        for idx, pid in enumerate(team):\n",
    "            expected_pos = position_slots[idx]\n",
    "            actual_pos = position_map.get(pid)\n",
    "            if actual_pos != expected_pos:\n",
    "                print(f\"Team {i}, player {pid} in slot {idx} expected {expected_pos}, got {actual_pos}.\")\n",
    "                return False\n",
    "\n",
    "    print(\"League is valid!\")\n",
    "    return True\n"
   ]
  },
  {
   "cell_type": "markdown",
   "id": "19c762a5",
   "metadata": {},
   "source": [
    "### A lot of examples"
   ]
  },
  {
   "cell_type": "code",
   "execution_count": 55,
   "id": "054eafdb",
   "metadata": {},
   "outputs": [],
   "source": [
    "sol1 = SportsLeagueSolution()\n",
    "sol2 = SportsLeagueSolution()\n",
    "sol3 = SportsLeagueSolution()\n",
    "sol4 = SportsLeagueSolution()\n",
    "sol5 = SportsLeagueSolution()\n",
    "sol6 = SportsLeagueSolution()\n",
    "sol7 = SportsLeagueSolution()\n",
    "sol8 = SportsLeagueSolution()\n",
    "sol9 = SportsLeagueSolution()\n",
    "sol10 = SportsLeagueSolution()"
   ]
  },
  {
   "cell_type": "code",
   "execution_count": 56,
   "id": "d5748927",
   "metadata": {},
   "outputs": [
    {
     "data": {
      "text/plain": [
       "[[4, 14, 8, 18, 15, 30, 26],\n",
       " [1, 7, 9, 19, 21, 34, 29],\n",
       " [3, 11, 5, 17, 22, 28, 32],\n",
       " [2, 6, 13, 24, 16, 27, 33],\n",
       " [0, 12, 10, 20, 23, 31, 25]]"
      ]
     },
     "execution_count": 56,
     "metadata": {},
     "output_type": "execute_result"
    }
   ],
   "source": [
    "sol1.repr"
   ]
  },
  {
   "cell_type": "code",
   "execution_count": 57,
   "id": "9459693c",
   "metadata": {},
   "outputs": [
    {
     "data": {
      "text/plain": [
       "1000000000.0"
      ]
     },
     "execution_count": 57,
     "metadata": {},
     "output_type": "execute_result"
    }
   ],
   "source": [
    "sol1.fitness()"
   ]
  },
  {
   "cell_type": "code",
   "execution_count": 58,
   "id": "ec18b6aa",
   "metadata": {},
   "outputs": [],
   "source": [
    "offspring1, offspring2 = standard_crossover_with_position_repair(sol1.repr, sol2.repr, df_sorted)\n",
    "offspring3, offspring4 = standard_crossover_with_position_repair(sol1.repr, sol3.repr, df_sorted)\n",
    "offspring5, offspring6 = standard_crossover_with_position_repair(sol1.repr, sol4.repr, df_sorted)\n",
    "offspring7, offspring8 = standard_crossover_with_position_repair(sol1.repr, sol5.repr, df_sorted)\n",
    "offspring9, offspring10 = standard_crossover_with_position_repair(sol1.repr, sol6.repr, df_sorted)\n",
    "\n",
    "offspring11, offspring12 = standard_crossover_with_position_repair(sol1.repr, sol7.repr, df_sorted)\n",
    "offspring13, offspring14 = standard_crossover_with_position_repair(sol1.repr, sol8.repr, df_sorted)\n",
    "offspring15, offspring16 = standard_crossover_with_position_repair(sol1.repr, sol9.repr, df_sorted)\n",
    "offspring17, offspring18 = standard_crossover_with_position_repair(sol1.repr, sol10.repr, df_sorted)\n",
    "offspring19, offspring20 = standard_crossover_with_position_repair(sol2.repr, sol3.repr, df_sorted)\n",
    "\n",
    "offspring21, offspring22 = standard_crossover_with_position_repair(sol2.repr, sol4.repr, df_sorted)\n",
    "offspring23, offspring24 = standard_crossover_with_position_repair(sol2.repr, sol5.repr, df_sorted)\n",
    "offspring25, offspring26 = standard_crossover_with_position_repair(sol2.repr, sol6.repr, df_sorted)\n",
    "offspring27, offspring28 = standard_crossover_with_position_repair(sol2.repr, sol7.repr, df_sorted)\n",
    "offspring29, offspring30 = standard_crossover_with_position_repair(sol2.repr, sol8.repr, df_sorted)\n",
    "\n",
    "offspring31, offspring32 = standard_crossover_with_position_repair(sol2.repr, sol9.repr, df_sorted)\n",
    "offspring33, offspring34 = standard_crossover_with_position_repair(sol2.repr, sol10.repr, df_sorted)\n",
    "offspring35, offspring36 = standard_crossover_with_position_repair(sol3.repr, sol4.repr, df_sorted)\n",
    "offspring37, offspring38 = standard_crossover_with_position_repair(sol3.repr, sol5.repr, df_sorted)\n",
    "offspring39, offspring40 = standard_crossover_with_position_repair(sol3.repr, sol6.repr, df_sorted)\n",
    "\n",
    "offspring41, offspring42 = standard_crossover_with_position_repair(sol3.repr, sol7.repr, df_sorted)\n",
    "offspring43, offspring44 = standard_crossover_with_position_repair(sol3.repr, sol8.repr, df_sorted)\n",
    "offspring45, offspring46 = standard_crossover_with_position_repair(sol3.repr, sol9.repr, df_sorted)\n",
    "offspring47, offspring48 = standard_crossover_with_position_repair(sol3.repr, sol10.repr, df_sorted)\n",
    "offspring49, offspring50 = standard_crossover_with_position_repair(sol4.repr, sol5.repr, df_sorted)\n",
    "\n",
    "offspring51, offspring52 = standard_crossover_with_position_repair(sol4.repr, sol6.repr, df_sorted)\n",
    "offspring53, offspring54 = standard_crossover_with_position_repair(sol4.repr, sol7.repr, df_sorted)\n",
    "offspring55, offspring56 = standard_crossover_with_position_repair(sol4.repr, sol8.repr, df_sorted)\n",
    "offspring57, offspring58 = standard_crossover_with_position_repair(sol4.repr, sol9.repr, df_sorted)\n",
    "offspring59, offspring60 = standard_crossover_with_position_repair(sol4.repr, sol10.repr, df_sorted)\n",
    "\n",
    "offspring61, offspring62 = standard_crossover_with_position_repair(sol5.repr, sol6.repr, df_sorted)\n",
    "offspring63, offspring64 = standard_crossover_with_position_repair(sol5.repr, sol7.repr, df_sorted)\n",
    "offspring65, offspring66 = standard_crossover_with_position_repair(sol5.repr, sol8.repr, df_sorted)\n",
    "offspring67, offspring68 = standard_crossover_with_position_repair(sol5.repr, sol9.repr, df_sorted)\n",
    "offspring69, offspring70 = standard_crossover_with_position_repair(sol5.repr, sol10.repr, df_sorted)\n",
    "\n",
    "offspring71, offspring72 = standard_crossover_with_position_repair(sol6.repr, sol7.repr, df_sorted)\n",
    "offspring73, offspring74 = standard_crossover_with_position_repair(sol6.repr, sol8.repr, df_sorted)\n",
    "offspring75, offspring76 = standard_crossover_with_position_repair(sol6.repr, sol9.repr, df_sorted)\n",
    "offspring77, offspring78 = standard_crossover_with_position_repair(sol6.repr, sol10.repr, df_sorted)\n",
    "offspring79, offspring80 = standard_crossover_with_position_repair(sol7.repr, sol8.repr, df_sorted)\n",
    "\n",
    "offspring81, offspring82 = standard_crossover_with_position_repair(sol7.repr, sol9.repr, df_sorted)\n",
    "offspring83, offspring84 = standard_crossover_with_position_repair(sol7.repr, sol10.repr, df_sorted)\n",
    "offspring85, offspring86 = standard_crossover_with_position_repair(sol8.repr, sol9.repr, df_sorted)\n",
    "offspring87, offspring88 = standard_crossover_with_position_repair(sol8.repr, sol10.repr, df_sorted)\n",
    "offspring89, offspring90 = standard_crossover_with_position_repair(sol9.repr, sol10.repr, df_sorted)"
   ]
  },
  {
   "cell_type": "code",
   "execution_count": 59,
   "id": "0e18cdd9",
   "metadata": {},
   "outputs": [
    {
     "name": "stdout",
     "output_type": "stream",
     "text": [
      "League is valid!\n",
      "True\n",
      "League is valid!\n",
      "True\n",
      "League is valid!\n",
      "True\n",
      "League is valid!\n",
      "True\n",
      "League is valid!\n",
      "True\n",
      "League is valid!\n",
      "True\n",
      "League is valid!\n",
      "True\n",
      "League is valid!\n",
      "True\n",
      "League is valid!\n",
      "True\n",
      "League is valid!\n",
      "True\n"
     ]
    }
   ],
   "source": [
    "print(validate_league(offspring1, df_sorted))\n",
    "print(validate_league(offspring2, df_sorted))\n",
    "print(validate_league(offspring3, df_sorted))\n",
    "print(validate_league(offspring4, df_sorted))\n",
    "print(validate_league(offspring5, df_sorted))\n",
    "print(validate_league(offspring6, df_sorted))\n",
    "print(validate_league(offspring7, df_sorted))\n",
    "print(validate_league(offspring8, df_sorted))\n",
    "print(validate_league(offspring9, df_sorted))\n",
    "print(validate_league(offspring10, df_sorted))\n"
   ]
  },
  {
   "cell_type": "code",
   "execution_count": 60,
   "id": "48181b1a",
   "metadata": {},
   "outputs": [
    {
     "name": "stdout",
     "output_type": "stream",
     "text": [
      "League is valid!\n",
      "True\n",
      "League is valid!\n",
      "True\n",
      "League is valid!\n",
      "True\n",
      "League is valid!\n",
      "True\n",
      "League is valid!\n",
      "True\n",
      "League is valid!\n",
      "True\n",
      "League is valid!\n",
      "True\n",
      "League is valid!\n",
      "True\n",
      "League is valid!\n",
      "True\n",
      "League is valid!\n",
      "True\n"
     ]
    }
   ],
   "source": [
    "print(validate_league(offspring11, df_sorted))\n",
    "print(validate_league(offspring12, df_sorted))\n",
    "print(validate_league(offspring13, df_sorted))\n",
    "print(validate_league(offspring14, df_sorted))\n",
    "print(validate_league(offspring15, df_sorted))\n",
    "print(validate_league(offspring16, df_sorted))\n",
    "print(validate_league(offspring17, df_sorted))\n",
    "print(validate_league(offspring18, df_sorted))\n",
    "print(validate_league(offspring19, df_sorted))\n",
    "print(validate_league(offspring20, df_sorted))"
   ]
  },
  {
   "cell_type": "code",
   "execution_count": 61,
   "id": "aa706878",
   "metadata": {},
   "outputs": [
    {
     "name": "stdout",
     "output_type": "stream",
     "text": [
      "League is valid!\n",
      "True\n",
      "League is valid!\n",
      "True\n",
      "League is valid!\n",
      "True\n",
      "League is valid!\n",
      "True\n",
      "League is valid!\n",
      "True\n",
      "League is valid!\n",
      "True\n",
      "League is valid!\n",
      "True\n",
      "League is valid!\n",
      "True\n",
      "League is valid!\n",
      "True\n",
      "League is valid!\n",
      "True\n"
     ]
    }
   ],
   "source": [
    "print(validate_league(offspring21, df_sorted))\n",
    "print(validate_league(offspring22, df_sorted))\n",
    "print(validate_league(offspring23, df_sorted))\n",
    "print(validate_league(offspring24, df_sorted))\n",
    "print(validate_league(offspring25, df_sorted))\n",
    "print(validate_league(offspring26, df_sorted))\n",
    "print(validate_league(offspring27, df_sorted))\n",
    "print(validate_league(offspring28, df_sorted))\n",
    "print(validate_league(offspring29, df_sorted))\n",
    "print(validate_league(offspring30, df_sorted))"
   ]
  },
  {
   "cell_type": "code",
   "execution_count": 62,
   "id": "a915dbee",
   "metadata": {},
   "outputs": [
    {
     "name": "stdout",
     "output_type": "stream",
     "text": [
      "League is valid!\n",
      "True\n",
      "League is valid!\n",
      "True\n",
      "League is valid!\n",
      "True\n",
      "League is valid!\n",
      "True\n",
      "League is valid!\n",
      "True\n",
      "League is valid!\n",
      "True\n",
      "League is valid!\n",
      "True\n",
      "League is valid!\n",
      "True\n",
      "League is valid!\n",
      "True\n",
      "League is valid!\n",
      "True\n"
     ]
    }
   ],
   "source": [
    "print(validate_league(offspring31, df_sorted))\n",
    "print(validate_league(offspring32, df_sorted))\n",
    "print(validate_league(offspring33, df_sorted))\n",
    "print(validate_league(offspring34, df_sorted))\n",
    "print(validate_league(offspring35, df_sorted))\n",
    "print(validate_league(offspring36, df_sorted))\n",
    "print(validate_league(offspring37, df_sorted))\n",
    "print(validate_league(offspring38, df_sorted))\n",
    "print(validate_league(offspring39, df_sorted))\n",
    "print(validate_league(offspring40, df_sorted))"
   ]
  },
  {
   "cell_type": "code",
   "execution_count": 63,
   "id": "0f823c10",
   "metadata": {},
   "outputs": [
    {
     "name": "stdout",
     "output_type": "stream",
     "text": [
      "League is valid!\n",
      "True\n",
      "League is valid!\n",
      "True\n",
      "League is valid!\n",
      "True\n",
      "League is valid!\n",
      "True\n",
      "League is valid!\n",
      "True\n",
      "League is valid!\n",
      "True\n",
      "League is valid!\n",
      "True\n",
      "League is valid!\n",
      "True\n",
      "League is valid!\n",
      "True\n",
      "League is valid!\n",
      "True\n"
     ]
    }
   ],
   "source": [
    "print(validate_league(offspring41, df_sorted))\n",
    "print(validate_league(offspring42, df_sorted))\n",
    "print(validate_league(offspring43, df_sorted))\n",
    "print(validate_league(offspring44, df_sorted))\n",
    "print(validate_league(offspring45, df_sorted))\n",
    "print(validate_league(offspring46, df_sorted))\n",
    "print(validate_league(offspring47, df_sorted))\n",
    "print(validate_league(offspring48, df_sorted))\n",
    "print(validate_league(offspring49, df_sorted))\n",
    "print(validate_league(offspring50, df_sorted))\n"
   ]
  },
  {
   "cell_type": "code",
   "execution_count": 64,
   "id": "c2166607",
   "metadata": {},
   "outputs": [
    {
     "name": "stdout",
     "output_type": "stream",
     "text": [
      "League is valid!\n",
      "True\n",
      "League is valid!\n",
      "True\n",
      "League is valid!\n",
      "True\n",
      "League is valid!\n",
      "True\n",
      "League is valid!\n",
      "True\n",
      "League is valid!\n",
      "True\n",
      "League is valid!\n",
      "True\n",
      "League is valid!\n",
      "True\n",
      "League is valid!\n",
      "True\n",
      "League is valid!\n",
      "True\n"
     ]
    }
   ],
   "source": [
    "print(validate_league(offspring51, df_sorted))\n",
    "print(validate_league(offspring52, df_sorted))\n",
    "print(validate_league(offspring53, df_sorted))\n",
    "print(validate_league(offspring54, df_sorted))\n",
    "print(validate_league(offspring55, df_sorted))\n",
    "print(validate_league(offspring56, df_sorted))\n",
    "print(validate_league(offspring57, df_sorted))\n",
    "print(validate_league(offspring58, df_sorted))\n",
    "print(validate_league(offspring59, df_sorted))\n",
    "print(validate_league(offspring60, df_sorted))"
   ]
  },
  {
   "cell_type": "code",
   "execution_count": 65,
   "id": "ff6bd951",
   "metadata": {},
   "outputs": [
    {
     "name": "stdout",
     "output_type": "stream",
     "text": [
      "League is valid!\n",
      "True\n",
      "League is valid!\n",
      "True\n",
      "League is valid!\n",
      "True\n",
      "League is valid!\n",
      "True\n",
      "League is valid!\n",
      "True\n",
      "League is valid!\n",
      "True\n",
      "League is valid!\n",
      "True\n",
      "League is valid!\n",
      "True\n",
      "League is valid!\n",
      "True\n",
      "League is valid!\n",
      "True\n"
     ]
    }
   ],
   "source": [
    "print(validate_league(offspring61, df_sorted))\n",
    "print(validate_league(offspring62, df_sorted))\n",
    "print(validate_league(offspring63, df_sorted))\n",
    "print(validate_league(offspring64, df_sorted))\n",
    "print(validate_league(offspring65, df_sorted))\n",
    "print(validate_league(offspring66, df_sorted))\n",
    "print(validate_league(offspring67, df_sorted))\n",
    "print(validate_league(offspring68, df_sorted))\n",
    "print(validate_league(offspring69, df_sorted))\n",
    "print(validate_league(offspring70, df_sorted))"
   ]
  },
  {
   "cell_type": "code",
   "execution_count": 66,
   "id": "8782ef0e",
   "metadata": {},
   "outputs": [
    {
     "name": "stdout",
     "output_type": "stream",
     "text": [
      "League is valid!\n",
      "True\n",
      "League is valid!\n",
      "True\n",
      "League is valid!\n",
      "True\n",
      "League is valid!\n",
      "True\n",
      "League is valid!\n",
      "True\n",
      "League is valid!\n",
      "True\n",
      "League is valid!\n",
      "True\n",
      "League is valid!\n",
      "True\n",
      "League is valid!\n",
      "True\n",
      "League is valid!\n",
      "True\n"
     ]
    }
   ],
   "source": [
    "print(validate_league(offspring71, df_sorted))\n",
    "print(validate_league(offspring72, df_sorted))\n",
    "print(validate_league(offspring73, df_sorted))\n",
    "print(validate_league(offspring74, df_sorted))\n",
    "print(validate_league(offspring75, df_sorted))\n",
    "print(validate_league(offspring76, df_sorted))\n",
    "print(validate_league(offspring77, df_sorted))\n",
    "print(validate_league(offspring78, df_sorted))\n",
    "print(validate_league(offspring79, df_sorted))\n",
    "print(validate_league(offspring80, df_sorted))"
   ]
  },
  {
   "cell_type": "code",
   "execution_count": 67,
   "id": "7f4b323c",
   "metadata": {},
   "outputs": [
    {
     "name": "stdout",
     "output_type": "stream",
     "text": [
      "League is valid!\n",
      "True\n",
      "League is valid!\n",
      "True\n",
      "League is valid!\n",
      "True\n",
      "League is valid!\n",
      "True\n",
      "League is valid!\n",
      "True\n",
      "League is valid!\n",
      "True\n",
      "League is valid!\n",
      "True\n",
      "League is valid!\n",
      "True\n",
      "League is valid!\n",
      "True\n",
      "League is valid!\n",
      "True\n"
     ]
    }
   ],
   "source": [
    "print(validate_league(offspring81, df_sorted))\n",
    "print(validate_league(offspring82, df_sorted))\n",
    "print(validate_league(offspring83, df_sorted))\n",
    "print(validate_league(offspring84, df_sorted))\n",
    "print(validate_league(offspring85, df_sorted))\n",
    "print(validate_league(offspring86, df_sorted))\n",
    "print(validate_league(offspring87, df_sorted))\n",
    "print(validate_league(offspring88, df_sorted))\n",
    "print(validate_league(offspring89, df_sorted))\n",
    "print(validate_league(offspring90, df_sorted))"
   ]
  },
  {
   "cell_type": "markdown",
   "id": "0d18ad53",
   "metadata": {},
   "source": [
    "# outro crossover"
   ]
  },
  {
   "cell_type": "markdown",
   "id": "a74f9b96",
   "metadata": {},
   "source": [
    "* acho que tinhamos ontem falado num crossover onde mantinhos todos os jogadores de 2 posições do pai 1 e dps adicionavamos todos os jogadores das restantes 2 posições do pai 2, portanto, era crossover de \"posições\"\n",
    "E isto podia ser feito para vários numeros, do pai1 mantemos os jogadores que sao GK, e juntamos os DEF, MID, FWD do pai2, ou do pai31 \n",
    "mantemos os jogadores que sao GK e MID e juntamos os DEF, FWD do pai2"
   ]
  },
  {
   "attachments": {
    "image.png": {
     "image/png": "[encoded data removed]"
    }
   },
   "cell_type": "markdown",
   "id": "c2ca4573",
   "metadata": {},
   "source": [
    "![image.png](attachment:image.png)"
   ]
  },
  {
   "cell_type": "markdown",
   "id": "e66f83ef",
   "metadata": {},
   "source": [
    "* first function of this type"
   ]
  },
  {
   "cell_type": "code",
   "execution_count": 68,
   "id": "7c91cb82",
   "metadata": {},
   "outputs": [],
   "source": [
    "from collections import defaultdict\n",
    "\n",
    "def crossover_by_position(parent1, parent2, players_df, keep_positions=[\"GK\", \"MID\"]):\n",
    "    \"\"\"\n",
    "    Performs a role-aware crossover where selected positions are preserved from parent1,\n",
    "    and the rest are filled from parent2. Each team is composed of 7 players in this order:\n",
    "    [GK, DEF, DEF, MID, MID, FWD, FWD]\n",
    "\n",
    "    Args:\n",
    "        parent1 (list of list of int): First parent (5 teams × 7 players).\n",
    "        parent2 (list of list of int): Second parent (5 teams × 7 players).\n",
    "        players_df (pd.DataFrame): DataFrame with 'id' and 'position' columns.\n",
    "        keep_positions (list): List of position names to keep from parent1.\n",
    "\n",
    "    Returns:\n",
    "        list: A new offspring created by crossover of parent1 and parent2 based on positions.\n",
    "    \"\"\"\n",
    "    position_map = dict(zip(players_df['id'], players_df['position']))\n",
    "    position_slots = [\"GK\", \"DEF\", \"DEF\", \"MID\", \"MID\", \"FWD\", \"FWD\"]\n",
    "\n",
    "    used_players = set()\n",
    "    offspring = []\n",
    "\n",
    "    for team_idx in range(5):\n",
    "        team1 = parent1[team_idx]\n",
    "        team2 = parent2[team_idx]\n",
    "\n",
    "        new_team = [None] * 7\n",
    "\n",
    "        # Step 1: Keep players from parent1 in desired positions\n",
    "        for i, slot in enumerate(position_slots):\n",
    "            pid1 = team1[i]\n",
    "            if position_map[pid1] == slot and slot in keep_positions:\n",
    "                new_team[i] = pid1\n",
    "                used_players.add(pid1)\n",
    "\n",
    "        # Step 2: Fill the remaining positions from parent2 with correct role and no duplicates\n",
    "        for i, slot in enumerate(position_slots):\n",
    "            if new_team[i] is not None:\n",
    "                continue  # already filled from parent1\n",
    "\n",
    "            for pid2 in team2:\n",
    "                if (\n",
    "                    pid2 not in used_players\n",
    "                    and position_map[pid2] == slot\n",
    "                    and (slot not in keep_positions)\n",
    "                ):\n",
    "                    new_team[i] = pid2\n",
    "                    used_players.add(pid2)\n",
    "                    break\n",
    "\n",
    "        # Step 3: Fallback (if not filled — shouldn't happen if parents are valid)\n",
    "        for i, slot in enumerate(position_slots):\n",
    "            if new_team[i] is None:\n",
    "                # Search all players of that position not yet used\n",
    "                for pid in players_df[players_df[\"position\"] == slot][\"id\"]:\n",
    "                    if pid not in used_players:\n",
    "                        new_team[i] = pid\n",
    "                        used_players.add(pid)\n",
    "                        break\n",
    "\n",
    "        offspring.append(new_team)\n",
    "\n",
    "    return offspring\n"
   ]
  },
  {
   "cell_type": "code",
   "execution_count": 69,
   "id": "38d3f5e0",
   "metadata": {},
   "outputs": [
    {
     "data": {
      "text/plain": [
       "[[0, 9, 10, 21, 24, 27, 33],\n",
       " [4, 12, 7, 17, 23, 25, 26],\n",
       " [2, 13, 11, 15, 22, 31, 30],\n",
       " [3, 5, 6, 16, 20, 29, 34],\n",
       " [1, 14, 8, 19, 18, 32, 28]]"
      ]
     },
     "execution_count": 69,
     "metadata": {},
     "output_type": "execute_result"
    }
   ],
   "source": [
    "exe1 = SportsLeagueSolution()\n",
    "exe1.repr"
   ]
  },
  {
   "cell_type": "code",
   "execution_count": 70,
   "id": "4331a9de",
   "metadata": {},
   "outputs": [
    {
     "data": {
      "text/plain": [
       "[[0, 6, 12, 16, 21, 26, 31],\n",
       " [1, 10, 5, 17, 18, 34, 33],\n",
       " [4, 7, 9, 15, 23, 32, 30],\n",
       " [2, 8, 14, 19, 22, 27, 28],\n",
       " [3, 11, 13, 20, 24, 29, 25]]"
      ]
     },
     "execution_count": 70,
     "metadata": {},
     "output_type": "execute_result"
    }
   ],
   "source": [
    "exe2 = SportsLeagueSolution()\n",
    "exe2.repr"
   ]
  },
  {
   "cell_type": "code",
   "execution_count": 71,
   "id": "be3e9a4e",
   "metadata": {},
   "outputs": [],
   "source": [
    "res= crossover_by_position(parent1=exe1.repr, parent2=exe2.repr, players_df=df_sorted)"
   ]
  },
  {
   "cell_type": "code",
   "execution_count": 72,
   "id": "cd8e88b0",
   "metadata": {},
   "outputs": [
    {
     "data": {
      "text/plain": [
       "[[0, 6, 12, 21, 24, 26, 31],\n",
       " [4, 10, 5, 17, 23, 34, 33],\n",
       " [2, 7, 9, 15, 22, 32, 30],\n",
       " [3, 8, 14, 16, 20, 27, 28],\n",
       " [1, 11, 13, 19, 18, 29, 25]]"
      ]
     },
     "execution_count": 72,
     "metadata": {},
     "output_type": "execute_result"
    }
   ],
   "source": [
    "res"
   ]
  },
  {
   "cell_type": "code",
   "execution_count": 73,
   "id": "3ff29220",
   "metadata": {},
   "outputs": [
    {
     "name": "stdout",
     "output_type": "stream",
     "text": [
      "League is valid!\n"
     ]
    },
    {
     "data": {
      "text/plain": [
       "True"
      ]
     },
     "execution_count": 73,
     "metadata": {},
     "output_type": "execute_result"
    }
   ],
   "source": [
    "validate_league(res, df_sorted)"
   ]
  },
  {
   "cell_type": "markdown",
   "id": "f59179a2",
   "metadata": {},
   "source": [
    "* second function"
   ]
  },
  {
   "cell_type": "code",
   "execution_count": 74,
   "id": "250750ee",
   "metadata": {},
   "outputs": [],
   "source": [
    "def crossover_by_position_dual(parent1, parent2, players_df, keep_positions=[\"GK\", \"MID\"]):\n",
    "    \"\"\"\n",
    "    Dual crossover:\n",
    "    - Offspring1 keeps selected positions from parent1, fills rest from parent2.\n",
    "    - Offspring2 keeps selected positions from parent2, fills rest from parent1.\n",
    "\n",
    "    Each team: [GK, DEF, DEF, MID, MID, FWD, FWD]\n",
    "\n",
    "    Args:\n",
    "        parent1 (list of list of int): First parent (5 teams × 7 players).\n",
    "        parent2 (list of list of int): Second parent (5 teams × 7 players).\n",
    "        players_df (pd.DataFrame): DataFrame with 'id' and 'position' columns.\n",
    "        keep_positions (list): Positions to keep from each parent.\n",
    "\n",
    "    Returns:\n",
    "        tuple: (offspring1, offspring2)\n",
    "    \"\"\"\n",
    "    position_map = dict(zip(players_df['id'], players_df['position'])) # maps each player_id to its position ( 33 → \"FWD\").\n",
    "    position_slots = [\"GK\", \"DEF\", \"DEF\", \"MID\", \"MID\", \"FWD\", \"FWD\"] # expected order of players in a team\n",
    "\n",
    "    def make_offspring(primary, secondary):\n",
    "\n",
    "        # build one offspring using:\n",
    "        # * primary parent — the parent to preserve roles \n",
    "        # * secondary — the parent to fill the rest from.\n",
    "\n",
    "        used_players = set() # player IDs that have already been added to teams to prevent  duplicates during the repair process\n",
    "        offspring = [] # list to store the new teams\n",
    "\n",
    "        for team_idx in range(5):\n",
    "            team1 = primary[team_idx] # team1 is the primary parent\n",
    "            team2 = secondary[team_idx] # team2 is the secondary parent\n",
    "            new_team = [None] * 7 # create a new team with 7 empty slots\n",
    "\n",
    "            # KKeep selected positions from primary\n",
    "            for i, slot in enumerate(position_slots): # for each position in the team\n",
    "                pid1 = team1[i] # get the player ID from the primary parent\n",
    "                if position_map[pid1] == slot and slot in keep_positions: # if the player ID is in the correct position and is one of the positions to keep\n",
    "                    new_team[i] = pid1 # add the player ID to the new team\n",
    "                    used_players.add(pid1) # add the player ID to the used players\n",
    "\n",
    "            # Fill remaining from secondary\n",
    "            for i, slot in enumerate(position_slots): # for each position in the team\n",
    "                if new_team[i] is not None: # if the position is already filled from the primary parent\n",
    "                    continue\n",
    "                for pid2 in team2: # for each player ID in the secondary parent\n",
    "                    if ( \n",
    "                        pid2 not in used_players # if the player ID is not already used\n",
    "                        and position_map[pid2] == slot # if the player ID is in the correct position\n",
    "                        and slot not in keep_positions # if the position is not one of the positions to keep\n",
    "                    ):\n",
    "                        new_team[i] = pid2 # add the player ID to the new team\n",
    "                        used_players.add(pid2) # add the player ID to the used players\n",
    "                        break\n",
    "\n",
    "            # By the type of crossover, we should not never use this part, but just in case things dont work as expected\n",
    "            for i, slot in enumerate(position_slots):\n",
    "                if new_team[i] is None:\n",
    "                    for pid in players_df[players_df[\"position\"] == slot][\"id\"]:\n",
    "                        if pid not in used_players:\n",
    "                            new_team[i] = pid\n",
    "                            used_players.add(pid)\n",
    "                            break\n",
    "\n",
    "            offspring.append(new_team)\n",
    "\n",
    "        return offspring\n",
    "\n",
    "    offspring1 = make_offspring(parent1, parent2)\n",
    "    offspring2 = make_offspring(parent2, parent1)\n",
    "    return offspring1, offspring2\n"
   ]
  },
  {
   "cell_type": "code",
   "execution_count": 75,
   "id": "20a02199",
   "metadata": {},
   "outputs": [
    {
     "data": {
      "text/plain": [
       "[[4, 5, 13, 18, 24, 27, 25],\n",
       " [0, 14, 7, 21, 17, 26, 29],\n",
       " [1, 8, 11, 22, 15, 28, 30],\n",
       " [3, 10, 6, 16, 23, 32, 34],\n",
       " [2, 12, 9, 20, 19, 31, 33]]"
      ]
     },
     "execution_count": 75,
     "metadata": {},
     "output_type": "execute_result"
    }
   ],
   "source": [
    "exe1 = SportsLeagueSolution()\n",
    "exe1.repr"
   ]
  },
  {
   "cell_type": "code",
   "execution_count": 76,
   "id": "4e660407",
   "metadata": {},
   "outputs": [
    {
     "data": {
      "text/plain": [
       "[[3, 14, 5, 20, 22, 29, 28],\n",
       " [1, 11, 13, 18, 21, 31, 27],\n",
       " [0, 8, 6, 16, 15, 33, 26],\n",
       " [2, 12, 7, 17, 23, 34, 25],\n",
       " [4, 9, 10, 19, 24, 30, 32]]"
      ]
     },
     "execution_count": 76,
     "metadata": {},
     "output_type": "execute_result"
    }
   ],
   "source": [
    "exe2 = SportsLeagueSolution()\n",
    "exe2.repr"
   ]
  },
  {
   "cell_type": "code",
   "execution_count": 77,
   "id": "1dcdc266",
   "metadata": {},
   "outputs": [],
   "source": [
    "offspring11, offspring12 = crossover_by_position_dual(exe1.repr, exe2.repr, df_sorted)"
   ]
  },
  {
   "cell_type": "code",
   "execution_count": 78,
   "id": "92148bff",
   "metadata": {},
   "outputs": [
    {
     "data": {
      "text/plain": [
       "[[4, 14, 5, 18, 24, 29, 28],\n",
       " [0, 11, 13, 21, 17, 31, 27],\n",
       " [1, 8, 6, 22, 15, 33, 26],\n",
       " [3, 12, 7, 16, 23, 34, 25],\n",
       " [2, 9, 10, 20, 19, 30, 32]]"
      ]
     },
     "execution_count": 78,
     "metadata": {},
     "output_type": "execute_result"
    }
   ],
   "source": [
    "offspring11"
   ]
  },
  {
   "cell_type": "code",
   "execution_count": 79,
   "id": "e4b8f556",
   "metadata": {},
   "outputs": [
    {
     "data": {
      "text/plain": [
       "[[3, 5, 13, 20, 22, 27, 25],\n",
       " [1, 14, 7, 18, 21, 26, 29],\n",
       " [0, 8, 11, 16, 15, 28, 30],\n",
       " [2, 10, 6, 17, 23, 32, 34],\n",
       " [4, 12, 9, 19, 24, 31, 33]]"
      ]
     },
     "execution_count": 79,
     "metadata": {},
     "output_type": "execute_result"
    }
   ],
   "source": [
    "offspring12"
   ]
  },
  {
   "cell_type": "code",
   "execution_count": 80,
   "id": "d654561f",
   "metadata": {},
   "outputs": [],
   "source": [
    "exe1 = SportsLeagueSolution()\n",
    "exe2 = SportsLeagueSolution()\n",
    "exe3 = SportsLeagueSolution()\n",
    "exe4 = SportsLeagueSolution()\n",
    "exe5 = SportsLeagueSolution()\n",
    "exe6 = SportsLeagueSolution()\n",
    "exe7 = SportsLeagueSolution()\n",
    "exe8 = SportsLeagueSolution()\n",
    "exe9 = SportsLeagueSolution()\n",
    "exe10 = SportsLeagueSolution()"
   ]
  },
  {
   "cell_type": "code",
   "execution_count": 81,
   "id": "3760fa87",
   "metadata": {},
   "outputs": [],
   "source": [
    "offspring1, offspring2 = crossover_by_position_dual(exe1.repr, exe2.repr, df_sorted)\n",
    "offspring3, offspring4 = crossover_by_position_dual(exe1.repr, exe3.repr, df_sorted)\n",
    "offspring5, offspring6 = crossover_by_position_dual(exe1.repr, exe4.repr, df_sorted)\n",
    "offspring7, offspring8 = crossover_by_position_dual(exe1.repr, exe5.repr, df_sorted)\n",
    "offspring9, offspring10 = crossover_by_position_dual(exe1.repr, exe6.repr, df_sorted)\n",
    "\n",
    "\n"
   ]
  },
  {
   "cell_type": "code",
   "execution_count": 82,
   "id": "81f55488",
   "metadata": {},
   "outputs": [
    {
     "data": {
      "text/plain": [
       "[[0, 6, 9, 19, 15, 33, 28],\n",
       " [3, 11, 5, 20, 21, 34, 25],\n",
       " [1, 13, 10, 24, 22, 26, 30],\n",
       " [2, 12, 14, 23, 18, 32, 31],\n",
       " [4, 7, 8, 16, 17, 27, 29]]"
      ]
     },
     "execution_count": 82,
     "metadata": {},
     "output_type": "execute_result"
    }
   ],
   "source": [
    "exe1.repr"
   ]
  },
  {
   "cell_type": "code",
   "execution_count": 83,
   "id": "abfcb7f7",
   "metadata": {},
   "outputs": [
    {
     "data": {
      "text/plain": [
       "[[4, 9, 8, 23, 21, 32, 28],\n",
       " [1, 10, 12, 15, 19, 25, 27],\n",
       " [3, 7, 5, 17, 20, 31, 26],\n",
       " [2, 11, 13, 22, 16, 33, 30],\n",
       " [0, 6, 14, 18, 24, 34, 29]]"
      ]
     },
     "execution_count": 83,
     "metadata": {},
     "output_type": "execute_result"
    }
   ],
   "source": [
    "exe2.repr"
   ]
  },
  {
   "cell_type": "code",
   "execution_count": 84,
   "id": "1c332b33",
   "metadata": {},
   "outputs": [
    {
     "data": {
      "text/plain": [
       "[[0, 9, 8, 19, 15, 32, 28],\n",
       " [3, 10, 12, 20, 21, 25, 27],\n",
       " [1, 7, 5, 24, 22, 31, 26],\n",
       " [2, 11, 13, 23, 18, 33, 30],\n",
       " [4, 6, 14, 16, 17, 34, 29]]"
      ]
     },
     "execution_count": 84,
     "metadata": {},
     "output_type": "execute_result"
    }
   ],
   "source": [
    "offspring1"
   ]
  },
  {
   "cell_type": "code",
   "execution_count": 85,
   "id": "d606e6bd",
   "metadata": {},
   "outputs": [
    {
     "data": {
      "text/plain": [
       "[[4, 6, 9, 23, 21, 33, 28],\n",
       " [1, 11, 5, 15, 19, 34, 25],\n",
       " [3, 13, 10, 17, 20, 26, 30],\n",
       " [2, 12, 14, 22, 16, 32, 31],\n",
       " [0, 7, 8, 18, 24, 27, 29]]"
      ]
     },
     "execution_count": 85,
     "metadata": {},
     "output_type": "execute_result"
    }
   ],
   "source": [
    "offspring2"
   ]
  },
  {
   "cell_type": "markdown",
   "id": "9bbc3543",
   "metadata": {},
   "source": [
    "* third and last function, with a lot of random decisions -> maybe not good for this"
   ]
  },
  {
   "cell_type": "code",
   "execution_count": 86,
   "id": "202914a6",
   "metadata": {},
   "outputs": [],
   "source": [
    "# import random\n",
    "\n",
    "# def crossover_by_position_dual(parent1, parent2, players_df, keep_positions=[\"GK\", \"DEF\"], random_keep=False, num_keep_positions=2):\n",
    "#     \"\"\"\n",
    "#     Dual crossover:\n",
    "#     - Offspring1 keeps selected positions from parent1, fills rest from parent2.\n",
    "#     - Offspring2 keeps selected positions from parent2, fills rest from parent1.\n",
    "\n",
    "#     Each team: [GK, DEF, DEF, MID, MID, FWD, FWD]\n",
    "\n",
    "#     Args:\n",
    "#         parent1 (list of list of int): First parent (5 teams × 7 players).\n",
    "#         parent2 (list of list of int): Second parent (5 teams × 7 players).\n",
    "#         players_df (pd.DataFrame): DataFrame with 'id' and 'position' columns.\n",
    "#         keep_positions (list): Positions to keep from each parent (overrides randomness).\n",
    "#         random_keep (bool): If True, randomly choose positions to keep.\n",
    "#         num_keep_positions (int): Number of positions to randomly select if random_keep=True.\n",
    "\n",
    "#     Returns:\n",
    "#         tuple: (offspring1, offspring2, selected_positions)\n",
    "#     \"\"\"\n",
    "#     position_map = dict(zip(players_df['id'], players_df['position']))\n",
    "#     position_slots = [\"GK\", \"DEF\", \"DEF\", \"MID\", \"MID\", \"FWD\", \"FWD\"]\n",
    "#     all_positions = [\"GK\", \"DEF\", \"MID\", \"FWD\"]\n",
    "\n",
    "#     if random_keep:\n",
    "#         keep_positions = random.sample(all_positions, num_keep_positions)\n",
    "\n",
    "#     def crossover_team(team_primary, team_secondary, keep_positions, used_players):\n",
    "#         new_team = [None] * 7\n",
    "\n",
    "#         # Step 1: Keep selected positions from primary parent\n",
    "#         for i, slot in enumerate(position_slots):\n",
    "#             pid = team_primary[i]\n",
    "#             if position_map[pid] == slot and slot in keep_positions:\n",
    "#                 new_team[i] = pid\n",
    "#                 used_players.add(pid)\n",
    "\n",
    "#         # Step 2: Fill remaining from secondary parent\n",
    "#         for i, slot in enumerate(position_slots):\n",
    "#             if new_team[i] is not None:\n",
    "#                 continue\n",
    "#             for pid in team_secondary:\n",
    "#                 if pid not in used_players and position_map[pid] == slot and slot not in keep_positions:\n",
    "#                     new_team[i] = pid\n",
    "#                     used_players.add(pid)\n",
    "#                     break\n",
    "\n",
    "#         # Step 3: Fallback (repair any empty positions)\n",
    "#         for i, slot in enumerate(position_slots):\n",
    "#             if new_team[i] is None:\n",
    "#                 for pid in players_df[players_df[\"position\"] == slot][\"id\"]:\n",
    "#                     if pid not in used_players:\n",
    "#                         new_team[i] = pid\n",
    "#                         used_players.add(pid)\n",
    "#                         break\n",
    "\n",
    "#         return new_team\n",
    "\n",
    "#     # Build both offspring\n",
    "#     offspring1 = []\n",
    "#     offspring2 = []\n",
    "#     used1 = set()\n",
    "#     used2 = set()\n",
    "\n",
    "#     for t1, t2 in zip(parent1, parent2):\n",
    "#         offspring1.append(crossover_team(t1, t2, keep_positions, used1))\n",
    "#         offspring2.append(crossover_team(t2, t1, keep_positions, used2))\n",
    "\n",
    "#     return offspring1, offspring2, keep_positions\n"
   ]
  },
  {
   "cell_type": "code",
   "execution_count": 87,
   "id": "b8281538",
   "metadata": {},
   "outputs": [],
   "source": [
    "# offspring1, offspring2, kept = crossover_by_position_dual(\n",
    "#     exe1.repr, \n",
    "#     exe2.repr, \n",
    "#     df_sorted,\n",
    "#     random_keep=True,\n",
    "#     num_keep_positions=2\n",
    "# )"
   ]
  },
  {
   "cell_type": "code",
   "execution_count": 88,
   "id": "5226e5a2",
   "metadata": {},
   "outputs": [],
   "source": [
    "# exe1.repr"
   ]
  },
  {
   "cell_type": "code",
   "execution_count": 89,
   "id": "616a8227",
   "metadata": {},
   "outputs": [],
   "source": [
    "# exe2.repr"
   ]
  },
  {
   "cell_type": "code",
   "execution_count": 90,
   "id": "cdb4ea23",
   "metadata": {},
   "outputs": [],
   "source": [
    "# offspring1"
   ]
  },
  {
   "cell_type": "code",
   "execution_count": 91,
   "id": "2849c59b",
   "metadata": {},
   "outputs": [],
   "source": [
    "# offspring1, offspring2, kept = crossover_by_position_dual(\n",
    "#     exe1.repr, \n",
    "#     exe2.repr, \n",
    "#     df_sorted,\n",
    "#     keep_positions=[\"MID\", \"DEF\"],\n",
    "#     num_keep_positions=3\n",
    "# )"
   ]
  },
  {
   "cell_type": "code",
   "execution_count": 92,
   "id": "21d07823",
   "metadata": {},
   "outputs": [],
   "source": [
    "# offspring1"
   ]
  },
  {
   "cell_type": "markdown",
   "id": "2fd231c8",
   "metadata": {},
   "source": [
    "<hr>"
   ]
  },
  {
   "cell_type": "code",
   "execution_count": null,
   "id": "42874c98",
   "metadata": {},
   "outputs": [],
   "source": [
    "import random\n",
    "\n",
    "def crossover_by_position_dual_any(parent1, parent2, players_df, keep_positions=None):\n",
    "    \"\"\"\n",
    "    Dual crossover with random position selection:\n",
    "    - Randomly selects 2 positions if none specified\n",
    "    - Preserves selected positions from each parent\n",
    "    - Fills remaining slots from other parent\n",
    "    - Ensures no duplicate players per team\n",
    "    \"\"\"\n",
    "    position_map = dict(zip(players_df['id'], players_df['position']))\n",
    "    position_slots = [\"GK\", \"DEF\", \"DEF\", \"MID\", \"MID\", \"FWD\", \"FWD\"]\n",
    "    unique_positions = list(set(position_slots))  # ['GK', 'DEF', 'MID', 'FWD']\n",
    "    \n",
    "    # Set random positions \n",
    "    if keep_positions is None:\n",
    "        keep_positions = random.sample(unique_positions, 2)\n",
    "\n",
    "    def make_offspring(primary, secondary):\n",
    "        offspring = []\n",
    "        \n",
    "        for team_idx in range(5):\n",
    "            # Track used players PER TEAM\n",
    "            used_players = set()\n",
    "            new_team = [None] * 7\n",
    "            \n",
    "            # 1. Preserve selected positions from primary parent\n",
    "            for i, slot in enumerate(position_slots):\n",
    "                if slot in keep_positions:\n",
    "                    player_id = primary[team_idx][i]\n",
    "                    if player_id not in used_players:\n",
    "                        new_team[i] = player_id\n",
    "                        used_players.add(player_id)\n",
    "\n",
    "            # 2. Fill remaining slots from secondary parent\n",
    "            for i, slot in enumerate(position_slots):\n",
    "                if new_team[i] is not None:\n",
    "                    continue\n",
    "                \n",
    "                # Find first available player in secondary team with correct position\n",
    "                for player_id in secondary[team_idx]:\n",
    "                    if (position_map[player_id] == slot and \n",
    "                        player_id not in used_players and \n",
    "                        slot not in keep_positions):\n",
    "                        new_team[i] = player_id\n",
    "                        used_players.add(player_id)\n",
    "                        break\n",
    "\n",
    "            # 3. Fallback: fill from global pool if needed\n",
    "            for i, slot in enumerate(position_slots):\n",
    "                if new_team[i] is None:\n",
    "                    available = players_df[\n",
    "                        (players_df[\"position\"] == slot) & \n",
    "                        (~players_df[\"id\"].isin(used_players))\n",
    "                    ].id.values\n",
    "                    if len(available) > 0:\n",
    "                        new_team[i] = available[0]\n",
    "                        used_players.add(new_team[i])\n",
    "\n",
    "            offspring.append(new_team)\n",
    "            \n",
    "        return offspring\n",
    "\n",
    "    return (\n",
    "        make_offspring(parent1, parent2),\n",
    "        make_offspring(parent2, parent1)\n",
    "    )\n"
   ]
  },
  {
   "cell_type": "code",
   "execution_count": 94,
   "id": "74d5fb53",
   "metadata": {},
   "outputs": [
    {
     "data": {
      "text/plain": [
       "[[1, 14, 11, 22, 20, 30, 33],\n",
       " [0, 12, 13, 16, 15, 25, 32],\n",
       " [2, 9, 7, 21, 17, 26, 34],\n",
       " [3, 10, 5, 23, 19, 27, 29],\n",
       " [4, 6, 8, 24, 18, 31, 28]]"
      ]
     },
     "execution_count": 94,
     "metadata": {},
     "output_type": "execute_result"
    }
   ],
   "source": [
    "exe1 = SportsLeagueSolution()\n",
    "exe1.repr"
   ]
  },
  {
   "cell_type": "code",
   "execution_count": 95,
   "id": "fd49230c",
   "metadata": {},
   "outputs": [
    {
     "data": {
      "text/plain": [
       "[[3, 8, 12, 16, 15, 34, 26],\n",
       " [2, 7, 5, 24, 18, 31, 25],\n",
       " [4, 14, 6, 23, 20, 27, 30],\n",
       " [1, 10, 13, 17, 21, 33, 32],\n",
       " [0, 9, 11, 19, 22, 28, 29]]"
      ]
     },
     "execution_count": 95,
     "metadata": {},
     "output_type": "execute_result"
    }
   ],
   "source": [
    "exe2 = SportsLeagueSolution()\n",
    "exe2.repr"
   ]
  },
  {
   "cell_type": "code",
   "execution_count": 96,
   "id": "b523f685",
   "metadata": {},
   "outputs": [],
   "source": [
    "offspring11, offspring12 = crossover_by_position_dual_any(exe1.repr, exe2.repr, df_sorted)"
   ]
  },
  {
   "cell_type": "code",
   "execution_count": 97,
   "id": "0aee0984",
   "metadata": {},
   "outputs": [
    {
     "data": {
      "text/plain": [
       "[[3, 8, 12, 22, 20, 30, 33],\n",
       " [2, 7, 5, 16, 15, 25, 32],\n",
       " [4, 14, 6, 21, 17, 26, 34],\n",
       " [1, 10, 13, 23, 19, 27, 29],\n",
       " [0, 9, 11, 24, 18, 31, 28]]"
      ]
     },
     "execution_count": 97,
     "metadata": {},
     "output_type": "execute_result"
    }
   ],
   "source": [
    "offspring11"
   ]
  },
  {
   "cell_type": "code",
   "execution_count": 98,
   "id": "377f5ff4",
   "metadata": {},
   "outputs": [
    {
     "data": {
      "text/plain": [
       "[[1, 14, 11, 16, 15, 34, 26],\n",
       " [0, 12, 13, 24, 18, 31, 25],\n",
       " [2, 9, 7, 23, 20, 27, 30],\n",
       " [3, 10, 5, 17, 21, 33, 32],\n",
       " [4, 6, 8, 19, 22, 28, 29]]"
      ]
     },
     "execution_count": 98,
     "metadata": {},
     "output_type": "execute_result"
    }
   ],
   "source": [
    "offspring12"
   ]
  },
  {
   "cell_type": "code",
   "execution_count": 99,
   "id": "1bc524ee",
   "metadata": {},
   "outputs": [],
   "source": [
    "offspring21, offspring22 = crossover_by_position_dual_any(exe1.repr, exe2.repr, df_sorted, keep_positions=[\"GK\", \"FWD\"])"
   ]
  },
  {
   "cell_type": "code",
   "execution_count": 100,
   "id": "9849bae9",
   "metadata": {},
   "outputs": [
    {
     "data": {
      "text/plain": [
       "[[1, 8, 12, 16, 15, 30, 33],\n",
       " [0, 7, 5, 24, 18, 25, 32],\n",
       " [2, 14, 6, 23, 20, 26, 34],\n",
       " [3, 10, 13, 17, 21, 27, 29],\n",
       " [4, 9, 11, 19, 22, 31, 28]]"
      ]
     },
     "execution_count": 100,
     "metadata": {},
     "output_type": "execute_result"
    }
   ],
   "source": [
    "offspring21"
   ]
  },
  {
   "cell_type": "code",
   "execution_count": 101,
   "id": "dc94a7a6",
   "metadata": {},
   "outputs": [
    {
     "data": {
      "text/plain": [
       "[[3, 14, 11, 22, 20, 34, 26],\n",
       " [2, 12, 13, 16, 15, 31, 25],\n",
       " [4, 9, 7, 21, 17, 27, 30],\n",
       " [1, 10, 5, 23, 19, 33, 32],\n",
       " [0, 6, 8, 24, 18, 28, 29]]"
      ]
     },
     "execution_count": 101,
     "metadata": {},
     "output_type": "execute_result"
    }
   ],
   "source": [
    "offspring22"
   ]
  },
  {
   "cell_type": "markdown",
   "id": "1c9d789b",
   "metadata": {},
   "source": [
    "<hr>"
   ]
  },
  {
   "cell_type": "markdown",
   "id": "29918ff3",
   "metadata": {},
   "source": [
    "# Genetic Algorithm\n"
   ]
  },
  {
   "cell_type": "code",
   "execution_count": null,
   "id": "1779fdd3",
   "metadata": {},
   "outputs": [],
   "source": [
    "from typing import Callable\n",
    "\n",
    "def get_best_ind(population: list[Solution], maximization: bool):\n",
    "    fitness_list = [ind.fitness() for ind in population]\n",
    "    if maximization:\n",
    "        return population[fitness_list.index(max(fitness_list))]\n",
    "    else:\n",
    "        return population[fitness_list.index(min(fitness_list))]\n",
    "\n",
    "def genetic_algorithm(\n",
    "    initial_population: list[Solution],\n",
    "    max_gen: int,\n",
    "    selection_algorithm: Callable,\n",
    "    maximization: bool = False,\n",
    "    xo_prob: float = 0.9,\n",
    "    mut_prob: float = 0.2,\n",
    "    elitism: bool = True,\n",
    "    verbose: bool = False,\n",
    "):\n",
    "    # 1. Initialize a population with N individuals\n",
    "    population = initial_population\n",
    "\n",
    "    # 2. Repeat until termination condition\n",
    "    for gen in range(1, max_gen + 1):\n",
    "        if verbose:\n",
    "            print(f'-------------- Generation: {gen} --------------')\n",
    "\n",
    "        # 2.1. Create an empty population P'\n",
    "        new_population = []\n",
    "\n",
    "        # 2.2. If using elitism, insert best individual from P into P'\n",
    "        if elitism:\n",
    "            new_population.append(deepcopy(get_best_ind(initial_population, maximization)))\n",
    "        \n",
    "        # 2.3. Repeat until P' contains N individuals\n",
    "        while len(new_population) < len(population):\n",
    "            # 2.3.1. Choose 2 individuals from P using a selection algorithm\n",
    "            first_ind = selection_algorithm(population, maximization)\n",
    "            second_ind = selection_algorithm(population, maximization)\n",
    "\n",
    "            if verbose:\n",
    "                print(f'Selected individuals:\\n{first_ind}\\n{second_ind}')\n",
    "\n",
    "            # 2.3.2. Choose an operator between crossover and replication\n",
    "            # 2.3.3. Apply the operator to generate the offspring\n",
    "            if random.random() < xo_prob:\n",
    "                offspring1, offspring2 = first_ind.crossover(second_ind)\n",
    "                if verbose:\n",
    "                    print(f'Applied crossover')\n",
    "            else:\n",
    "                offspring1, offspring2 = deepcopy(first_ind), deepcopy(second_ind)\n",
    "                if verbose:\n",
    "                    print(f'Applied replication')\n",
    "            \n",
    "            if verbose:\n",
    "                print(f'Offspring:\\n{offspring1}\\n{offspring2}')\n",
    "            \n",
    "            # 2.3.4. Apply mutation to the offspring\n",
    "            first_new_ind = offspring1.mutation(mut_prob)\n",
    "            # 2.3.5. Insert the mutated individuals into P'\n",
    "            new_population.append(first_new_ind)\n",
    "\n",
    "            if verbose:\n",
    "                print(f'First mutated individual: {first_new_ind}')\n",
    "            \n",
    "            if len(new_population) < len(population):\n",
    "                second_new_ind = offspring2.mutation(mut_prob)\n",
    "                new_population.append(second_new_ind)\n",
    "                if verbose:\n",
    "                    print(f'Second mutated individual: {first_new_ind}')\n",
    "        \n",
    "        # 2.4. Replace P with P'\n",
    "        population = new_population\n",
    "\n",
    "        if verbose:\n",
    "            print(f'Final best individual in generation: {get_best_ind(population, maximization)}')\n",
    "\n",
    "    # 3. Return the best individual in P\n",
    "    return get_best_ind(population, maximization)\n"
   ]
  },
  {
   "cell_type": "code",
   "execution_count": null,
   "id": "5ac5ca98",
   "metadata": {},
   "outputs": [],
   "source": [
    "import random\n",
    "from copy import deepcopy\n",
    "from typing import Callable"
   ]
  },
  {
   "cell_type": "code",
   "execution_count": null,
   "id": "548134fc",
   "metadata": {},
   "outputs": [],
   "source": [
    "def get_best_ind(population: list[Solution], maximization: bool):\n",
    "    fitness_list = [ind.fitness() for ind in population]\n",
    "    if maximization:\n",
    "        return population[fitness_list.index(max(fitness_list))]\n",
    "    else:\n",
    "        return population[fitness_list.index(min(fitness_list))]\n",
    "\n",
    "def genetic_algorithm(\n",
    "    initial_population: list[Solution],\n",
    "    max_gen: int,\n",
    "    selection_algorithm: Callable,\n",
    "    maximization: bool = False,\n",
    "    xo_prob: float = 0.9,\n",
    "    mut_prob: float = 0.2,\n",
    "    elitism: bool = True,\n",
    "    verbose: bool = False,\n",
    "):\n",
    "    \"\"\"\n",
    "    Executes a genetic algorithm to optimize a population of solutions.\n",
    "\n",
    "    Args:\n",
    "        initial_population (list[Solution]): The starting population of solutions.\n",
    "        max_gen (int): The maximum number of generations to evolve.\n",
    "        selection_algorithm (Callable): Function used for selecting individuals.\n",
    "        maximization (bool, optional): If True, maximizes the fitness function; otherwise, minimizes. Defaults to False.\n",
    "        xo_prob (float, optional): Probability of applying crossover. Defaults to 0.9.\n",
    "        mut_prob (float, optional): Probability of applying mutation. Defaults to 0.2.\n",
    "        elitism (bool, optional): If True, carries the best individual to the next generation. Defaults to True.\n",
    "        verbose (bool, optional): If True, prints detailed logs for debugging. Defaults to False.\n",
    "\n",
    "    Returns:\n",
    "        Solution: The best solution found on the last population after evolving for max_gen generations.\n",
    "        list[float]: The fitness of the best individual over the generations\n",
    "    \"\"\"\n",
    "    best_fitness_over_gens = []\n",
    "\n",
    "    # 1. Initialize a population with N individuals\n",
    "    population = initial_population\n",
    "\n",
    "    # 2. Repeat until termination condition\n",
    "    for gen in range(1, max_gen + 1):\n",
    "        if verbose:\n",
    "            print(f'-------------- Generation: {gen} --------------')\n",
    "\n",
    "        # 2.1. Create an empty population P'\n",
    "        new_population = []\n",
    "\n",
    "        # 2.2. If using elitism, insert best individual from P into P'\n",
    "        if elitism:\n",
    "            new_population.append(deepcopy(get_best_ind(population, maximization)))\n",
    "        \n",
    "        # 2.3. Repeat until P' contains N individuals\n",
    "        while len(new_population) < len(population):\n",
    "            # 2.3.1. Choose 2 individuals from P using a selection algorithm\n",
    "            first_ind = selection_algorithm(population, maximization)\n",
    "            second_ind = selection_algorithm(population, maximization)\n",
    "\n",
    "            if verbose:\n",
    "                print(f'Selected individuals:\\n{first_ind}\\n{second_ind}')\n",
    "\n",
    "            # 2.3.2. Choose an operator between crossover and replication\n",
    "            # 2.3.3. Apply the operator to generate the offspring\n",
    "            if random.random() < xo_prob:\n",
    "                offspring1, offspring2 = first_ind.crossover(second_ind)\n",
    "                if verbose:\n",
    "                    print(f'Applied crossover')\n",
    "            else:\n",
    "                offspring1, offspring2 = deepcopy(first_ind), deepcopy(second_ind)\n",
    "                if verbose:\n",
    "                    print(f'Applied replication')\n",
    "            \n",
    "            if verbose:\n",
    "                print(f'Offspring:\\n{offspring1}\\n{offspring2}')\n",
    "            \n",
    "            # 2.3.4. Apply mutation to the offspring\n",
    "            first_new_ind = offspring1.mutation(mut_prob)\n",
    "            # 2.3.5. Insert the mutated individuals into P'\n",
    "            new_population.append(first_new_ind)\n",
    "\n",
    "            if verbose:\n",
    "                print(f'First mutated individual: {first_new_ind}')\n",
    "            \n",
    "            if len(new_population) < len(population):\n",
    "                second_new_ind = offspring2.mutation(mut_prob)\n",
    "                new_population.append(second_new_ind)\n",
    "                if verbose:\n",
    "                    print(f'Second mutated individual: {second_new_ind}')\n",
    "        \n",
    "        # 2.4. Replace P with P'\n",
    "        population = new_population\n",
    "\n",
    "        if verbose:\n",
    "            print(f'Final best individual in generation: {get_best_ind(population, maximization).fitness()}')\n",
    "        \n",
    "        best_ind = get_best_ind(population, maximization)\n",
    "        best_fitness_over_gens.append(best_ind.fitness())\n",
    "\n",
    "    # 3. Return the best individual in P + the best individual fitness over generations\n",
    "    return get_best_ind(population, maximization), best_fitness_over_gens\n"
   ]
  },
  {
   "attachments": {
    "image.png": {
     "image/png": "[encoded data removed]"
    }
   },
   "cell_type": "markdown",
   "id": "369fa7f8",
   "metadata": {},
   "source": [
    "![image.png](attachment:image.png)"
   ]
  },
  {
   "cell_type": "code",
   "execution_count": null,
   "id": "7fc5f3d1",
   "metadata": {},
   "outputs": [],
   "source": [
    "# class SportsLeagueGASolution(SportsLeagueSolution):\n",
    "#     # crossover\n",
    "#     def crossover(self, other_solution):\n",
    "#         offspring1_repr, offspring2_repr = standard_crossover_with_position_repair(\n",
    "#             self.repr, other_solution.repr, self.players_df\n",
    "#         )\n",
    "\n",
    "#         return (\n",
    "#             SportsLeagueGASolution(repr=offspring1_repr),\n",
    "#             SportsLeagueGASolution(repr=offspring2_repr)\n",
    "#         )\n",
    "\n",
    "#     # mutation\n",
    "#     def mutation(self, mut_prob=0):\n",
    "#         # if random.random() < mut_prob:\n",
    "#         #     # Perform some actual mutation on self.repr\n",
    "#         #     mutated_repr = mutate_team_structure(self.repr)\n",
    "#         #     return SportsLeagueGASolution(repr=mutated_repr)\n",
    "#         # else:\n",
    "#         #     return deepcopy(self)\n",
    "#         pass"
   ]
  },
  {
   "attachments": {
    "image.png": {
     "image/png": "[encoded data removed]"
    }
   },
   "cell_type": "markdown",
   "id": "6dd34e88",
   "metadata": {},
   "source": [
    "![image.png](attachment:image.png)"
   ]
  },
  {
   "cell_type": "markdown",
   "id": "e35ccd3f",
   "metadata": {},
   "source": [
    "* new function like the one in class"
   ]
  },
  {
   "cell_type": "code",
   "execution_count": null,
   "id": "afc5af7e",
   "metadata": {},
   "outputs": [],
   "source": [
    "class SportsLeagueGASolution(SportsLeagueSolution):\n",
    "\n",
    "    def __init__(self, mutation_function, crossover_function,repr = None): # mutation_function: Callable, crossover_function: Callable\n",
    "        super().__init__(players_df=df_sorted,repr=repr)\n",
    "\n",
    "        # Save as attributes for access in methods\n",
    "        self.mutation_function = mutation_function\n",
    "        self.crossover_function = crossover_function\n",
    "\n",
    "\n",
    "    # crossover\n",
    "    def crossover(self, other_solution):\n",
    "        # Apply crossover function to self representation and other solution representation\n",
    "        offspring1_repr, offspring2_repr = self.crossover_function(self.repr, other_solution.repr, df_sorted)\n",
    "\n",
    "        return (\n",
    "            SportsLeagueGASolution(repr=offspring1_repr,\n",
    "                                   mutation_function=self.mutation_function,\n",
    "                                   crossover_function=self.crossover_function),\n",
    "            SportsLeagueGASolution(repr=offspring2_repr,\n",
    "                                   mutation_function=self.mutation_function,\n",
    "                                   crossover_function=self.crossover_function)\n",
    "        )\n",
    "\n",
    "\n",
    "    # mutation\n",
    "    def mutation(self, mut_prob):\n",
    "        if random.random() < mut_prob:\n",
    "             # Perform some actual mutation on self.repr\n",
    "             mutated_repr = self.mutation_function(self)\n",
    "             return SportsLeagueGASolution(repr=mutated_repr.repr,\n",
    "                                          mutation_function=self.mutation_function,\n",
    "                                          crossover_function=self.crossover_function)\n",
    "        else:\n",
    "             return deepcopy(self)\n",
    "        "
   ]
  },
  {
   "cell_type": "code",
   "execution_count": null,
   "id": "1d6f255b",
   "metadata": {},
   "outputs": [],
   "source": [
    "POP_SIZE = 100\n",
    "initial_population = [\n",
    "    SportsLeagueGASolution(mutation_function=player_role_left_shift_mutation, crossover_function=standard_crossover_with_position_repair)\n",
    "    for _ in range(POP_SIZE)\n",
    "]\n",
    "initial_population"
   ]
  },
  {
   "cell_type": "code",
   "execution_count": null,
   "id": "1062f217",
   "metadata": {},
   "outputs": [],
   "source": [
    "best_solution = genetic_algorithm(\n",
    "     initial_population=initial_population,\n",
    "     selection_algorithm=tournament_selection,\n",
    "     max_gen=100,\n",
    "     maximization=False,\n",
    "     verbose=True,\n",
    "     elitism=True,) "
   ]
  },
  {
   "cell_type": "code",
   "execution_count": null,
   "id": "8d56f0a9",
   "metadata": {},
   "outputs": [],
   "source": [
    "print(\"Best solution:\", best_solution[0])\n",
    "print(\"Fitness:\", best_solution[1][-1])"
   ]
  },
  {
   "cell_type": "code",
   "execution_count": null,
   "id": "9fac3c3b",
   "metadata": {},
   "outputs": [],
   "source": [
    "best_solution[1]"
   ]
  },
  {
   "cell_type": "code",
   "execution_count": null,
   "id": "e9720061",
   "metadata": {},
   "outputs": [],
   "source": [
    "import seaborn as sns\n",
    "\n",
    "sns.lineplot(best_solution[1])"
   ]
  },
  {
   "cell_type": "markdown",
   "id": "dcd8ba00",
   "metadata": {},
   "source": [
    "<hr>\n",
    "\n",
    "# Analise de resultados "
   ]
  },
  {
   "cell_type": "code",
   "execution_count": null,
   "id": "7ed9967b",
   "metadata": {},
   "outputs": [],
   "source": [
    "import itertools"
   ]
  },
  {
   "cell_type": "code",
   "execution_count": null,
   "id": "ef16bb11",
   "metadata": {},
   "outputs": [],
   "source": [
    "POP_SIZE = 5\n",
    "GENERATIONS = 5\n",
    "\n",
    "grid_params = {\n",
    "    \"crossover\": [\n",
    "        {\n",
    "            \"function\": standard_crossover_with_position_repair,\n",
    "            \"xo_prob\": 0.8\n",
    "        },\n",
    "        {\n",
    "            \"function\": crossover_by_position_dual,\n",
    "            \"xo_prob\": 0.8\n",
    "        }\n",
    "    ],\n",
    "    \"mutation\": [\n",
    "        {\n",
    "            \"function\": player_role_left_shift_mutation,\n",
    "            \"mut_prob\": 0.8\n",
    "        },\n",
    "        {\n",
    "            \"function\": role_shuffle_mutation,\n",
    "            \"mut_prob\": 0.5\n",
    "        },\n",
    "        {\n",
    "            \"function\": player_swap_mutation,\n",
    "            \"mut_prob\":0.5\n",
    "        }\n",
    "    ],\n",
    "    \"elitism\": [True, False]\n",
    "}\n",
    "\n",
    "fitness_dfs = {}\n",
    "\n",
    "# Generate all combinations of the grid parameters\n",
    "grid = list(itertools.product(grid_params[\"crossover\"], grid_params[\"mutation\"], grid_params[\"elitism\"]))\n",
    "\n",
    "for crossover_cfg, mutation_cfg, elitism in grid:\n",
    "    # Create empty dataframe for each configuration\n",
    "    # Columns have the fitness in each generation, rows will have results for each run\n",
    "    df = pd.DataFrame(columns=range(GENERATIONS)) # Shape will be 30 x 200\n",
    "\n",
    "    # Get crossover and mutation functions and probabilities from the grid\n",
    "    crossover_function = crossover_cfg[\"function\"]\n",
    "    xo_prob = crossover_cfg[\"xo_prob\"]\n",
    "    mutation_function = mutation_cfg[\"function\"]\n",
    "    mut_prob = mutation_cfg[\"mut_prob\"]\n",
    "\n",
    "    config_results = []\n",
    "\n",
    "    # Run for 30 times\n",
    "    for run_nr in range(30):\n",
    "        print(\"run_nr = \", run_nr)\n",
    "        _, fitness_over_gens = genetic_algorithm(\n",
    "            initial_population=[\n",
    "                SportsLeagueGASolution(\n",
    "                    mutation_function=mutation_function,\n",
    "                    crossover_function=crossover_function\n",
    "                ) for _ in range(POP_SIZE)\n",
    "            ],\n",
    "            max_gen=GENERATIONS,\n",
    "            selection_algorithm=tournament_selection,\n",
    "            xo_prob=xo_prob,\n",
    "            mut_prob=mut_prob,\n",
    "            elitism=elitism\n",
    "        )\n",
    "        config_results.append(fitness_over_gens)\n",
    "\n",
    "        df.loc[run_nr] = fitness_over_gens\n",
    "\n",
    "    # Create a label for the configuration\n",
    "    config_label = (\n",
    "        f\"{crossover_function.__name__}{xo_prob}_\"\n",
    "        f\"{mutation_function.__name__}{mut_prob}_elitism={elitism}\"\n",
    "    )\n",
    "    print(config_label)\n",
    "\n",
    "    # Save configuration results in the dictionary\n",
    "    fitness_dfs[config_label] = df\n",
    "\n"
   ]
  },
  {
   "cell_type": "code",
   "execution_count": null,
   "id": "fb18ff12",
   "metadata": {},
   "outputs": [],
   "source": [
    "fitness_dfs"
   ]
  },
  {
   "cell_type": "code",
   "execution_count": null,
   "id": "0350ee41",
   "metadata": {},
   "outputs": [],
   "source": [
    "print(list(fitness_dfs.keys()))"
   ]
  },
  {
   "cell_type": "code",
   "execution_count": null,
   "id": "d704d748",
   "metadata": {},
   "outputs": [],
   "source": [
    "fitness_dfs['standard_crossover_with_position_repair0.8_player_role_left_shift_mutation0.8_elitism=True']"
   ]
  },
  {
   "cell_type": "code",
   "execution_count": null,
   "id": "5dd4852f",
   "metadata": {},
   "outputs": [],
   "source": [
    "import matplotlib.pyplot as plt"
   ]
  },
  {
   "cell_type": "code",
   "execution_count": null,
   "id": "0447a052",
   "metadata": {},
   "outputs": [],
   "source": [
    "def plot_fitness_over_gen(fitness_dfs: dict[str, pd.DataFrame]):\n",
    "    \"\"\"\n",
    "    \n",
    "    \"\"\"\n",
    "    fig, axes = plt.subplots(1, 2, figsize=(14, 6), sharey=True)\n",
    "    handles, labels = [], []\n",
    "\n",
    "    for config_name, df in fitness_dfs.items():\n",
    "        mean_fitness = df.mean(axis=0)\n",
    "        median_fitness = df.median(axis=0)\n",
    "        \n",
    "        line1, = axes[0].plot(mean_fitness.index, mean_fitness.values, label=config_name)\n",
    "        axes[1].plot(median_fitness.index, median_fitness.values, label=config_name)\n",
    "\n",
    "        handles.append(line1)\n",
    "        labels.append(config_name)\n",
    "\n",
    "    axes[0].set_title(\"Mean Fitness Across Generations\")\n",
    "    axes[1].set_title(\"Median Fitness Across Generations\")\n",
    "\n",
    "    for ax in axes:\n",
    "        ax.set_xlabel(\"Generation\")\n",
    "        ax.set_ylabel(\"Fitness\")\n",
    "        ax.grid(True)\n",
    "\n",
    "    # Shared boxed legend below\n",
    "    legend = fig.legend(\n",
    "        handles,\n",
    "        labels,\n",
    "        loc='lower center',\n",
    "        bbox_to_anchor=(0.5, -0.15),\n",
    "        ncol=2,\n",
    "        frameon=True,\n",
    "        borderpad=1\n",
    "    )\n",
    "\n",
    "    plt.tight_layout()\n",
    "    plt.subplots_adjust(bottom=0.25)\n",
    "    plt.show()"
   ]
  },
  {
   "cell_type": "code",
   "execution_count": null,
   "id": "b7682662",
   "metadata": {},
   "outputs": [],
   "source": [
    "fitness_dfs.pop(\"standard_crossover_with_position_repair0.8_role_shuffle_mutation0.2_elitism=False\", None)\n"
   ]
  },
  {
   "cell_type": "code",
   "execution_count": null,
   "id": "b7f0486a",
   "metadata": {},
   "outputs": [],
   "source": [
    "plot_fitness_over_gen(fitness_dfs)"
   ]
  },
  {
   "cell_type": "markdown",
   "id": "2e2187e7",
   "metadata": {},
   "source": [
    "### Isolating the Impact of Crossover and Mutation"
   ]
  },
  {
   "cell_type": "code",
   "execution_count": null,
   "id": "359992c6",
   "metadata": {},
   "outputs": [],
   "source": [
    "crossover_names = [\"standard_crossover_with_position_repair\", \"crossover_by_position_dual\"]\n",
    "mutation_names = [\"player_role_left_shift_mutation\", \"player_swap_mutation\",\"role_shuffle_mutation\"]\n",
    "\n",
    "crossover_fit_dfs = {}\n",
    "mutation_fit_dfs = {}\n",
    "\n",
    "# Combine all isolated runs using a given crossover\n",
    "for crossover_name in crossover_names:\n",
    "    dfs_to_concat = []\n",
    "    for df_name, df in fitness_dfs.items():\n",
    "        if crossover_name in df_name:\n",
    "            dfs_to_concat.append(df)\n",
    "\n",
    "    crossover_fit_dfs[crossover_name] = pd.concat(dfs_to_concat, axis=0).reset_index(drop=True)\n",
    "\n",
    "# Combine all isolated runs using a given mutation\n",
    "for mutation_name in mutation_names:\n",
    "    dfs_to_concat = []\n",
    "    for df_name, df in fitness_dfs.items():\n",
    "        if mutation_name in df_name:\n",
    "            dfs_to_concat.append(df)\n",
    "    mutation_fit_dfs[mutation_name] = pd.concat(dfs_to_concat, axis=0).reset_index(drop=True)\n"
   ]
  },
  {
   "cell_type": "code",
   "execution_count": null,
   "id": "a1d3bdb0",
   "metadata": {},
   "outputs": [],
   "source": [
    "fig, axes = plt.subplots(1, 2, figsize=(14, 6), sharey=True)\n",
    "\n",
    "# Plot crossover results\n",
    "for name, df in crossover_fit_dfs.items():\n",
    "    mean_fitness = df.median(axis=0)\n",
    "    axes[0].plot(mean_fitness.index, mean_fitness.values, label=name)\n",
    "\n",
    "axes[0].set_title(\"Crossover Comparison\")\n",
    "axes[0].set_xlabel(\"Generation\")\n",
    "axes[0].set_ylabel(\"Fitness\")\n",
    "axes[0].legend(title=\"Crossover\")\n",
    "axes[0].grid(True)\n",
    "\n",
    "# Plot mutation results\n",
    "for name, df in mutation_fit_dfs.items():\n",
    "    mean_fitness = df.median(axis=0)\n",
    "    axes[1].plot(mean_fitness.index, mean_fitness.values, label=name)\n",
    "\n",
    "axes[1].set_title(\"Mutation Comparison\")\n",
    "axes[1].set_xlabel(\"Generation\")\n",
    "axes[1].legend(title=\"Mutation\")\n",
    "axes[1].grid(True)\n",
    "\n",
    "plt.tight_layout()\n",
    "plt.show()\n"
   ]
  },
  {
   "cell_type": "code",
   "execution_count": null,
   "id": "c30692d2",
   "metadata": {},
   "outputs": [],
   "source": [
    "crossover_names = [\"standard_crossover_with_position_repair\", \"crossover_by_position_dual\"]\n",
    "mutation_names = [\"player_role_left_shift_mutation\", \"player_swap_mutation\",\"role_shuffle_mutation\"]\n",
    "\n",
    "crossover_medians = {k: [] for k in crossover_names}\n",
    "mutation_medians = {k: [] for k in mutation_names}\n",
    "\n",
    "for df_name, df in fitness_dfs.items():\n",
    "    for crossover_name in crossover_names:\n",
    "        if crossover_name in df_name:\n",
    "            # Calculate median best fitness over generations for configuration using this crossover\n",
    "            crossover_medians[crossover_name].append(df.median(axis=0).values)\n",
    "    for mutation_name in mutation_names:\n",
    "        if mutation_name in df_name:\n",
    "            # Calculate median best fitness over generations for configuration using this mutation\n",
    "            mutation_medians[mutation_name].append(df.median(axis=0).values)\n",
    "\n",
    "# Compute final median curves (median of medians across configurations)\n",
    "crossover_curves = {k: np.median(v, axis=0) for k, v in crossover_medians.items()}\n",
    "mutation_curves = {k: np.median(v, axis=0) for k, v in mutation_medians.items()}"
   ]
  },
  {
   "cell_type": "code",
   "execution_count": null,
   "id": "cff9eba3",
   "metadata": {},
   "outputs": [],
   "source": [
    "fig, axes = plt.subplots(1, 2, figsize=(14, 6), sharey=True)\n",
    "\n",
    "# Plot crossover\n",
    "for name, curve in crossover_curves.items():\n",
    "    axes[0].plot(range(len(curve)), curve, label=name)\n",
    "axes[0].set_title(\"Median Fitness by Crossover Operator\")\n",
    "axes[0].set_xlabel(\"Generation\")\n",
    "axes[0].set_ylabel(\"Fitness\")\n",
    "axes[0].legend(title=\"Crossover\")\n",
    "axes[0].grid(True)\n",
    "\n",
    "# Plot mutation\n",
    "for name, curve in mutation_curves.items():\n",
    "    axes[1].plot(range(len(curve)), curve, label=name)\n",
    "axes[1].set_title(\"Median Fitness by Mutation Operator\")\n",
    "axes[1].set_xlabel(\"Generation\")\n",
    "axes[1].legend(title=\"Mutation\")\n",
    "axes[1].grid(True)\n",
    "\n",
    "plt.tight_layout()\n",
    "plt.show()\n"
   ]
  },
  {
   "cell_type": "code",
   "execution_count": null,
   "id": "b4882abd",
   "metadata": {},
   "outputs": [],
   "source": [
    "grid_params = {\n",
    "    \"xo_prob\": [random.uniform(0, 1/3), random.uniform(1/3, 2/3), random.uniform(2/3, 1)],\n",
    "    \"mut_prob\": [random.uniform(0, 1/3), random.uniform(1/3, 2/3), random.uniform(2/3, 1)]\n",
    "}\n",
    "\n",
    "finetune_fitness_results = {}\n",
    "\n",
    "for xo_prob in grid_params[\"xo_prob\"]:\n",
    "    print(\"xo_prob =\", xo_prob)\n",
    "    for mut_prob in grid_params[\"mut_prob\"]:\n",
    "        print(\"mut_prob = \", mut_prob)\n",
    "        config_results = []\n",
    "\n",
    "        for run_nr in range(30):\n",
    "            print(\"run_nr =\", run_nr)\n",
    "            best_solution, _ = genetic_algorithm(\n",
    "                initial_population=[\n",
    "                SportsLeagueGASolution(\n",
    "                    mutation_function=mutation_function,\n",
    "                    crossover_function=crossover_function\n",
    "                ) for _ in range(POP_SIZE)\n",
    "                ],\n",
    "                max_gen=GENERATIONS,\n",
    "                selection_algorithm=ranking_selection,\n",
    "                xo_prob=xo_prob,\n",
    "                mut_prob=mut_prob,\n",
    "                elitism=True\n",
    "            )\n",
    "            config_results.append(best_solution.fitness())\n",
    "\n",
    "        # Create a label for the config\n",
    "        config_label = f\"xo_prob={round(xo_prob, 2)}_mut_prob={round(mut_prob, 2)}\"\n",
    "        print(config_label)\n",
    "    \n",
    "        finetune_fitness_results[config_label] = config_results"
   ]
  },
  {
   "cell_type": "code",
   "execution_count": null,
   "id": "a4aeaeaf",
   "metadata": {},
   "outputs": [],
   "source": [
    "import seaborn as sns"
   ]
  },
  {
   "cell_type": "code",
   "execution_count": null,
   "id": "e4de69ef",
   "metadata": {},
   "outputs": [],
   "source": [
    "# Convert the results into a long-format DataFrame for Seaborn\n",
    "data = []\n",
    "for config_label, fitness_values in finetune_fitness_results.items():\n",
    "    for value in fitness_values:\n",
    "        data.append({\n",
    "            'value': value,\n",
    "            'group': config_label\n",
    "        })\n",
    "\n",
    "df_long = pd.DataFrame(data)\n",
    "\n",
    "# Set a beautiful theme using Seaborn\n",
    "sns.set_theme(style=\"whitegrid\", palette=\"pastel\", font_scale=1.2)\n",
    "\n",
    "# Create the plot\n",
    "plt.figure(figsize=(12, 8))\n",
    "ax = sns.boxplot(x='group', y='value', data=df_long, width=0.5, linewidth=2.5, fliersize=4)\n",
    "\n",
    "# Titles and labels\n",
    "plt.title('Finetuning results (xo_prob and mut_prob)', fontsize=16)\n",
    "plt.ylabel('Fitness of best found individual', fontsize=14)\n",
    "plt.xticks(rotation=90)\n",
    "plt.grid(True, axis='y', linestyle='--', alpha=0.6)\n",
    "\n",
    "plt.tight_layout()\n",
    "plt.show()\n"
   ]
  },
  {
   "cell_type": "code",
   "execution_count": null,
   "id": "5e744cda",
   "metadata": {},
   "outputs": [],
   "source": []
  },
  {
   "cell_type": "code",
   "execution_count": null,
   "id": "3c934ed7",
   "metadata": {},
   "outputs": [],
   "source": []
  }
 ],
 "metadata": {
  "kernelspec": {
   "display_name": "base",
   "language": "python",
   "name": "python3"
  },
  "language_info": {
   "codemirror_mode": {
    "name": "ipython",
    "version": 3
   },
   "file_extension": ".py",
   "mimetype": "text/x-python",
   "name": "python",
   "nbconvert_exporter": "python",
   "pygments_lexer": "ipython3",
   "version": "3.12.7"
  }
 },
 "nbformat": 4,
 "nbformat_minor": 5
}
